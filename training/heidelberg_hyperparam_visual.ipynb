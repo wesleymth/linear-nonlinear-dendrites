{
 "cells": [
  {
   "cell_type": "code",
   "execution_count": 131,
   "metadata": {},
   "outputs": [],
   "source": [
    "import os\n",
    "from copy import deepcopy\n",
    "\n",
    "import pandas as pd\n",
    "import matplotlib.pyplot as plt\n",
    "import matplotlib.gridspec as gs\n",
    "from matplotlib.patheffects import Normal, Stroke\n",
    "import numpy as np\n",
    "import seaborn as sns\n",
    "from ezephys import pltools\n",
    "\n",
    "import heidelberg"
   ]
  },
  {
   "cell_type": "markdown",
   "metadata": {},
   "source": [
    "## General informations about the data"
   ]
  },
  {
   "cell_type": "code",
   "execution_count": 132,
   "metadata": {},
   "outputs": [],
   "source": [
    "run_names = ['run_1_15_08_22', \n",
    "             'run_2_16_08_22', \n",
    "             'run_3_18_08_22', \n",
    "             'run_4_22_08_22', \n",
    "             'run_5_24_08_22', \n",
    "             'run_6_26_08_22', \n",
    "             'run_7_29_08_22',\n",
    "             'run_8_30_08_22',\n",
    "             'run_9_01_09_22']\n",
    "\n",
    "hyper_params = {\n",
    "    'batch size' : [256, 256, 128, 128, 128, 128, 64, 128, 128], # Insert here\n",
    "    'learning rate' : [2e-3,1e-3,2e-3,1e-3,1e-3,1e-3,1e-3,1e-3,1e-3], # Insert here\n",
    "    'number of hidden units' : [200,200,200,200,300,400,300,50,150] # Insert here\n",
    "}\n",
    "\n",
    "number_of_seeds = 10\n",
    "save = True\n",
    "titles = False\n",
    "test_used = 'Wilcoxon' # 't-test_welch'\n",
    "dpi = 600\n",
    "one_palette_for_all = 'Set1_r'\n",
    "train_or_test = 'test' # 'test"
   ]
  },
  {
   "cell_type": "code",
   "execution_count": 133,
   "metadata": {},
   "outputs": [
    {
     "data": {
      "text/html": [
       "<div>\n",
       "<style scoped>\n",
       "    .dataframe tbody tr th:only-of-type {\n",
       "        vertical-align: middle;\n",
       "    }\n",
       "\n",
       "    .dataframe tbody tr th {\n",
       "        vertical-align: top;\n",
       "    }\n",
       "\n",
       "    .dataframe thead th {\n",
       "        text-align: right;\n",
       "    }\n",
       "</style>\n",
       "<table border=\"1\" class=\"dataframe\">\n",
       "  <thead>\n",
       "    <tr style=\"text-align: right;\">\n",
       "      <th></th>\n",
       "      <th>batch size</th>\n",
       "      <th>learning rate</th>\n",
       "      <th>number of hidden units</th>\n",
       "      <th>hyper parameter combination</th>\n",
       "    </tr>\n",
       "  </thead>\n",
       "  <tbody>\n",
       "    <tr>\n",
       "      <th>0</th>\n",
       "      <td>256</td>\n",
       "      <td>0.002</td>\n",
       "      <td>200</td>\n",
       "      <td>1</td>\n",
       "    </tr>\n",
       "    <tr>\n",
       "      <th>1</th>\n",
       "      <td>256</td>\n",
       "      <td>0.001</td>\n",
       "      <td>200</td>\n",
       "      <td>2</td>\n",
       "    </tr>\n",
       "    <tr>\n",
       "      <th>2</th>\n",
       "      <td>128</td>\n",
       "      <td>0.002</td>\n",
       "      <td>200</td>\n",
       "      <td>3</td>\n",
       "    </tr>\n",
       "    <tr>\n",
       "      <th>3</th>\n",
       "      <td>128</td>\n",
       "      <td>0.001</td>\n",
       "      <td>200</td>\n",
       "      <td>4</td>\n",
       "    </tr>\n",
       "    <tr>\n",
       "      <th>4</th>\n",
       "      <td>128</td>\n",
       "      <td>0.001</td>\n",
       "      <td>300</td>\n",
       "      <td>5</td>\n",
       "    </tr>\n",
       "    <tr>\n",
       "      <th>5</th>\n",
       "      <td>128</td>\n",
       "      <td>0.001</td>\n",
       "      <td>400</td>\n",
       "      <td>6</td>\n",
       "    </tr>\n",
       "    <tr>\n",
       "      <th>6</th>\n",
       "      <td>64</td>\n",
       "      <td>0.001</td>\n",
       "      <td>300</td>\n",
       "      <td>7</td>\n",
       "    </tr>\n",
       "    <tr>\n",
       "      <th>7</th>\n",
       "      <td>128</td>\n",
       "      <td>0.001</td>\n",
       "      <td>50</td>\n",
       "      <td>8</td>\n",
       "    </tr>\n",
       "    <tr>\n",
       "      <th>8</th>\n",
       "      <td>128</td>\n",
       "      <td>0.001</td>\n",
       "      <td>150</td>\n",
       "      <td>9</td>\n",
       "    </tr>\n",
       "  </tbody>\n",
       "</table>\n",
       "</div>"
      ],
      "text/plain": [
       "   batch size  learning rate  number of hidden units  \\\n",
       "0         256          0.002                     200   \n",
       "1         256          0.001                     200   \n",
       "2         128          0.002                     200   \n",
       "3         128          0.001                     200   \n",
       "4         128          0.001                     300   \n",
       "5         128          0.001                     400   \n",
       "6          64          0.001                     300   \n",
       "7         128          0.001                      50   \n",
       "8         128          0.001                     150   \n",
       "\n",
       "   hyper parameter combination  \n",
       "0                            1  \n",
       "1                            2  \n",
       "2                            3  \n",
       "3                            4  \n",
       "4                            5  \n",
       "5                            6  \n",
       "6                            7  \n",
       "7                            8  \n",
       "8                            9  "
      ]
     },
     "execution_count": 133,
     "metadata": {},
     "output_type": "execute_result"
    }
   ],
   "source": [
    "hp = pd.DataFrame(hyper_params)\n",
    "\n",
    "hp['hyper parameter combination'] = range(9)\n",
    "hp['hyper parameter combination'] += 1\n",
    "\n",
    "hp"
   ]
  },
  {
   "cell_type": "markdown",
   "metadata": {},
   "source": [
    "# Functions taken from `heidelberg-results.ipynb`:\n",
    "\n",
    "### Lets us extract the training and testing performances from the generated data of a single run with multiple seeds of the `heidelberg.py` experiment."
   ]
  },
  {
   "cell_type": "code",
   "execution_count": 134,
   "metadata": {},
   "outputs": [],
   "source": [
    "def load_training_performance(run_name:str, number_of_seeds:int)->pd.DataFrame:\n",
    "    \"\"\"Lets us extract the training performances from the generated data of a single run with multiple seeds\n",
    "\n",
    "    Parameters\n",
    "    ----------\n",
    "    run_name : str\n",
    "        The name of the directory which is already in '../data' folder, containing the outputs of the heidelberg.py experiment.\n",
    "    number_of_seeds : int\n",
    "        How many different initialization were used.\n",
    "\n",
    "    Returns\n",
    "    -------\n",
    "    pd.DataFrame\n",
    "        The training performance.\n",
    "    \"\"\"\n",
    "    DATA_FILE_PREFIX = os.path.join('..', 'data', run_name, 'heidelberg_training_results_')\n",
    "\n",
    "    performance = []\n",
    "\n",
    "    for i in range(number_of_seeds):\n",
    "        single_seed_performance = pd.read_csv(DATA_FILE_PREFIX + str(i) + '.csv')\n",
    "        single_seed_performance['seed'] = i\n",
    "\n",
    "        performance.append(single_seed_performance)\n",
    "    \n",
    "    performance = pd.concat(performance).reset_index(drop=True) # return pd.concat(performance).reset_index(drop=True)\n",
    "\n",
    "    train_data = performance.query('epoch in [0, 199]').copy()\n",
    "    train_data.loc[:, 'time'] = train_data.epoch.astype(str)\n",
    "    train_data.replace('0', 'initial', inplace=True)\n",
    "    train_data.replace('199', 'final', inplace=True)\n",
    "    train_data.reset_index(drop=True, inplace=True)\n",
    "\n",
    "\n",
    "    return train_data\n",
    "\n",
    "# train_plot_data = performance.query('epoch in [0, 199]').copy()\n",
    "# train_plot_data.loc[:, 'Epoch'] = train_plot_data.epoch.astype(str)\n",
    "# train_plot_data.replace('0', 'Before training', inplace=True)\n",
    "# train_plot_data.replace('199', 'After training', inplace=True)"
   ]
  },
  {
   "cell_type": "code",
   "execution_count": 135,
   "metadata": {},
   "outputs": [
    {
     "data": {
      "text/html": [
       "<div>\n",
       "<style scoped>\n",
       "    .dataframe tbody tr th:only-of-type {\n",
       "        vertical-align: middle;\n",
       "    }\n",
       "\n",
       "    .dataframe tbody tr th {\n",
       "        vertical-align: top;\n",
       "    }\n",
       "\n",
       "    .dataframe thead th {\n",
       "        text-align: right;\n",
       "    }\n",
       "</style>\n",
       "<table border=\"1\" class=\"dataframe\">\n",
       "  <thead>\n",
       "    <tr style=\"text-align: right;\">\n",
       "      <th></th>\n",
       "      <th>model_name</th>\n",
       "      <th>epoch</th>\n",
       "      <th>loss</th>\n",
       "      <th>accuracy</th>\n",
       "      <th>seed</th>\n",
       "      <th>time</th>\n",
       "    </tr>\n",
       "  </thead>\n",
       "  <tbody>\n",
       "    <tr>\n",
       "      <th>0</th>\n",
       "      <td>One compartment</td>\n",
       "      <td>0</td>\n",
       "      <td>2.964670</td>\n",
       "      <td>0.103423</td>\n",
       "      <td>0</td>\n",
       "      <td>initial</td>\n",
       "    </tr>\n",
       "    <tr>\n",
       "      <th>1</th>\n",
       "      <td>One compartment</td>\n",
       "      <td>199</td>\n",
       "      <td>0.115594</td>\n",
       "      <td>0.971478</td>\n",
       "      <td>0</td>\n",
       "      <td>final</td>\n",
       "    </tr>\n",
       "    <tr>\n",
       "      <th>2</th>\n",
       "      <td>No BAP</td>\n",
       "      <td>0</td>\n",
       "      <td>8.933520</td>\n",
       "      <td>0.111111</td>\n",
       "      <td>0</td>\n",
       "      <td>initial</td>\n",
       "    </tr>\n",
       "    <tr>\n",
       "      <th>3</th>\n",
       "      <td>No BAP</td>\n",
       "      <td>199</td>\n",
       "      <td>0.031856</td>\n",
       "      <td>0.991691</td>\n",
       "      <td>0</td>\n",
       "      <td>final</td>\n",
       "    </tr>\n",
       "    <tr>\n",
       "      <th>4</th>\n",
       "      <td>BAP</td>\n",
       "      <td>0</td>\n",
       "      <td>5.025428</td>\n",
       "      <td>0.103795</td>\n",
       "      <td>0</td>\n",
       "      <td>initial</td>\n",
       "    </tr>\n",
       "    <tr>\n",
       "      <th>5</th>\n",
       "      <td>BAP</td>\n",
       "      <td>199</td>\n",
       "      <td>0.003486</td>\n",
       "      <td>1.000000</td>\n",
       "      <td>0</td>\n",
       "      <td>final</td>\n",
       "    </tr>\n",
       "    <tr>\n",
       "      <th>6</th>\n",
       "      <td>One compartment</td>\n",
       "      <td>0</td>\n",
       "      <td>2.980087</td>\n",
       "      <td>0.104167</td>\n",
       "      <td>1</td>\n",
       "      <td>initial</td>\n",
       "    </tr>\n",
       "    <tr>\n",
       "      <th>7</th>\n",
       "      <td>One compartment</td>\n",
       "      <td>199</td>\n",
       "      <td>0.098330</td>\n",
       "      <td>0.977679</td>\n",
       "      <td>1</td>\n",
       "      <td>final</td>\n",
       "    </tr>\n",
       "    <tr>\n",
       "      <th>8</th>\n",
       "      <td>No BAP</td>\n",
       "      <td>0</td>\n",
       "      <td>7.796002</td>\n",
       "      <td>0.125248</td>\n",
       "      <td>1</td>\n",
       "      <td>initial</td>\n",
       "    </tr>\n",
       "    <tr>\n",
       "      <th>9</th>\n",
       "      <td>No BAP</td>\n",
       "      <td>199</td>\n",
       "      <td>0.006112</td>\n",
       "      <td>0.999504</td>\n",
       "      <td>1</td>\n",
       "      <td>final</td>\n",
       "    </tr>\n",
       "    <tr>\n",
       "      <th>10</th>\n",
       "      <td>BAP</td>\n",
       "      <td>0</td>\n",
       "      <td>10.805194</td>\n",
       "      <td>0.103423</td>\n",
       "      <td>1</td>\n",
       "      <td>initial</td>\n",
       "    </tr>\n",
       "    <tr>\n",
       "      <th>11</th>\n",
       "      <td>BAP</td>\n",
       "      <td>199</td>\n",
       "      <td>0.004604</td>\n",
       "      <td>1.000000</td>\n",
       "      <td>1</td>\n",
       "      <td>final</td>\n",
       "    </tr>\n",
       "    <tr>\n",
       "      <th>12</th>\n",
       "      <td>One compartment</td>\n",
       "      <td>0</td>\n",
       "      <td>2.969478</td>\n",
       "      <td>0.099082</td>\n",
       "      <td>2</td>\n",
       "      <td>initial</td>\n",
       "    </tr>\n",
       "    <tr>\n",
       "      <th>13</th>\n",
       "      <td>One compartment</td>\n",
       "      <td>199</td>\n",
       "      <td>0.117314</td>\n",
       "      <td>0.972222</td>\n",
       "      <td>2</td>\n",
       "      <td>final</td>\n",
       "    </tr>\n",
       "    <tr>\n",
       "      <th>14</th>\n",
       "      <td>No BAP</td>\n",
       "      <td>0</td>\n",
       "      <td>5.392236</td>\n",
       "      <td>0.118056</td>\n",
       "      <td>2</td>\n",
       "      <td>initial</td>\n",
       "    </tr>\n",
       "    <tr>\n",
       "      <th>15</th>\n",
       "      <td>No BAP</td>\n",
       "      <td>199</td>\n",
       "      <td>0.037678</td>\n",
       "      <td>0.991567</td>\n",
       "      <td>2</td>\n",
       "      <td>final</td>\n",
       "    </tr>\n",
       "    <tr>\n",
       "      <th>16</th>\n",
       "      <td>BAP</td>\n",
       "      <td>0</td>\n",
       "      <td>4.822500</td>\n",
       "      <td>0.108879</td>\n",
       "      <td>2</td>\n",
       "      <td>initial</td>\n",
       "    </tr>\n",
       "    <tr>\n",
       "      <th>17</th>\n",
       "      <td>BAP</td>\n",
       "      <td>199</td>\n",
       "      <td>0.008443</td>\n",
       "      <td>0.999504</td>\n",
       "      <td>2</td>\n",
       "      <td>final</td>\n",
       "    </tr>\n",
       "    <tr>\n",
       "      <th>18</th>\n",
       "      <td>One compartment</td>\n",
       "      <td>0</td>\n",
       "      <td>2.916957</td>\n",
       "      <td>0.120536</td>\n",
       "      <td>3</td>\n",
       "      <td>initial</td>\n",
       "    </tr>\n",
       "    <tr>\n",
       "      <th>19</th>\n",
       "      <td>One compartment</td>\n",
       "      <td>199</td>\n",
       "      <td>0.104367</td>\n",
       "      <td>0.974330</td>\n",
       "      <td>3</td>\n",
       "      <td>final</td>\n",
       "    </tr>\n",
       "    <tr>\n",
       "      <th>20</th>\n",
       "      <td>No BAP</td>\n",
       "      <td>0</td>\n",
       "      <td>4.451368</td>\n",
       "      <td>0.083953</td>\n",
       "      <td>3</td>\n",
       "      <td>initial</td>\n",
       "    </tr>\n",
       "    <tr>\n",
       "      <th>21</th>\n",
       "      <td>No BAP</td>\n",
       "      <td>199</td>\n",
       "      <td>0.002590</td>\n",
       "      <td>1.000000</td>\n",
       "      <td>3</td>\n",
       "      <td>final</td>\n",
       "    </tr>\n",
       "    <tr>\n",
       "      <th>22</th>\n",
       "      <td>BAP</td>\n",
       "      <td>0</td>\n",
       "      <td>7.215094</td>\n",
       "      <td>0.101811</td>\n",
       "      <td>3</td>\n",
       "      <td>initial</td>\n",
       "    </tr>\n",
       "    <tr>\n",
       "      <th>23</th>\n",
       "      <td>BAP</td>\n",
       "      <td>199</td>\n",
       "      <td>0.012498</td>\n",
       "      <td>0.998760</td>\n",
       "      <td>3</td>\n",
       "      <td>final</td>\n",
       "    </tr>\n",
       "    <tr>\n",
       "      <th>24</th>\n",
       "      <td>One compartment</td>\n",
       "      <td>0</td>\n",
       "      <td>2.957621</td>\n",
       "      <td>0.124628</td>\n",
       "      <td>4</td>\n",
       "      <td>initial</td>\n",
       "    </tr>\n",
       "    <tr>\n",
       "      <th>25</th>\n",
       "      <td>One compartment</td>\n",
       "      <td>199</td>\n",
       "      <td>0.115513</td>\n",
       "      <td>0.971106</td>\n",
       "      <td>4</td>\n",
       "      <td>final</td>\n",
       "    </tr>\n",
       "    <tr>\n",
       "      <th>26</th>\n",
       "      <td>No BAP</td>\n",
       "      <td>0</td>\n",
       "      <td>4.473243</td>\n",
       "      <td>0.108011</td>\n",
       "      <td>4</td>\n",
       "      <td>initial</td>\n",
       "    </tr>\n",
       "    <tr>\n",
       "      <th>27</th>\n",
       "      <td>No BAP</td>\n",
       "      <td>199</td>\n",
       "      <td>0.006959</td>\n",
       "      <td>0.999752</td>\n",
       "      <td>4</td>\n",
       "      <td>final</td>\n",
       "    </tr>\n",
       "    <tr>\n",
       "      <th>28</th>\n",
       "      <td>BAP</td>\n",
       "      <td>0</td>\n",
       "      <td>7.399883</td>\n",
       "      <td>0.156126</td>\n",
       "      <td>4</td>\n",
       "      <td>initial</td>\n",
       "    </tr>\n",
       "    <tr>\n",
       "      <th>29</th>\n",
       "      <td>BAP</td>\n",
       "      <td>199</td>\n",
       "      <td>0.002431</td>\n",
       "      <td>1.000000</td>\n",
       "      <td>4</td>\n",
       "      <td>final</td>\n",
       "    </tr>\n",
       "    <tr>\n",
       "      <th>30</th>\n",
       "      <td>One compartment</td>\n",
       "      <td>0</td>\n",
       "      <td>2.941542</td>\n",
       "      <td>0.103423</td>\n",
       "      <td>5</td>\n",
       "      <td>initial</td>\n",
       "    </tr>\n",
       "    <tr>\n",
       "      <th>31</th>\n",
       "      <td>One compartment</td>\n",
       "      <td>199</td>\n",
       "      <td>0.103480</td>\n",
       "      <td>0.976438</td>\n",
       "      <td>5</td>\n",
       "      <td>final</td>\n",
       "    </tr>\n",
       "    <tr>\n",
       "      <th>32</th>\n",
       "      <td>No BAP</td>\n",
       "      <td>0</td>\n",
       "      <td>6.761213</td>\n",
       "      <td>0.102555</td>\n",
       "      <td>5</td>\n",
       "      <td>initial</td>\n",
       "    </tr>\n",
       "    <tr>\n",
       "      <th>33</th>\n",
       "      <td>No BAP</td>\n",
       "      <td>199</td>\n",
       "      <td>0.018193</td>\n",
       "      <td>0.996156</td>\n",
       "      <td>5</td>\n",
       "      <td>final</td>\n",
       "    </tr>\n",
       "    <tr>\n",
       "      <th>34</th>\n",
       "      <td>BAP</td>\n",
       "      <td>0</td>\n",
       "      <td>10.572281</td>\n",
       "      <td>0.102927</td>\n",
       "      <td>5</td>\n",
       "      <td>initial</td>\n",
       "    </tr>\n",
       "    <tr>\n",
       "      <th>35</th>\n",
       "      <td>BAP</td>\n",
       "      <td>199</td>\n",
       "      <td>0.003109</td>\n",
       "      <td>1.000000</td>\n",
       "      <td>5</td>\n",
       "      <td>final</td>\n",
       "    </tr>\n",
       "    <tr>\n",
       "      <th>36</th>\n",
       "      <td>One compartment</td>\n",
       "      <td>0</td>\n",
       "      <td>2.928731</td>\n",
       "      <td>0.116195</td>\n",
       "      <td>6</td>\n",
       "      <td>initial</td>\n",
       "    </tr>\n",
       "    <tr>\n",
       "      <th>37</th>\n",
       "      <td>One compartment</td>\n",
       "      <td>199</td>\n",
       "      <td>0.103293</td>\n",
       "      <td>0.975942</td>\n",
       "      <td>6</td>\n",
       "      <td>final</td>\n",
       "    </tr>\n",
       "    <tr>\n",
       "      <th>38</th>\n",
       "      <td>No BAP</td>\n",
       "      <td>0</td>\n",
       "      <td>8.346482</td>\n",
       "      <td>0.103423</td>\n",
       "      <td>6</td>\n",
       "      <td>initial</td>\n",
       "    </tr>\n",
       "    <tr>\n",
       "      <th>39</th>\n",
       "      <td>No BAP</td>\n",
       "      <td>199</td>\n",
       "      <td>0.003434</td>\n",
       "      <td>1.000000</td>\n",
       "      <td>6</td>\n",
       "      <td>final</td>\n",
       "    </tr>\n",
       "    <tr>\n",
       "      <th>40</th>\n",
       "      <td>BAP</td>\n",
       "      <td>0</td>\n",
       "      <td>5.840891</td>\n",
       "      <td>0.113219</td>\n",
       "      <td>6</td>\n",
       "      <td>initial</td>\n",
       "    </tr>\n",
       "    <tr>\n",
       "      <th>41</th>\n",
       "      <td>BAP</td>\n",
       "      <td>199</td>\n",
       "      <td>0.009672</td>\n",
       "      <td>0.999008</td>\n",
       "      <td>6</td>\n",
       "      <td>final</td>\n",
       "    </tr>\n",
       "    <tr>\n",
       "      <th>42</th>\n",
       "      <td>One compartment</td>\n",
       "      <td>0</td>\n",
       "      <td>2.977757</td>\n",
       "      <td>0.103671</td>\n",
       "      <td>7</td>\n",
       "      <td>initial</td>\n",
       "    </tr>\n",
       "    <tr>\n",
       "      <th>43</th>\n",
       "      <td>One compartment</td>\n",
       "      <td>199</td>\n",
       "      <td>0.100712</td>\n",
       "      <td>0.977803</td>\n",
       "      <td>7</td>\n",
       "      <td>final</td>\n",
       "    </tr>\n",
       "    <tr>\n",
       "      <th>44</th>\n",
       "      <td>No BAP</td>\n",
       "      <td>0</td>\n",
       "      <td>6.522255</td>\n",
       "      <td>0.070437</td>\n",
       "      <td>7</td>\n",
       "      <td>initial</td>\n",
       "    </tr>\n",
       "    <tr>\n",
       "      <th>45</th>\n",
       "      <td>No BAP</td>\n",
       "      <td>199</td>\n",
       "      <td>0.008143</td>\n",
       "      <td>0.999876</td>\n",
       "      <td>7</td>\n",
       "      <td>final</td>\n",
       "    </tr>\n",
       "    <tr>\n",
       "      <th>46</th>\n",
       "      <td>BAP</td>\n",
       "      <td>0</td>\n",
       "      <td>8.114198</td>\n",
       "      <td>0.110367</td>\n",
       "      <td>7</td>\n",
       "      <td>initial</td>\n",
       "    </tr>\n",
       "    <tr>\n",
       "      <th>47</th>\n",
       "      <td>BAP</td>\n",
       "      <td>199</td>\n",
       "      <td>0.014042</td>\n",
       "      <td>0.997396</td>\n",
       "      <td>7</td>\n",
       "      <td>final</td>\n",
       "    </tr>\n",
       "    <tr>\n",
       "      <th>48</th>\n",
       "      <td>One compartment</td>\n",
       "      <td>0</td>\n",
       "      <td>2.908368</td>\n",
       "      <td>0.123884</td>\n",
       "      <td>8</td>\n",
       "      <td>initial</td>\n",
       "    </tr>\n",
       "    <tr>\n",
       "      <th>49</th>\n",
       "      <td>One compartment</td>\n",
       "      <td>199</td>\n",
       "      <td>0.096258</td>\n",
       "      <td>0.977803</td>\n",
       "      <td>8</td>\n",
       "      <td>final</td>\n",
       "    </tr>\n",
       "    <tr>\n",
       "      <th>50</th>\n",
       "      <td>No BAP</td>\n",
       "      <td>0</td>\n",
       "      <td>11.258836</td>\n",
       "      <td>0.100322</td>\n",
       "      <td>8</td>\n",
       "      <td>initial</td>\n",
       "    </tr>\n",
       "    <tr>\n",
       "      <th>51</th>\n",
       "      <td>No BAP</td>\n",
       "      <td>199</td>\n",
       "      <td>0.007509</td>\n",
       "      <td>0.999380</td>\n",
       "      <td>8</td>\n",
       "      <td>final</td>\n",
       "    </tr>\n",
       "    <tr>\n",
       "      <th>52</th>\n",
       "      <td>BAP</td>\n",
       "      <td>0</td>\n",
       "      <td>5.276363</td>\n",
       "      <td>0.111731</td>\n",
       "      <td>8</td>\n",
       "      <td>initial</td>\n",
       "    </tr>\n",
       "    <tr>\n",
       "      <th>53</th>\n",
       "      <td>BAP</td>\n",
       "      <td>199</td>\n",
       "      <td>0.008271</td>\n",
       "      <td>0.999504</td>\n",
       "      <td>8</td>\n",
       "      <td>final</td>\n",
       "    </tr>\n",
       "    <tr>\n",
       "      <th>54</th>\n",
       "      <td>One compartment</td>\n",
       "      <td>0</td>\n",
       "      <td>2.958193</td>\n",
       "      <td>0.099826</td>\n",
       "      <td>9</td>\n",
       "      <td>initial</td>\n",
       "    </tr>\n",
       "    <tr>\n",
       "      <th>55</th>\n",
       "      <td>One compartment</td>\n",
       "      <td>199</td>\n",
       "      <td>0.123496</td>\n",
       "      <td>0.970610</td>\n",
       "      <td>9</td>\n",
       "      <td>final</td>\n",
       "    </tr>\n",
       "    <tr>\n",
       "      <th>56</th>\n",
       "      <td>No BAP</td>\n",
       "      <td>0</td>\n",
       "      <td>6.859780</td>\n",
       "      <td>0.106275</td>\n",
       "      <td>9</td>\n",
       "      <td>initial</td>\n",
       "    </tr>\n",
       "    <tr>\n",
       "      <th>57</th>\n",
       "      <td>No BAP</td>\n",
       "      <td>199</td>\n",
       "      <td>0.023218</td>\n",
       "      <td>0.994544</td>\n",
       "      <td>9</td>\n",
       "      <td>final</td>\n",
       "    </tr>\n",
       "    <tr>\n",
       "      <th>58</th>\n",
       "      <td>BAP</td>\n",
       "      <td>0</td>\n",
       "      <td>6.599258</td>\n",
       "      <td>0.120908</td>\n",
       "      <td>9</td>\n",
       "      <td>initial</td>\n",
       "    </tr>\n",
       "    <tr>\n",
       "      <th>59</th>\n",
       "      <td>BAP</td>\n",
       "      <td>199</td>\n",
       "      <td>0.006417</td>\n",
       "      <td>0.999504</td>\n",
       "      <td>9</td>\n",
       "      <td>final</td>\n",
       "    </tr>\n",
       "  </tbody>\n",
       "</table>\n",
       "</div>"
      ],
      "text/plain": [
       "         model_name  epoch       loss  accuracy  seed     time\n",
       "0   One compartment      0   2.964670  0.103423     0  initial\n",
       "1   One compartment    199   0.115594  0.971478     0    final\n",
       "2            No BAP      0   8.933520  0.111111     0  initial\n",
       "3            No BAP    199   0.031856  0.991691     0    final\n",
       "4               BAP      0   5.025428  0.103795     0  initial\n",
       "5               BAP    199   0.003486  1.000000     0    final\n",
       "6   One compartment      0   2.980087  0.104167     1  initial\n",
       "7   One compartment    199   0.098330  0.977679     1    final\n",
       "8            No BAP      0   7.796002  0.125248     1  initial\n",
       "9            No BAP    199   0.006112  0.999504     1    final\n",
       "10              BAP      0  10.805194  0.103423     1  initial\n",
       "11              BAP    199   0.004604  1.000000     1    final\n",
       "12  One compartment      0   2.969478  0.099082     2  initial\n",
       "13  One compartment    199   0.117314  0.972222     2    final\n",
       "14           No BAP      0   5.392236  0.118056     2  initial\n",
       "15           No BAP    199   0.037678  0.991567     2    final\n",
       "16              BAP      0   4.822500  0.108879     2  initial\n",
       "17              BAP    199   0.008443  0.999504     2    final\n",
       "18  One compartment      0   2.916957  0.120536     3  initial\n",
       "19  One compartment    199   0.104367  0.974330     3    final\n",
       "20           No BAP      0   4.451368  0.083953     3  initial\n",
       "21           No BAP    199   0.002590  1.000000     3    final\n",
       "22              BAP      0   7.215094  0.101811     3  initial\n",
       "23              BAP    199   0.012498  0.998760     3    final\n",
       "24  One compartment      0   2.957621  0.124628     4  initial\n",
       "25  One compartment    199   0.115513  0.971106     4    final\n",
       "26           No BAP      0   4.473243  0.108011     4  initial\n",
       "27           No BAP    199   0.006959  0.999752     4    final\n",
       "28              BAP      0   7.399883  0.156126     4  initial\n",
       "29              BAP    199   0.002431  1.000000     4    final\n",
       "30  One compartment      0   2.941542  0.103423     5  initial\n",
       "31  One compartment    199   0.103480  0.976438     5    final\n",
       "32           No BAP      0   6.761213  0.102555     5  initial\n",
       "33           No BAP    199   0.018193  0.996156     5    final\n",
       "34              BAP      0  10.572281  0.102927     5  initial\n",
       "35              BAP    199   0.003109  1.000000     5    final\n",
       "36  One compartment      0   2.928731  0.116195     6  initial\n",
       "37  One compartment    199   0.103293  0.975942     6    final\n",
       "38           No BAP      0   8.346482  0.103423     6  initial\n",
       "39           No BAP    199   0.003434  1.000000     6    final\n",
       "40              BAP      0   5.840891  0.113219     6  initial\n",
       "41              BAP    199   0.009672  0.999008     6    final\n",
       "42  One compartment      0   2.977757  0.103671     7  initial\n",
       "43  One compartment    199   0.100712  0.977803     7    final\n",
       "44           No BAP      0   6.522255  0.070437     7  initial\n",
       "45           No BAP    199   0.008143  0.999876     7    final\n",
       "46              BAP      0   8.114198  0.110367     7  initial\n",
       "47              BAP    199   0.014042  0.997396     7    final\n",
       "48  One compartment      0   2.908368  0.123884     8  initial\n",
       "49  One compartment    199   0.096258  0.977803     8    final\n",
       "50           No BAP      0  11.258836  0.100322     8  initial\n",
       "51           No BAP    199   0.007509  0.999380     8    final\n",
       "52              BAP      0   5.276363  0.111731     8  initial\n",
       "53              BAP    199   0.008271  0.999504     8    final\n",
       "54  One compartment      0   2.958193  0.099826     9  initial\n",
       "55  One compartment    199   0.123496  0.970610     9    final\n",
       "56           No BAP      0   6.859780  0.106275     9  initial\n",
       "57           No BAP    199   0.023218  0.994544     9    final\n",
       "58              BAP      0   6.599258  0.120908     9  initial\n",
       "59              BAP    199   0.006417  0.999504     9    final"
      ]
     },
     "execution_count": 135,
     "metadata": {},
     "output_type": "execute_result"
    }
   ],
   "source": [
    "r = load_training_performance(run_names[4],10)\n",
    "r\n"
   ]
  },
  {
   "cell_type": "code",
   "execution_count": 136,
   "metadata": {},
   "outputs": [],
   "source": [
    "def load_test_performance(run_name:str, number_of_seeds:int, do_mean_over_seeds:bool=False)->pd.DataFrame:\n",
    "    \"\"\"Lets us extract the training performances from the generated data of a single run with multiple seeds\n",
    "\n",
    "    Parameters\n",
    "    ----------\n",
    "    run_name : str\n",
    "        The name of the directory which is already in '../data' folder, containing the outputs of the heidelberg.py experiment.\n",
    "    number_of_seeds : int\n",
    "        How many different initialization were used.\n",
    "    do_mean_over_seeds : bool, optional\n",
    "        Wether you want to calculate the mean of the accuracies over each seed, by default False\n",
    "\n",
    "    Returns\n",
    "    -------\n",
    "    pd.DataFrame\n",
    "        The test performance.\n",
    "    \"\"\"\n",
    "    DATA_FILE_PREFIX = os.path.join('..', 'data', run_name, 'heidelberg_test_accuracy_')\n",
    "\n",
    "    test = []\n",
    "\n",
    "    for i in range(number_of_seeds):\n",
    "        single_seed_performance = pd.read_json(DATA_FILE_PREFIX + str(i) + '.json', orient='index')\n",
    "        single_seed_performance['seed'] = i\n",
    "\n",
    "        test.append(single_seed_performance)\n",
    "\n",
    "    test = pd.concat(test)\n",
    "    test['model_name'] = test.index\n",
    "    test.reset_index(drop=True, inplace=True)\n",
    "    test = test.melt(['model_name', 'seed'], ['initial', 'final'], var_name='time', value_name='accuracy')\n",
    "    if do_mean_over_seeds:\n",
    "        test = test.groupby(['model_name', 'time'], as_index=False).mean()\n",
    "    return test"
   ]
  },
  {
   "cell_type": "markdown",
   "metadata": {},
   "source": [
    "## Repaeted code put into functions "
   ]
  },
  {
   "cell_type": "code",
   "execution_count": 137,
   "metadata": {},
   "outputs": [],
   "source": [
    "\n",
    "from argparse import ArgumentError\n",
    "\n",
    "\n",
    "def get_best_run_data_for_each_model(df:pd.DataFrame)->pd.DataFrame:\n",
    "    \"\"\"Gets a dataframe with the accuracy over different seeds for the best hyper parameter combination of every model. \n",
    "\n",
    "    Parameters\n",
    "    ----------\n",
    "    df : pd.DataFrame\n",
    "        A data frame obtained by calling `get_concat_every_test_performance` containing all the searches (i.e. runs) to look through. \n",
    "\n",
    "    Returns\n",
    "    -------\n",
    "    pd.DataFrame\n",
    "        The best validation accuracies of all models for their best hyper parameter combination.\n",
    "    \"\"\"\n",
    "    df_only_final_accuracy = df[df.time == 'final']\n",
    "    df_mean_over_seeds = df_only_final_accuracy.groupby(['model_name', 'time', 'run_id'], as_index=False).mean()\n",
    "    best_run_performances = []\n",
    "    for model in df.model_name.unique():\n",
    "        df_mean_over_seeds_of_model = df_mean_over_seeds[df_mean_over_seeds.model_name==model]\n",
    "        max_accuracy_lign = df_mean_over_seeds_of_model.loc[df_mean_over_seeds_of_model['accuracy'].idxmax()]\n",
    "        best_run_id_for_model = max_accuracy_lign['run_id']\n",
    "        \n",
    "        df_model_name = df[df.model_name == model]\n",
    "        df_model_name_only_best_run = df_model_name[df_model_name.run_id == best_run_id_for_model]\n",
    "        best_run_performances.append(df_model_name_only_best_run)\n",
    "    \n",
    "    return pd.concat(best_run_performances)\n",
    "\n",
    "def get_concat_every_test_performance(run_names:str, nb_seeds:int, train_or_test:str='test')->pd.DataFrame:\n",
    "    \"\"\"Gets all the validation accuracies of all data generated by `heidelberg.py`\n",
    "\n",
    "    Parameters\n",
    "    ----------\n",
    "    run_names : str\n",
    "        The folder names containing the data generated possibly over different seeds.\n",
    "    nb_seeds : int\n",
    "        The number of seeds used for randomness. Equivalent to the sample size. \n",
    "    train_or_test : str\n",
    "        Wether to take the testing or the training accuracy. One of two choices `train` or  `test`. Defaults to `test`\n",
    "\n",
    "    Returns\n",
    "    -------\n",
    "    pd.DataFrame\n",
    "        All of the validation performances produced by `heidelberg.py`\n",
    "    \"\"\"\n",
    "    every_test_performance = []\n",
    "    for run_idx, run_name in enumerate(run_names):\n",
    "        if train_or_test == 'test':\n",
    "            single_test_performance = load_test_performance(run_name, nb_seeds, do_mean_over_seeds=False)\n",
    "        elif train_or_test == 'train':\n",
    "            single_test_performance = load_training_performance(run_name, nb_seeds)\n",
    "        else:\n",
    "            raise ArgumentError(message=f'Need to specify which performance to get. One of two: `test` or `train`.\\nGot {train_or_test}')\n",
    "        single_test_performance['run_id'] = run_idx+1\n",
    "        every_test_performance.append(single_test_performance)\n",
    "    return pd.concat(every_test_performance)"
   ]
  },
  {
   "cell_type": "markdown",
   "metadata": {},
   "source": [
    "## Generate a plot with the best testing perfomances for each model from every set of hyper parameters"
   ]
  },
  {
   "cell_type": "code",
   "execution_count": 138,
   "metadata": {},
   "outputs": [],
   "source": [
    "all_test_perf_pd = get_concat_every_test_performance(run_names, number_of_seeds, train_or_test=train_or_test)    \n",
    "data = get_best_run_data_for_each_model(all_test_perf_pd)"
   ]
  },
  {
   "cell_type": "code",
   "execution_count": 139,
   "metadata": {},
   "outputs": [],
   "source": [
    "from statannotations.Annotator import Annotator\n",
    "import statannotations"
   ]
  },
  {
   "cell_type": "code",
   "execution_count": 140,
   "metadata": {},
   "outputs": [
    {
     "data": {
      "text/html": [
       "<div>\n",
       "<style scoped>\n",
       "    .dataframe tbody tr th:only-of-type {\n",
       "        vertical-align: middle;\n",
       "    }\n",
       "\n",
       "    .dataframe tbody tr th {\n",
       "        vertical-align: top;\n",
       "    }\n",
       "\n",
       "    .dataframe thead th {\n",
       "        text-align: right;\n",
       "    }\n",
       "</style>\n",
       "<table border=\"1\" class=\"dataframe\">\n",
       "  <thead>\n",
       "    <tr style=\"text-align: right;\">\n",
       "      <th></th>\n",
       "      <th>model_name</th>\n",
       "      <th>epoch</th>\n",
       "      <th>loss</th>\n",
       "      <th>accuracy</th>\n",
       "      <th>seed</th>\n",
       "      <th>time</th>\n",
       "      <th>run_id</th>\n",
       "    </tr>\n",
       "  </thead>\n",
       "  <tbody>\n",
       "    <tr>\n",
       "      <th>0</th>\n",
       "      <td>One compartment</td>\n",
       "      <td>0</td>\n",
       "      <td>2.902492</td>\n",
       "      <td>0.127953</td>\n",
       "      <td>0</td>\n",
       "      <td>initial</td>\n",
       "      <td>7</td>\n",
       "    </tr>\n",
       "    <tr>\n",
       "      <th>1</th>\n",
       "      <td>One compartment</td>\n",
       "      <td>199</td>\n",
       "      <td>0.073829</td>\n",
       "      <td>0.982283</td>\n",
       "      <td>0</td>\n",
       "      <td>final</td>\n",
       "      <td>7</td>\n",
       "    </tr>\n",
       "    <tr>\n",
       "      <th>6</th>\n",
       "      <td>One compartment</td>\n",
       "      <td>0</td>\n",
       "      <td>2.931140</td>\n",
       "      <td>0.119956</td>\n",
       "      <td>1</td>\n",
       "      <td>initial</td>\n",
       "      <td>7</td>\n",
       "    </tr>\n",
       "    <tr>\n",
       "      <th>7</th>\n",
       "      <td>One compartment</td>\n",
       "      <td>199</td>\n",
       "      <td>0.072509</td>\n",
       "      <td>0.981914</td>\n",
       "      <td>1</td>\n",
       "      <td>final</td>\n",
       "      <td>7</td>\n",
       "    </tr>\n",
       "    <tr>\n",
       "      <th>12</th>\n",
       "      <td>One compartment</td>\n",
       "      <td>0</td>\n",
       "      <td>2.922742</td>\n",
       "      <td>0.113927</td>\n",
       "      <td>2</td>\n",
       "      <td>initial</td>\n",
       "      <td>7</td>\n",
       "    </tr>\n",
       "    <tr>\n",
       "      <th>13</th>\n",
       "      <td>One compartment</td>\n",
       "      <td>199</td>\n",
       "      <td>0.070809</td>\n",
       "      <td>0.984621</td>\n",
       "      <td>2</td>\n",
       "      <td>final</td>\n",
       "      <td>7</td>\n",
       "    </tr>\n",
       "    <tr>\n",
       "      <th>18</th>\n",
       "      <td>One compartment</td>\n",
       "      <td>0</td>\n",
       "      <td>2.935472</td>\n",
       "      <td>0.118356</td>\n",
       "      <td>3</td>\n",
       "      <td>initial</td>\n",
       "      <td>7</td>\n",
       "    </tr>\n",
       "    <tr>\n",
       "      <th>19</th>\n",
       "      <td>One compartment</td>\n",
       "      <td>199</td>\n",
       "      <td>0.061047</td>\n",
       "      <td>0.985236</td>\n",
       "      <td>3</td>\n",
       "      <td>final</td>\n",
       "      <td>7</td>\n",
       "    </tr>\n",
       "    <tr>\n",
       "      <th>24</th>\n",
       "      <td>One compartment</td>\n",
       "      <td>0</td>\n",
       "      <td>2.932381</td>\n",
       "      <td>0.108514</td>\n",
       "      <td>4</td>\n",
       "      <td>initial</td>\n",
       "      <td>7</td>\n",
       "    </tr>\n",
       "    <tr>\n",
       "      <th>25</th>\n",
       "      <td>One compartment</td>\n",
       "      <td>199</td>\n",
       "      <td>0.076207</td>\n",
       "      <td>0.982406</td>\n",
       "      <td>4</td>\n",
       "      <td>final</td>\n",
       "      <td>7</td>\n",
       "    </tr>\n",
       "    <tr>\n",
       "      <th>30</th>\n",
       "      <td>One compartment</td>\n",
       "      <td>0</td>\n",
       "      <td>2.885631</td>\n",
       "      <td>0.136442</td>\n",
       "      <td>5</td>\n",
       "      <td>initial</td>\n",
       "      <td>7</td>\n",
       "    </tr>\n",
       "    <tr>\n",
       "      <th>31</th>\n",
       "      <td>One compartment</td>\n",
       "      <td>199</td>\n",
       "      <td>0.079904</td>\n",
       "      <td>0.980438</td>\n",
       "      <td>5</td>\n",
       "      <td>final</td>\n",
       "      <td>7</td>\n",
       "    </tr>\n",
       "    <tr>\n",
       "      <th>36</th>\n",
       "      <td>One compartment</td>\n",
       "      <td>0</td>\n",
       "      <td>2.921740</td>\n",
       "      <td>0.114788</td>\n",
       "      <td>6</td>\n",
       "      <td>initial</td>\n",
       "      <td>7</td>\n",
       "    </tr>\n",
       "    <tr>\n",
       "      <th>37</th>\n",
       "      <td>One compartment</td>\n",
       "      <td>199</td>\n",
       "      <td>0.062997</td>\n",
       "      <td>0.985482</td>\n",
       "      <td>6</td>\n",
       "      <td>final</td>\n",
       "      <td>7</td>\n",
       "    </tr>\n",
       "    <tr>\n",
       "      <th>42</th>\n",
       "      <td>One compartment</td>\n",
       "      <td>0</td>\n",
       "      <td>2.940165</td>\n",
       "      <td>0.109990</td>\n",
       "      <td>7</td>\n",
       "      <td>initial</td>\n",
       "      <td>7</td>\n",
       "    </tr>\n",
       "    <tr>\n",
       "      <th>43</th>\n",
       "      <td>One compartment</td>\n",
       "      <td>199</td>\n",
       "      <td>0.083351</td>\n",
       "      <td>0.978100</td>\n",
       "      <td>7</td>\n",
       "      <td>final</td>\n",
       "      <td>7</td>\n",
       "    </tr>\n",
       "    <tr>\n",
       "      <th>48</th>\n",
       "      <td>One compartment</td>\n",
       "      <td>0</td>\n",
       "      <td>2.905859</td>\n",
       "      <td>0.127707</td>\n",
       "      <td>8</td>\n",
       "      <td>initial</td>\n",
       "      <td>7</td>\n",
       "    </tr>\n",
       "    <tr>\n",
       "      <th>49</th>\n",
       "      <td>One compartment</td>\n",
       "      <td>199</td>\n",
       "      <td>0.081000</td>\n",
       "      <td>0.981176</td>\n",
       "      <td>8</td>\n",
       "      <td>final</td>\n",
       "      <td>7</td>\n",
       "    </tr>\n",
       "    <tr>\n",
       "      <th>54</th>\n",
       "      <td>One compartment</td>\n",
       "      <td>0</td>\n",
       "      <td>2.941558</td>\n",
       "      <td>0.117495</td>\n",
       "      <td>9</td>\n",
       "      <td>initial</td>\n",
       "      <td>7</td>\n",
       "    </tr>\n",
       "    <tr>\n",
       "      <th>55</th>\n",
       "      <td>One compartment</td>\n",
       "      <td>199</td>\n",
       "      <td>0.084776</td>\n",
       "      <td>0.978223</td>\n",
       "      <td>9</td>\n",
       "      <td>final</td>\n",
       "      <td>7</td>\n",
       "    </tr>\n",
       "    <tr>\n",
       "      <th>2</th>\n",
       "      <td>No BAP</td>\n",
       "      <td>0</td>\n",
       "      <td>6.526442</td>\n",
       "      <td>0.117560</td>\n",
       "      <td>0</td>\n",
       "      <td>initial</td>\n",
       "      <td>6</td>\n",
       "    </tr>\n",
       "    <tr>\n",
       "      <th>3</th>\n",
       "      <td>No BAP</td>\n",
       "      <td>199</td>\n",
       "      <td>0.002248</td>\n",
       "      <td>1.000000</td>\n",
       "      <td>0</td>\n",
       "      <td>final</td>\n",
       "      <td>6</td>\n",
       "    </tr>\n",
       "    <tr>\n",
       "      <th>8</th>\n",
       "      <td>No BAP</td>\n",
       "      <td>0</td>\n",
       "      <td>5.397694</td>\n",
       "      <td>0.093502</td>\n",
       "      <td>1</td>\n",
       "      <td>initial</td>\n",
       "      <td>6</td>\n",
       "    </tr>\n",
       "    <tr>\n",
       "      <th>9</th>\n",
       "      <td>No BAP</td>\n",
       "      <td>199</td>\n",
       "      <td>0.008067</td>\n",
       "      <td>0.999504</td>\n",
       "      <td>1</td>\n",
       "      <td>final</td>\n",
       "      <td>6</td>\n",
       "    </tr>\n",
       "    <tr>\n",
       "      <th>14</th>\n",
       "      <td>No BAP</td>\n",
       "      <td>0</td>\n",
       "      <td>6.822869</td>\n",
       "      <td>0.102555</td>\n",
       "      <td>2</td>\n",
       "      <td>initial</td>\n",
       "      <td>6</td>\n",
       "    </tr>\n",
       "    <tr>\n",
       "      <th>15</th>\n",
       "      <td>No BAP</td>\n",
       "      <td>199</td>\n",
       "      <td>0.009060</td>\n",
       "      <td>0.999256</td>\n",
       "      <td>2</td>\n",
       "      <td>final</td>\n",
       "      <td>6</td>\n",
       "    </tr>\n",
       "    <tr>\n",
       "      <th>20</th>\n",
       "      <td>No BAP</td>\n",
       "      <td>0</td>\n",
       "      <td>5.231420</td>\n",
       "      <td>0.093874</td>\n",
       "      <td>3</td>\n",
       "      <td>initial</td>\n",
       "      <td>6</td>\n",
       "    </tr>\n",
       "    <tr>\n",
       "      <th>21</th>\n",
       "      <td>No BAP</td>\n",
       "      <td>199</td>\n",
       "      <td>0.012845</td>\n",
       "      <td>0.998884</td>\n",
       "      <td>3</td>\n",
       "      <td>final</td>\n",
       "      <td>6</td>\n",
       "    </tr>\n",
       "    <tr>\n",
       "      <th>26</th>\n",
       "      <td>No BAP</td>\n",
       "      <td>0</td>\n",
       "      <td>8.959340</td>\n",
       "      <td>0.088418</td>\n",
       "      <td>4</td>\n",
       "      <td>initial</td>\n",
       "      <td>6</td>\n",
       "    </tr>\n",
       "    <tr>\n",
       "      <th>27</th>\n",
       "      <td>No BAP</td>\n",
       "      <td>199</td>\n",
       "      <td>0.003243</td>\n",
       "      <td>1.000000</td>\n",
       "      <td>4</td>\n",
       "      <td>final</td>\n",
       "      <td>6</td>\n",
       "    </tr>\n",
       "    <tr>\n",
       "      <th>32</th>\n",
       "      <td>No BAP</td>\n",
       "      <td>0</td>\n",
       "      <td>5.955833</td>\n",
       "      <td>0.084573</td>\n",
       "      <td>5</td>\n",
       "      <td>initial</td>\n",
       "      <td>6</td>\n",
       "    </tr>\n",
       "    <tr>\n",
       "      <th>33</th>\n",
       "      <td>No BAP</td>\n",
       "      <td>199</td>\n",
       "      <td>0.008421</td>\n",
       "      <td>0.999008</td>\n",
       "      <td>5</td>\n",
       "      <td>final</td>\n",
       "      <td>6</td>\n",
       "    </tr>\n",
       "    <tr>\n",
       "      <th>38</th>\n",
       "      <td>No BAP</td>\n",
       "      <td>0</td>\n",
       "      <td>5.865705</td>\n",
       "      <td>0.094742</td>\n",
       "      <td>6</td>\n",
       "      <td>initial</td>\n",
       "      <td>6</td>\n",
       "    </tr>\n",
       "    <tr>\n",
       "      <th>39</th>\n",
       "      <td>No BAP</td>\n",
       "      <td>199</td>\n",
       "      <td>0.012069</td>\n",
       "      <td>0.998760</td>\n",
       "      <td>6</td>\n",
       "      <td>final</td>\n",
       "      <td>6</td>\n",
       "    </tr>\n",
       "    <tr>\n",
       "      <th>44</th>\n",
       "      <td>No BAP</td>\n",
       "      <td>0</td>\n",
       "      <td>5.342505</td>\n",
       "      <td>0.107267</td>\n",
       "      <td>7</td>\n",
       "      <td>initial</td>\n",
       "      <td>6</td>\n",
       "    </tr>\n",
       "    <tr>\n",
       "      <th>45</th>\n",
       "      <td>No BAP</td>\n",
       "      <td>199</td>\n",
       "      <td>0.003692</td>\n",
       "      <td>1.000000</td>\n",
       "      <td>7</td>\n",
       "      <td>final</td>\n",
       "      <td>6</td>\n",
       "    </tr>\n",
       "    <tr>\n",
       "      <th>50</th>\n",
       "      <td>No BAP</td>\n",
       "      <td>0</td>\n",
       "      <td>7.479458</td>\n",
       "      <td>0.109995</td>\n",
       "      <td>8</td>\n",
       "      <td>initial</td>\n",
       "      <td>6</td>\n",
       "    </tr>\n",
       "    <tr>\n",
       "      <th>51</th>\n",
       "      <td>No BAP</td>\n",
       "      <td>199</td>\n",
       "      <td>0.002515</td>\n",
       "      <td>1.000000</td>\n",
       "      <td>8</td>\n",
       "      <td>final</td>\n",
       "      <td>6</td>\n",
       "    </tr>\n",
       "    <tr>\n",
       "      <th>56</th>\n",
       "      <td>No BAP</td>\n",
       "      <td>0</td>\n",
       "      <td>5.487751</td>\n",
       "      <td>0.102803</td>\n",
       "      <td>9</td>\n",
       "      <td>initial</td>\n",
       "      <td>6</td>\n",
       "    </tr>\n",
       "    <tr>\n",
       "      <th>57</th>\n",
       "      <td>No BAP</td>\n",
       "      <td>199</td>\n",
       "      <td>0.001788</td>\n",
       "      <td>1.000000</td>\n",
       "      <td>9</td>\n",
       "      <td>final</td>\n",
       "      <td>6</td>\n",
       "    </tr>\n",
       "    <tr>\n",
       "      <th>4</th>\n",
       "      <td>BAP</td>\n",
       "      <td>0</td>\n",
       "      <td>5.025428</td>\n",
       "      <td>0.103795</td>\n",
       "      <td>0</td>\n",
       "      <td>initial</td>\n",
       "      <td>5</td>\n",
       "    </tr>\n",
       "    <tr>\n",
       "      <th>5</th>\n",
       "      <td>BAP</td>\n",
       "      <td>199</td>\n",
       "      <td>0.003486</td>\n",
       "      <td>1.000000</td>\n",
       "      <td>0</td>\n",
       "      <td>final</td>\n",
       "      <td>5</td>\n",
       "    </tr>\n",
       "    <tr>\n",
       "      <th>10</th>\n",
       "      <td>BAP</td>\n",
       "      <td>0</td>\n",
       "      <td>10.805194</td>\n",
       "      <td>0.103423</td>\n",
       "      <td>1</td>\n",
       "      <td>initial</td>\n",
       "      <td>5</td>\n",
       "    </tr>\n",
       "    <tr>\n",
       "      <th>11</th>\n",
       "      <td>BAP</td>\n",
       "      <td>199</td>\n",
       "      <td>0.004604</td>\n",
       "      <td>1.000000</td>\n",
       "      <td>1</td>\n",
       "      <td>final</td>\n",
       "      <td>5</td>\n",
       "    </tr>\n",
       "    <tr>\n",
       "      <th>16</th>\n",
       "      <td>BAP</td>\n",
       "      <td>0</td>\n",
       "      <td>4.822500</td>\n",
       "      <td>0.108879</td>\n",
       "      <td>2</td>\n",
       "      <td>initial</td>\n",
       "      <td>5</td>\n",
       "    </tr>\n",
       "    <tr>\n",
       "      <th>17</th>\n",
       "      <td>BAP</td>\n",
       "      <td>199</td>\n",
       "      <td>0.008443</td>\n",
       "      <td>0.999504</td>\n",
       "      <td>2</td>\n",
       "      <td>final</td>\n",
       "      <td>5</td>\n",
       "    </tr>\n",
       "    <tr>\n",
       "      <th>22</th>\n",
       "      <td>BAP</td>\n",
       "      <td>0</td>\n",
       "      <td>7.215094</td>\n",
       "      <td>0.101811</td>\n",
       "      <td>3</td>\n",
       "      <td>initial</td>\n",
       "      <td>5</td>\n",
       "    </tr>\n",
       "    <tr>\n",
       "      <th>23</th>\n",
       "      <td>BAP</td>\n",
       "      <td>199</td>\n",
       "      <td>0.012498</td>\n",
       "      <td>0.998760</td>\n",
       "      <td>3</td>\n",
       "      <td>final</td>\n",
       "      <td>5</td>\n",
       "    </tr>\n",
       "    <tr>\n",
       "      <th>28</th>\n",
       "      <td>BAP</td>\n",
       "      <td>0</td>\n",
       "      <td>7.399883</td>\n",
       "      <td>0.156126</td>\n",
       "      <td>4</td>\n",
       "      <td>initial</td>\n",
       "      <td>5</td>\n",
       "    </tr>\n",
       "    <tr>\n",
       "      <th>29</th>\n",
       "      <td>BAP</td>\n",
       "      <td>199</td>\n",
       "      <td>0.002431</td>\n",
       "      <td>1.000000</td>\n",
       "      <td>4</td>\n",
       "      <td>final</td>\n",
       "      <td>5</td>\n",
       "    </tr>\n",
       "    <tr>\n",
       "      <th>34</th>\n",
       "      <td>BAP</td>\n",
       "      <td>0</td>\n",
       "      <td>10.572281</td>\n",
       "      <td>0.102927</td>\n",
       "      <td>5</td>\n",
       "      <td>initial</td>\n",
       "      <td>5</td>\n",
       "    </tr>\n",
       "    <tr>\n",
       "      <th>35</th>\n",
       "      <td>BAP</td>\n",
       "      <td>199</td>\n",
       "      <td>0.003109</td>\n",
       "      <td>1.000000</td>\n",
       "      <td>5</td>\n",
       "      <td>final</td>\n",
       "      <td>5</td>\n",
       "    </tr>\n",
       "    <tr>\n",
       "      <th>40</th>\n",
       "      <td>BAP</td>\n",
       "      <td>0</td>\n",
       "      <td>5.840891</td>\n",
       "      <td>0.113219</td>\n",
       "      <td>6</td>\n",
       "      <td>initial</td>\n",
       "      <td>5</td>\n",
       "    </tr>\n",
       "    <tr>\n",
       "      <th>41</th>\n",
       "      <td>BAP</td>\n",
       "      <td>199</td>\n",
       "      <td>0.009672</td>\n",
       "      <td>0.999008</td>\n",
       "      <td>6</td>\n",
       "      <td>final</td>\n",
       "      <td>5</td>\n",
       "    </tr>\n",
       "    <tr>\n",
       "      <th>46</th>\n",
       "      <td>BAP</td>\n",
       "      <td>0</td>\n",
       "      <td>8.114198</td>\n",
       "      <td>0.110367</td>\n",
       "      <td>7</td>\n",
       "      <td>initial</td>\n",
       "      <td>5</td>\n",
       "    </tr>\n",
       "    <tr>\n",
       "      <th>47</th>\n",
       "      <td>BAP</td>\n",
       "      <td>199</td>\n",
       "      <td>0.014042</td>\n",
       "      <td>0.997396</td>\n",
       "      <td>7</td>\n",
       "      <td>final</td>\n",
       "      <td>5</td>\n",
       "    </tr>\n",
       "    <tr>\n",
       "      <th>52</th>\n",
       "      <td>BAP</td>\n",
       "      <td>0</td>\n",
       "      <td>5.276363</td>\n",
       "      <td>0.111731</td>\n",
       "      <td>8</td>\n",
       "      <td>initial</td>\n",
       "      <td>5</td>\n",
       "    </tr>\n",
       "    <tr>\n",
       "      <th>53</th>\n",
       "      <td>BAP</td>\n",
       "      <td>199</td>\n",
       "      <td>0.008271</td>\n",
       "      <td>0.999504</td>\n",
       "      <td>8</td>\n",
       "      <td>final</td>\n",
       "      <td>5</td>\n",
       "    </tr>\n",
       "    <tr>\n",
       "      <th>58</th>\n",
       "      <td>BAP</td>\n",
       "      <td>0</td>\n",
       "      <td>6.599258</td>\n",
       "      <td>0.120908</td>\n",
       "      <td>9</td>\n",
       "      <td>initial</td>\n",
       "      <td>5</td>\n",
       "    </tr>\n",
       "    <tr>\n",
       "      <th>59</th>\n",
       "      <td>BAP</td>\n",
       "      <td>199</td>\n",
       "      <td>0.006417</td>\n",
       "      <td>0.999504</td>\n",
       "      <td>9</td>\n",
       "      <td>final</td>\n",
       "      <td>5</td>\n",
       "    </tr>\n",
       "  </tbody>\n",
       "</table>\n",
       "</div>"
      ],
      "text/plain": [
       "         model_name  epoch       loss  accuracy  seed     time  run_id\n",
       "0   One compartment      0   2.902492  0.127953     0  initial       7\n",
       "1   One compartment    199   0.073829  0.982283     0    final       7\n",
       "6   One compartment      0   2.931140  0.119956     1  initial       7\n",
       "7   One compartment    199   0.072509  0.981914     1    final       7\n",
       "12  One compartment      0   2.922742  0.113927     2  initial       7\n",
       "13  One compartment    199   0.070809  0.984621     2    final       7\n",
       "18  One compartment      0   2.935472  0.118356     3  initial       7\n",
       "19  One compartment    199   0.061047  0.985236     3    final       7\n",
       "24  One compartment      0   2.932381  0.108514     4  initial       7\n",
       "25  One compartment    199   0.076207  0.982406     4    final       7\n",
       "30  One compartment      0   2.885631  0.136442     5  initial       7\n",
       "31  One compartment    199   0.079904  0.980438     5    final       7\n",
       "36  One compartment      0   2.921740  0.114788     6  initial       7\n",
       "37  One compartment    199   0.062997  0.985482     6    final       7\n",
       "42  One compartment      0   2.940165  0.109990     7  initial       7\n",
       "43  One compartment    199   0.083351  0.978100     7    final       7\n",
       "48  One compartment      0   2.905859  0.127707     8  initial       7\n",
       "49  One compartment    199   0.081000  0.981176     8    final       7\n",
       "54  One compartment      0   2.941558  0.117495     9  initial       7\n",
       "55  One compartment    199   0.084776  0.978223     9    final       7\n",
       "2            No BAP      0   6.526442  0.117560     0  initial       6\n",
       "3            No BAP    199   0.002248  1.000000     0    final       6\n",
       "8            No BAP      0   5.397694  0.093502     1  initial       6\n",
       "9            No BAP    199   0.008067  0.999504     1    final       6\n",
       "14           No BAP      0   6.822869  0.102555     2  initial       6\n",
       "15           No BAP    199   0.009060  0.999256     2    final       6\n",
       "20           No BAP      0   5.231420  0.093874     3  initial       6\n",
       "21           No BAP    199   0.012845  0.998884     3    final       6\n",
       "26           No BAP      0   8.959340  0.088418     4  initial       6\n",
       "27           No BAP    199   0.003243  1.000000     4    final       6\n",
       "32           No BAP      0   5.955833  0.084573     5  initial       6\n",
       "33           No BAP    199   0.008421  0.999008     5    final       6\n",
       "38           No BAP      0   5.865705  0.094742     6  initial       6\n",
       "39           No BAP    199   0.012069  0.998760     6    final       6\n",
       "44           No BAP      0   5.342505  0.107267     7  initial       6\n",
       "45           No BAP    199   0.003692  1.000000     7    final       6\n",
       "50           No BAP      0   7.479458  0.109995     8  initial       6\n",
       "51           No BAP    199   0.002515  1.000000     8    final       6\n",
       "56           No BAP      0   5.487751  0.102803     9  initial       6\n",
       "57           No BAP    199   0.001788  1.000000     9    final       6\n",
       "4               BAP      0   5.025428  0.103795     0  initial       5\n",
       "5               BAP    199   0.003486  1.000000     0    final       5\n",
       "10              BAP      0  10.805194  0.103423     1  initial       5\n",
       "11              BAP    199   0.004604  1.000000     1    final       5\n",
       "16              BAP      0   4.822500  0.108879     2  initial       5\n",
       "17              BAP    199   0.008443  0.999504     2    final       5\n",
       "22              BAP      0   7.215094  0.101811     3  initial       5\n",
       "23              BAP    199   0.012498  0.998760     3    final       5\n",
       "28              BAP      0   7.399883  0.156126     4  initial       5\n",
       "29              BAP    199   0.002431  1.000000     4    final       5\n",
       "34              BAP      0  10.572281  0.102927     5  initial       5\n",
       "35              BAP    199   0.003109  1.000000     5    final       5\n",
       "40              BAP      0   5.840891  0.113219     6  initial       5\n",
       "41              BAP    199   0.009672  0.999008     6    final       5\n",
       "46              BAP      0   8.114198  0.110367     7  initial       5\n",
       "47              BAP    199   0.014042  0.997396     7    final       5\n",
       "52              BAP      0   5.276363  0.111731     8  initial       5\n",
       "53              BAP    199   0.008271  0.999504     8    final       5\n",
       "58              BAP      0   6.599258  0.120908     9  initial       5\n",
       "59              BAP    199   0.006417  0.999504     9    final       5"
      ]
     },
     "execution_count": 140,
     "metadata": {},
     "output_type": "execute_result"
    }
   ],
   "source": [
    "data"
   ]
  },
  {
   "cell_type": "code",
   "execution_count": 141,
   "metadata": {},
   "outputs": [
    {
     "name": "stderr",
     "output_type": "stream",
     "text": [
      "/Users/wesleymonteith/opt/anaconda3/envs/teaching/lib/python3.8/site-packages/scipy/stats/_morestats.py:3255: UserWarning:\n",
      "\n",
      "Exact p-value calculation does not work if there are zeros. Switching to normal approximation.\n",
      "\n",
      "/Users/wesleymonteith/opt/anaconda3/envs/teaching/lib/python3.8/site-packages/scipy/stats/_morestats.py:3269: UserWarning:\n",
      "\n",
      "Sample size too small for normal approximation.\n",
      "\n"
     ]
    },
    {
     "name": "stdout",
     "output_type": "stream",
     "text": [
      "p-value annotation legend:\n",
      "      ns: p <= 1.00e+00\n",
      "       *: 1.00e-02 < p <= 5.00e-02\n",
      "      **: 1.00e-03 < p <= 1.00e-02\n",
      "     ***: 1.00e-04 < p <= 1.00e-03\n",
      "    ****: p <= 1.00e-04\n",
      "\n",
      "One compartment_final vs. No BAP_final: Wilcoxon test (paired samples) with Bonferroni correction, P_val:5.859e-03 Stat=0.000e+00\n",
      "No BAP_final vs. BAP_final: Wilcoxon test (paired samples) with Bonferroni correction, P_val:1.000e+00 Stat=1.700e+01\n",
      "One compartment_final vs. BAP_final: Wilcoxon test (paired samples) with Bonferroni correction, P_val:5.859e-03 Stat=0.000e+00\n"
     ]
    },
    {
     "data": {
      "image/png": "[encoded data removed]",
      "text/plain": [
       "<Figure size 504x576 with 1 Axes>"
      ]
     },
     "metadata": {},
     "output_type": "display_data"
    }
   ],
   "source": [
    "# Set Seaborn style\n",
    "sns.set_style('darkgrid')\n",
    "\n",
    "# Construct plot\n",
    "plt.figure(figsize=(7, 8))\n",
    "\n",
    "ax = sns.barplot(x = \"model_name\", y = \"accuracy\", hue=\"time\", data = data, order=['One compartment', 'No BAP', 'BAP'])#, palette='magma')\n",
    "\n",
    "pairs = [((\"One compartment\", \"final\"), (\"BAP\", \"final\")), ((\"One compartment\", \"final\"), (\"No BAP\", \"final\")), ((\"No BAP\", \"final\"), (\"BAP\", \"final\"))]\n",
    "annot = Annotator(ax, pairs, x = \"model_name\", y = \"accuracy\", hue=\"time\", data = data)#, order=['One compartment', 'No BAP', 'BAP'])\n",
    "\n",
    "annot.configure(test=test_used, text_format='star', loc='inside', verbose=2, comparisons_correction=\"Bonferroni\")\n",
    "annot.apply_test()\n",
    "ax, test_results = annot.annotate()\n",
    "\n",
    "if titles:\n",
    "    plt.title(f'Final test accuracy of models with best individual hyper-parameter combinations\\n found over {len(run_names)} searches', fontdict={'fontsize': 15})\n",
    "plt.xlabel(xlabel='Models',\n",
    "           fontdict={\n",
    "               'size':12\n",
    "           }\n",
    "           )\n",
    "plt.ylabel(ylabel='validation accuracy',\n",
    "           fontdict={\n",
    "               'size':12\n",
    "           },\n",
    "           \n",
    "           )\n",
    "\n",
    "#plt.yticks(ticks=[0, 1/20, 0.5,0.6,0.7,0.8])\n",
    "\n",
    "\n",
    "L = plt.legend(title='')\n",
    "L.get_texts()[0].set_text('before training')\n",
    "L.get_texts()[1].set_text('after training')\n",
    "\n",
    "\n",
    "plt.axhline(y=0.05, color =\"red\", linestyle =\"--\", linewidth=1)\n",
    "plt.tight_layout()\n",
    "if save:\n",
    "    plt.savefig('../data/heidelberg_hyperparam_visual/figure1.png', dpi=dpi)\n",
    "plt.show()\n"
   ]
  },
  {
   "cell_type": "code",
   "execution_count": 142,
   "metadata": {},
   "outputs": [],
   "source": [
    "color_palettes = ['Accent', 'Accent_r', 'Blues', 'Blues_r', 'BrBG', 'BrBG_r', 'BuGn', 'BuGn_r', \n",
    "                 'BuPu', 'BuPu_r', 'CMRmap', 'CMRmap_r', 'Dark2', 'Dark2_r', 'GnBu', 'GnBu_r', \n",
    "                 'Greens', 'Greens_r', 'Greys', 'Greys_r', 'OrRd', 'OrRd_r', 'Oranges', 'Oranges_r', \n",
    "                 'PRGn', 'PRGn_r', 'Paired', 'Paired_r', 'Pastel1', 'Pastel1_r', 'Pastel2', 'Pastel2_r', \n",
    "                 'PiYG', 'PiYG_r', 'PuBu', 'PuBuGn', 'PuBuGn_r', 'PuBu_r', 'PuOr', 'PuOr_r', 'PuRd', \n",
    "                 'PuRd_r', 'Purples', 'Purples_r', 'RdBu', 'RdBu_r', 'RdGy', 'RdGy_r', 'RdPu', 'RdPu_r', \n",
    "                 'RdYlBu', 'RdYlBu_r', 'RdYlGn', 'RdYlGn_r', 'Reds', 'Reds_r', 'Set1', 'Set1_r', 'Set2', \n",
    "                 'Set2_r', 'Set3', 'Set3_r', 'Spectral', 'Spectral_r', 'Wistia', 'Wistia_r', 'YlGn', \n",
    "                 'YlGnBu', 'YlGnBu_r', 'YlGn_r', 'YlOrBr', 'YlOrBr_r', 'YlOrRd', 'YlOrRd_r', 'afmhot', \n",
    "                 'afmhot_r', 'autumn', 'autumn_r', 'binary', 'binary_r', 'bone', 'bone_r', 'brg', 'brg_r', 'bwr', \n",
    "                 'bwr_r', 'cividis', 'cividis_r', 'cool', 'cool_r', 'coolwarm', 'coolwarm_r', 'copper', 'copper_r', \n",
    "                 'crest', 'crest_r', 'cubehelix', 'cubehelix_r', 'flag', 'flag_r', 'flare', 'flare_r', 'gist_earth', \n",
    "                 'gist_earth_r', 'gist_gray', 'gist_gray_r', 'gist_heat', 'gist_heat_r', 'gist_ncar', 'gist_ncar_r', \n",
    "                 'gist_rainbow', 'gist_rainbow_r', 'gist_stern', 'gist_stern_r', 'gist_yarg', 'gist_yarg_r', \n",
    "                 'gnuplot', 'gnuplot2', 'gnuplot2_r', 'gnuplot_r', 'gray', 'gray_r', 'hot', 'hot_r', 'hsv', \n",
    "                 'hsv_r', 'icefire', 'icefire_r', 'inferno', 'inferno_r', 'jet', 'jet_r', 'magma', 'magma_r', \n",
    "                 'mako', 'mako_r', 'nipy_spectral', 'nipy_spectral_r', 'ocean', 'ocean_r', 'pink', 'pink_r', \n",
    "                 'plasma', 'plasma_r', 'prism', 'prism_r', 'rainbow', 'rainbow_r', 'rocket', 'rocket_r', 'seismic', \n",
    "                 'seismic_r', 'spring', 'spring_r', 'summer', 'summer_r', 'tab10', 'tab10_r', 'tab20', 'tab20_r', \n",
    "                 'tab20b', 'tab20b_r', 'tab20c', 'tab20c_r', 'terrain', 'terrain_r', 'turbo', 'turbo_r', 'twilight', \n",
    "                 'twilight_r', 'twilight_shifted', 'twilight_shifted_r', 'viridis', 'viridis_r', 'vlag', 'vlag_r', \n",
    "                 'winter', 'winter_r']"
   ]
  },
  {
   "cell_type": "code",
   "execution_count": 143,
   "metadata": {},
   "outputs": [
    {
     "data": {
      "image/png": "[encoded data removed]",
      "text/plain": [
       "<Figure size 1080x504 with 3 Axes>"
      ]
     },
     "metadata": {},
     "output_type": "display_data"
    }
   ],
   "source": [
    "import random\n",
    "\n",
    "data_max = get_concat_every_test_performance(run_names,number_of_seeds, train_or_test=train_or_test)\n",
    "model_names = data_max.model_name.unique()\n",
    "nb_models=len(model_names)\n",
    "palette_combo = [color_palettes[random.randint(0, len(color_palettes)-1)] for _ in model_names]\n",
    "\n",
    "fig, axes = plt.subplots(1, nb_models, figsize=(15, 7), sharey=True)\n",
    "\n",
    "for ax, model_name, pal in zip(axes, model_names, palette_combo):\n",
    "    data_per_model = data_max[data_max.model_name == model_name]\n",
    "    sns.barplot(x=\"run_id\", y=\"accuracy\", hue=\"time\", data=data_per_model, ax=ax, palette=pal)\n",
    "    ax.set_title(label=model_name, fontdict={'fontsize': 15})\n",
    "    L = ax.legend(title='')\n",
    "    L.get_texts()[0].set_text('before training')\n",
    "    L.get_texts()[1].set_text('after training')\n",
    "\n",
    "if titles:\n",
    "    fig.suptitle('All different test performances ', fontsize = 20)#, fontdict={'fontsize': 15})\n",
    "\n",
    "plt.tight_layout()\n",
    "if save:\n",
    "    plt.savefig('../data/heidelberg_hyperparam_visual/figure2.png', dpi=dpi)\n",
    "plt.show()"
   ]
  },
  {
   "cell_type": "code",
   "execution_count": 144,
   "metadata": {},
   "outputs": [
    {
     "name": "stdout",
     "output_type": "stream",
     "text": [
      "color palette chose : viridis\n"
     ]
    },
    {
     "data": {
      "image/png": "[encoded data removed]",
      "text/plain": [
       "<Figure size 720x720 with 1 Axes>"
      ]
     },
     "metadata": {},
     "output_type": "display_data"
    }
   ],
   "source": [
    "data_max_final = data_max[data_max.time == 'final']\n",
    "\n",
    "palette_rand_choice = color_palettes[random.randint(0, len(color_palettes)-1)]\n",
    "print(f'color palette chose : {palette_rand_choice}')\n",
    "cool_color_palettes = ['mako', 'cool_r', 'cividis_r', 'flare', 'plasma_r', 'copper', 'Oranges_r', 'Oranges', 'YlGnBu_r', 'rainbow_r']\n",
    "\n",
    "plt.figure(figsize=(10, 10))\n",
    "\n",
    "if titles:\n",
    "    plt.title(label='Test performances of each model for different hyper-parameter choices',\n",
    "            fontdict={\n",
    "                'size':18\n",
    "            }\n",
    "            )\n",
    "\n",
    "ax = sns.barplot(x=\"run_id\", y=\"accuracy\", hue=\"model_name\", data=data_max_final, palette=one_palette_for_all)\n",
    "\n",
    "\n",
    "\n",
    "plt.xlabel(xlabel='hyper-parameter combination',\n",
    "           fontdict={\n",
    "               'size':15\n",
    "           }\n",
    "           )\n",
    "plt.ylabel(ylabel='validation accuracy',\n",
    "           fontdict={\n",
    "               'size':15\n",
    "           },\n",
    "           \n",
    "           )\n",
    "\n",
    "#plt.yticks(ticks=[0.5,0.6,0.7,0.8])\n",
    "if train_or_test == 'test':\n",
    "    plt.ylim([0.5,0.75])\n",
    "plt.legend(title='Models')\n",
    "\n",
    "# pairs = [((1, \"One compartment\"), (5, \"One compartment\")), ((1, \"No BAP\"), (5, \"No BAP\")), ((1, \"BAP\"), (5, \"BAP\"))]\n",
    "# annot = Annotator(ax, pairs, x=\"run_id\", y=\"accuracy\", hue=\"model_name\", data=data_max_final, )\n",
    "\n",
    "# annot.configure(test=test_used, text_format='star', loc='inside', verbose=2, comparisons_correction=\"Bonferroni\")\n",
    "# annot.apply_test()\n",
    "# ax, test_results = annot.annotate()\n",
    "\n",
    "#plt.tight_layout()\n",
    "if save:\n",
    "    plt.savefig('../data/heidelberg_hyperparam_visual/figure3.png', dpi=dpi)\n",
    "    \n",
    "plt.show()"
   ]
  },
  {
   "cell_type": "markdown",
   "metadata": {},
   "source": [
    "## Comparing paper results with best hyper parameter combination found"
   ]
  },
  {
   "cell_type": "code",
   "execution_count": 145,
   "metadata": {},
   "outputs": [],
   "source": [
    "if train_or_test == 'test':\n",
    "    run_paper = load_test_performance(run_names[0], number_of_seeds)\n",
    "    run_best = load_test_performance(run_names[4], number_of_seeds)\n",
    "\n",
    "elif train_or_test == 'train':\n",
    "    run_paper = load_training_performance(run_names[0], number_of_seeds)\n",
    "    run_best = load_training_performance(run_names[4], number_of_seeds)\n",
    "\n",
    "run_paper = run_paper[run_paper['time']=='final']\n",
    "run_paper['run_id'] = 1\n",
    "\n",
    "run_best = run_best[run_best['time']=='final']\n",
    "run_best['run_id'] = 5\n",
    "\n",
    "pd_paper_best = pd.concat([run_paper, run_best])"
   ]
  },
  {
   "cell_type": "code",
   "execution_count": 146,
   "metadata": {},
   "outputs": [
    {
     "name": "stdout",
     "output_type": "stream",
     "text": [
      "p-value annotation legend:\n",
      "      ns: p <= 1.00e+00\n",
      "       *: 1.00e-02 < p <= 5.00e-02\n",
      "      **: 1.00e-03 < p <= 1.00e-02\n",
      "     ***: 1.00e-04 < p <= 1.00e-03\n",
      "    ****: p <= 1.00e-04\n",
      "\n",
      "1_BAP vs. 5_BAP: Wilcoxon test (paired samples) with Bonferroni correction, P_val:5.859e-03 Stat=0.000e+00\n",
      "1_One compartment vs. 5_One compartment: Wilcoxon test (paired samples) with Bonferroni correction, P_val:5.859e-03 Stat=0.000e+00\n",
      "1_No BAP vs. 5_No BAP: Wilcoxon test (paired samples) with Bonferroni correction, P_val:1.113e-01 Stat=7.000e+00\n"
     ]
    },
    {
     "data": {
      "image/png": "[encoded data removed]",
      "text/plain": [
       "<Figure size 720x720 with 1 Axes>"
      ]
     },
     "metadata": {},
     "output_type": "display_data"
    }
   ],
   "source": [
    "plt.figure(figsize=(10, 10))\n",
    "\n",
    "\n",
    "ax = sns.barplot(x=\"run_id\", y=\"accuracy\", hue=\"model_name\", data=pd_paper_best, palette=one_palette_for_all)\n",
    "\n",
    "\n",
    "plt.xlabel(xlabel='hyper-parameter combination',\n",
    "           fontdict={\n",
    "               'size':15\n",
    "           }\n",
    "           )\n",
    "plt.ylabel(ylabel='validation accuracy',\n",
    "           fontdict={\n",
    "               'size':15\n",
    "           },\n",
    "           \n",
    "           )\n",
    "\n",
    "#plt.yticks(ticks=[0.5,0.6,0.7,0.8])\n",
    "plt.ylim([0.5,0.75])\n",
    "plt.legend(title='Models')\n",
    "\n",
    "pairs = [((1, \"One compartment\"), (5, \"One compartment\")), ((1, \"No BAP\"), (5, \"No BAP\")), ((1, \"BAP\"), (5, \"BAP\"))]\n",
    "annot = Annotator(ax, pairs, x=\"run_id\", y=\"accuracy\", hue=\"model_name\", data=pd_paper_best, )\n",
    "\n",
    "annot.configure(test=test_used, text_format='star', loc='inside', verbose=2, comparisons_correction=\"Bonferroni\")\n",
    "annot.apply_test()\n",
    "ax, test_results = annot.annotate()\n",
    "\n",
    "#plt.tight_layout()\n",
    "if save:\n",
    "    plt.savefig('../data/heidelberg_hyperparam_visual/figure7.png', dpi=dpi)\n",
    "    \n",
    "plt.show()"
   ]
  },
  {
   "cell_type": "markdown",
   "metadata": {},
   "source": [
    "## Bar plot comparaison of One Compartment model (no dendritic capturing) versus BAP or No BAP (capturing dendritic interactions) if the number of hidden units is of factor 2 \n",
    "(*2 or /2)"
   ]
  },
  {
   "cell_type": "code",
   "execution_count": 147,
   "metadata": {},
   "outputs": [],
   "source": [
    "if train_or_test == 'test':\n",
    "    run_x_units = load_test_performance('run_5_24_08_22', 10) # lr=1e-3, batch_size=128, 150 hidden units \n",
    "    run_2x_units = load_test_performance('run_9_01_09_22', 10) # lr=1e-3, batch_size=128, 300 hidden units \n",
    "\n",
    "elif train_or_test == 'train':\n",
    "    run_x_units = load_training_performance('run_5_24_08_22', 10) # lr=1e-3, batch_size=128, 150 hidden units \n",
    "    run_2x_units = load_training_performance('run_9_01_09_22', 10) # lr=1e-3, batch_size=128, 300 hidden units "
   ]
  },
  {
   "cell_type": "code",
   "execution_count": 148,
   "metadata": {},
   "outputs": [
    {
     "data": {
      "image/png": "[encoded data removed]",
      "text/plain": [
       "<Figure size 720x504 with 2 Axes>"
      ]
     },
     "metadata": {},
     "output_type": "display_data"
    }
   ],
   "source": [
    "# Create two plots side by side.\n",
    "fig, (ax1, ax2) = plt.subplots(1, 2, figsize=(10, 7), sharey=True)\n",
    "\n",
    "sns.set_style('darkgrid')\n",
    "\n",
    "# Construct plot for run_4_22_08_22 data\n",
    "sns.barplot(x = \"model_name\", y = \"accuracy\", hue=\"time\", data = run_x_units, order=['One compartment', 'No BAP', 'BAP'], ax=ax1, palette=\"gist_heat\")\n",
    "ax1.set_title(label='run number 9, # hidden units = 150', fontdict={'fontsize': 15})\n",
    "\n",
    "# Construct plot for run_6_26_08_22 data\n",
    "sns.barplot(x = \"model_name\", y = \"accuracy\", hue=\"time\", data = run_2x_units, order=['One compartment', 'No BAP', 'BAP'], ax=ax2, palette = \"YlGn\")\n",
    "ax2.set_title(label='run number 5, # hidden units = 300', fontdict={'fontsize': 15})\n",
    "\n",
    "if titles:\n",
    "    fig.suptitle('Difference of accuracies across models for a different number of hidden compartments', fontsize = 18)#, fontdict={'fontsize': 15})\n",
    "\n",
    "\n",
    "plt.tight_layout()\n",
    "if save:\n",
    "    plt.savefig('../data/heidelberg_hyperparam_visual/figure4.png', dpi=dpi)\n",
    "plt.show()"
   ]
  },
  {
   "cell_type": "markdown",
   "metadata": {},
   "source": [
    "The fourth search has hyper-parameters : lr=1e-3, batch_size=128, 200 hidden units \n",
    "\n",
    "The sixth search has hyper-parameters : lr=1e-3, batch_size=128, 400 hidden units \n",
    "\n",
    "Let us compare the `One compartment` of search no6 model with the `BAP` and `No BAP` model of search no4. We are doing this because the models capturing the dendritic phenomena have dual compartments, therefore have 2 times more computational units than a standard model like the `One Compartment`."
   ]
  },
  {
   "cell_type": "code",
   "execution_count": 149,
   "metadata": {},
   "outputs": [
    {
     "name": "stderr",
     "output_type": "stream",
     "text": [
      "/var/folders/xd/10nyn_j13qs58rww11sjkgy80000gn/T/ipykernel_1230/2584262359.py:1: UserWarning:\n",
      "\n",
      "Boolean Series key will be reindexed to match DataFrame index.\n",
      "\n",
      "/var/folders/xd/10nyn_j13qs58rww11sjkgy80000gn/T/ipykernel_1230/2584262359.py:4: UserWarning:\n",
      "\n",
      "Boolean Series key will be reindexed to match DataFrame index.\n",
      "\n",
      "/var/folders/xd/10nyn_j13qs58rww11sjkgy80000gn/T/ipykernel_1230/2584262359.py:7: UserWarning:\n",
      "\n",
      "Boolean Series key will be reindexed to match DataFrame index.\n",
      "\n"
     ]
    }
   ],
   "source": [
    "one_compartment = run_2x_units[run_2x_units.model_name=='One compartment'][run_2x_units.time=='final']\n",
    "one_compartment.reset_index(drop=True, inplace=True)\n",
    "\n",
    "bap = run_x_units[run_x_units.model_name=='BAP'][run_x_units.time=='final']\n",
    "bap.reset_index(inplace=True, drop=True)\n",
    "\n",
    "no_bap = run_x_units[run_x_units.model_name=='No BAP'][run_x_units.time=='final']\n",
    "no_bap.reset_index(inplace=True, drop=True)\n",
    "\n",
    "df = pd.concat([one_compartment, no_bap, bap])"
   ]
  },
  {
   "cell_type": "code",
   "execution_count": 150,
   "metadata": {},
   "outputs": [
    {
     "name": "stdout",
     "output_type": "stream",
     "text": [
      "p-value annotation legend:\n",
      "      ns: p <= 1.00e+00\n",
      "       *: 1.00e-02 < p <= 5.00e-02\n",
      "      **: 1.00e-03 < p <= 1.00e-02\n",
      "     ***: 1.00e-04 < p <= 1.00e-03\n",
      "    ****: p <= 1.00e-04\n",
      "\n",
      "One compartment vs. No BAP: Wilcoxon test (paired samples) with Bonferroni correction, P_val:5.859e-03 Stat=0.000e+00\n",
      "No BAP vs. BAP: Wilcoxon test (paired samples) with Bonferroni correction, P_val:6.973e-01 Stat=1.500e+01\n",
      "One compartment vs. BAP: Wilcoxon test (paired samples) with Bonferroni correction, P_val:5.859e-03 Stat=0.000e+00\n"
     ]
    },
    {
     "data": {
      "image/png": "[encoded data removed]",
      "text/plain": [
       "<Figure size 720x720 with 1 Axes>"
      ]
     },
     "metadata": {},
     "output_type": "display_data"
    }
   ],
   "source": [
    "# Construct plot\n",
    "title = 'Compairing validation accuracies. Two compartment models have\\n 150 hidden units and one compartment model has 300 hidden units.'\n",
    "\n",
    "plt.figure(figsize=(10, 10))\n",
    "\n",
    "ax = sns.barplot(x = \"model_name\", y = \"accuracy\", data=df, order=['One compartment', 'No BAP', 'BAP'], palette = one_palette_for_all)\n",
    "plt.ylim([0.5,0.8])\n",
    "\n",
    "pairs = [('One compartment','No BAP'), ('One compartment', 'BAP'), ('No BAP', 'BAP')]\n",
    "annot = Annotator(ax, pairs, x = \"model_name\", y = \"accuracy\", data = df, order=['One compartment', 'No BAP', 'BAP'])\n",
    "\n",
    "annot.configure(test=test_used, text_format='star', loc='inside', verbose=2, comparisons_correction=\"Bonferroni\")\n",
    "annot.apply_test()\n",
    "ax, test_results = annot.annotate()\n",
    "\n",
    "if titles:\n",
    "    ax.set_title(title, fontdict={'fontsize': 18})\n",
    "#plt.title(title, fontdict={'fontsize': 18})\n",
    "\n",
    "plt.xlabel(xlabel='',\n",
    "           fontdict={\n",
    "               'size':12\n",
    "           }\n",
    "           )\n",
    "plt.ylabel(ylabel='validation accuracy',\n",
    "           fontdict={\n",
    "               'size':12\n",
    "           }\n",
    "           )\n",
    "\n",
    "\n",
    "\n",
    "ax.set_xticklabels(['One compartment \\n(300x1 hidden units)', 'No BAP \\n(150x2 hidden units)', 'BAP\\n(150x2 hidden units)'], \n",
    "                   fontdict={'fontsize':12}\n",
    "                   )\n",
    "#plt.tight_layout()\n",
    "if save:\n",
    "    plt.savefig('../data/heidelberg_hyperparam_visual/figure5.png', dpi=dpi)\n",
    "plt.show()"
   ]
  },
  {
   "cell_type": "markdown",
   "metadata": {},
   "source": [
    "## Preparing the 3d interactive plots"
   ]
  },
  {
   "cell_type": "code",
   "execution_count": 151,
   "metadata": {},
   "outputs": [],
   "source": [
    "# Dictionnary of hyper parameters used for each run (one batch_size, lr and #hidden units per run)\n",
    "from typing import Dict, List, Union\n",
    "\n",
    "def get_hyper_param_dict_dataframe(hyper_params:Union[Dict[str, Union[float,int]], pd.DataFrame], run_names:List[str], keep_seeds:bool=False)->pd.DataFrame:\n",
    "    \"\"\"_summary_\n",
    "\n",
    "    Parameters\n",
    "    ----------\n",
    "    hyper_params : Union[Dict[str, Union[float,int]], pd.DataFrame]\n",
    "        A dictionnary containing \n",
    "    run_names : List[str]\n",
    "        _description_\n",
    "\n",
    "    Returns\n",
    "    -------\n",
    "    pd.DataFrame\n",
    "        _description_\n",
    "    \"\"\"\n",
    "    # Convert the dictionnary to a pd.DataFrame\n",
    "    hyper_params_df = pd.DataFrame(hyper_params)\n",
    "\n",
    "    # Get the data for all the hyper parameter searches\n",
    "    maximum_data = get_concat_every_test_performance(run_names,number_of_seeds, train_or_test=train_or_test)\n",
    "    # Do an average over x number of seeds.\n",
    "    if keep_seeds:\n",
    "        averaged_over_seeds = maximum_data\n",
    "    else:\n",
    "        averaged_over_seeds = maximum_data.groupby(['model_name', 'time', 'run_id'], as_index=False).mean()\n",
    "    # Get rid of the initial test accuracies.\n",
    "    only_final = averaged_over_seeds[averaged_over_seeds.time == 'final']\n",
    "\n",
    "    # Get all the model names present in the hyper param searches\n",
    "    model_names = maximum_data.model_name.unique()\n",
    "\n",
    "    # Initialize a dictionnary with keys being the model names and the items being the corresponding data frames\n",
    "    # with accuracies and corresponding hyper parameters.\n",
    "    hyper_params_for_models = [] #@ {}\n",
    "    # Loop over every model.\n",
    "    for model_name in model_names:\n",
    "        df = only_final[only_final.model_name==model_name]\n",
    "        # Only take the accuracy, model_name, and run_id column of the model.\n",
    "        if keep_seeds:\n",
    "            df = df.drop(columns=['time'])\n",
    "        else:\n",
    "            df = df.drop(columns=['time', 'seed'])\n",
    "        df.reset_index(drop=True, inplace=True)\n",
    "        # Concatenate the accuracy of the model for every search with the corresponding hyper parameters.\n",
    "        df = pd.concat([hyper_params_df, df], axis=1)\n",
    "        # Add an id for retracability.\n",
    "        #df['run_id'] = run_names\n",
    "        # Add the data frame as an item to dictionnary.\n",
    "        hyper_params_for_models.append(df) #@hyper_params_for_models[model_name]=df \n",
    "    return pd.concat(hyper_params_for_models)#@hyper_params_for_models\n",
    "\n",
    "hyper_params_for_models = get_hyper_param_dict_dataframe(hyper_params=hyper_params, run_names=run_names)\n"
   ]
  },
  {
   "cell_type": "code",
   "execution_count": 152,
   "metadata": {},
   "outputs": [
    {
     "data": {
      "text/html": [
       "<div>\n",
       "<style scoped>\n",
       "    .dataframe tbody tr th:only-of-type {\n",
       "        vertical-align: middle;\n",
       "    }\n",
       "\n",
       "    .dataframe tbody tr th {\n",
       "        vertical-align: top;\n",
       "    }\n",
       "\n",
       "    .dataframe thead th {\n",
       "        text-align: right;\n",
       "    }\n",
       "</style>\n",
       "<table border=\"1\" class=\"dataframe\">\n",
       "  <thead>\n",
       "    <tr style=\"text-align: right;\">\n",
       "      <th></th>\n",
       "      <th>batch size</th>\n",
       "      <th>learning rate</th>\n",
       "      <th>number of hidden units</th>\n",
       "      <th>model_name</th>\n",
       "      <th>run_id</th>\n",
       "      <th>epoch</th>\n",
       "      <th>loss</th>\n",
       "      <th>accuracy</th>\n",
       "    </tr>\n",
       "  </thead>\n",
       "  <tbody>\n",
       "    <tr>\n",
       "      <th>0</th>\n",
       "      <td>256</td>\n",
       "      <td>0.002</td>\n",
       "      <td>200</td>\n",
       "      <td>BAP</td>\n",
       "      <td>1</td>\n",
       "      <td>199.0</td>\n",
       "      <td>0.073025</td>\n",
       "      <td>0.979599</td>\n",
       "    </tr>\n",
       "    <tr>\n",
       "      <th>1</th>\n",
       "      <td>256</td>\n",
       "      <td>0.001</td>\n",
       "      <td>200</td>\n",
       "      <td>BAP</td>\n",
       "      <td>2</td>\n",
       "      <td>199.0</td>\n",
       "      <td>0.041990</td>\n",
       "      <td>0.991961</td>\n",
       "    </tr>\n",
       "    <tr>\n",
       "      <th>2</th>\n",
       "      <td>128</td>\n",
       "      <td>0.002</td>\n",
       "      <td>200</td>\n",
       "      <td>BAP</td>\n",
       "      <td>3</td>\n",
       "      <td>199.0</td>\n",
       "      <td>0.047789</td>\n",
       "      <td>0.986644</td>\n",
       "    </tr>\n",
       "    <tr>\n",
       "      <th>3</th>\n",
       "      <td>128</td>\n",
       "      <td>0.001</td>\n",
       "      <td>200</td>\n",
       "      <td>BAP</td>\n",
       "      <td>4</td>\n",
       "      <td>199.0</td>\n",
       "      <td>0.020936</td>\n",
       "      <td>0.996019</td>\n",
       "    </tr>\n",
       "    <tr>\n",
       "      <th>4</th>\n",
       "      <td>128</td>\n",
       "      <td>0.001</td>\n",
       "      <td>300</td>\n",
       "      <td>BAP</td>\n",
       "      <td>5</td>\n",
       "      <td>199.0</td>\n",
       "      <td>0.007297</td>\n",
       "      <td>0.999368</td>\n",
       "    </tr>\n",
       "    <tr>\n",
       "      <th>5</th>\n",
       "      <td>128</td>\n",
       "      <td>0.001</td>\n",
       "      <td>400</td>\n",
       "      <td>BAP</td>\n",
       "      <td>6</td>\n",
       "      <td>199.0</td>\n",
       "      <td>0.011026</td>\n",
       "      <td>0.998289</td>\n",
       "    </tr>\n",
       "    <tr>\n",
       "      <th>6</th>\n",
       "      <td>64</td>\n",
       "      <td>0.001</td>\n",
       "      <td>300</td>\n",
       "      <td>BAP</td>\n",
       "      <td>7</td>\n",
       "      <td>199.0</td>\n",
       "      <td>0.013755</td>\n",
       "      <td>0.996703</td>\n",
       "    </tr>\n",
       "    <tr>\n",
       "      <th>7</th>\n",
       "      <td>128</td>\n",
       "      <td>0.001</td>\n",
       "      <td>50</td>\n",
       "      <td>BAP</td>\n",
       "      <td>8</td>\n",
       "      <td>199.0</td>\n",
       "      <td>0.146085</td>\n",
       "      <td>0.956548</td>\n",
       "    </tr>\n",
       "    <tr>\n",
       "      <th>8</th>\n",
       "      <td>128</td>\n",
       "      <td>0.001</td>\n",
       "      <td>150</td>\n",
       "      <td>BAP</td>\n",
       "      <td>9</td>\n",
       "      <td>199.0</td>\n",
       "      <td>0.055023</td>\n",
       "      <td>0.984648</td>\n",
       "    </tr>\n",
       "  </tbody>\n",
       "</table>\n",
       "</div>"
      ],
      "text/plain": [
       "   batch size  learning rate  number of hidden units model_name  run_id  \\\n",
       "0         256          0.002                     200        BAP       1   \n",
       "1         256          0.001                     200        BAP       2   \n",
       "2         128          0.002                     200        BAP       3   \n",
       "3         128          0.001                     200        BAP       4   \n",
       "4         128          0.001                     300        BAP       5   \n",
       "5         128          0.001                     400        BAP       6   \n",
       "6          64          0.001                     300        BAP       7   \n",
       "7         128          0.001                      50        BAP       8   \n",
       "8         128          0.001                     150        BAP       9   \n",
       "\n",
       "   epoch      loss  accuracy  \n",
       "0  199.0  0.073025  0.979599  \n",
       "1  199.0  0.041990  0.991961  \n",
       "2  199.0  0.047789  0.986644  \n",
       "3  199.0  0.020936  0.996019  \n",
       "4  199.0  0.007297  0.999368  \n",
       "5  199.0  0.011026  0.998289  \n",
       "6  199.0  0.013755  0.996703  \n",
       "7  199.0  0.146085  0.956548  \n",
       "8  199.0  0.055023  0.984648  "
      ]
     },
     "execution_count": 152,
     "metadata": {},
     "output_type": "execute_result"
    }
   ],
   "source": [
    "# Visualise how the data looks for the model BAP\n",
    "hyper_params_for_models[hyper_params_for_models['model_name'] == 'BAP']"
   ]
  },
  {
   "cell_type": "code",
   "execution_count": 153,
   "metadata": {},
   "outputs": [],
   "source": [
    "# Calculating the upper and lower bounds for each hyper parameter\n",
    "# Since all hyperparam combinations are the same across models, only take the first model as a reference (in this case 'BAP').\n",
    "\n",
    "max_bs = hyper_params_for_models['batch size'].max()\n",
    "min_bs = hyper_params_for_models['batch size'].min()\n",
    "\n",
    "max_lr = hyper_params_for_models['learning rate'].max()\n",
    "min_lr = hyper_params_for_models['learning rate'].min()\n",
    "\n",
    "max_hu = hyper_params_for_models['number of hidden units'].max()\n",
    "min_hu = hyper_params_for_models['number of hidden units'].min()\n",
    "#@min_hu = hyper_params_for_models[model_names[0]]['number of hidden units'].min()"
   ]
  },
  {
   "cell_type": "code",
   "execution_count": 154,
   "metadata": {},
   "outputs": [],
   "source": [
    "percentage_margin = 0.5\n",
    "\n",
    "range_x=[40,300]\n",
    "range_x=[min_bs-(percentage_margin*min_bs),max_bs+(percentage_margin*min_bs)]\n",
    "\n",
    "range_y=[0.5e-3,2.5e-3]\n",
    "range_y=[min_lr-(percentage_margin*min_lr),max_lr+(percentage_margin*min_lr)]\n",
    "\n",
    "range_z=[20,500]\n",
    "range_z=[min_hu-(percentage_margin*min_hu),max_hu+(percentage_margin*min_hu)]"
   ]
  },
  {
   "cell_type": "code",
   "execution_count": 155,
   "metadata": {},
   "outputs": [
    {
     "data": {
      "application/vnd.plotly.v1+json": {
       "config": {
        "plotlyServerURL": "https://plot.ly"
       },
       "data": [
        {
         "hovertemplate": "<b>%{hovertext}</b><br><br>batch size=%{x}<br>learning rate=%{y}<br>number of hidden units=%{z}<br>accuracy=%{marker.color}<extra></extra>",
         "hovertext": [
          1,
          2,
          3,
          4,
          5,
          6,
          7,
          8,
          9
         ],
         "legendgroup": "",
         "marker": {
          "color": [
           0.9177167338709677,
           0.956149193548387,
           0.952046130952381,
           0.9601314484126984,
           0.9745411706349207,
           0.9708209325396826,
           0.981988188976378,
           0.8419394841269842,
           0.9544146825396826
          ],
          "coloraxis": "coloraxis",
          "size": 6,
          "symbol": "circle"
         },
         "mode": "markers",
         "name": "",
         "scene": "scene",
         "showlegend": false,
         "type": "scatter3d",
         "x": [
          256,
          256,
          128,
          128,
          128,
          128,
          64,
          128,
          128
         ],
         "y": [
          0.002,
          0.001,
          0.002,
          0.001,
          0.001,
          0.001,
          0.001,
          0.001,
          0.001
         ],
         "z": [
          200,
          200,
          200,
          200,
          300,
          400,
          300,
          50,
          150
         ]
        }
       ],
       "layout": {
        "coloraxis": {
         "colorbar": {
          "title": {
           "text": "accuracy"
          }
         },
         "colorscale": [
          [
           0,
           "#0d0887"
          ],
          [
           0.1111111111111111,
           "#46039f"
          ],
          [
           0.2222222222222222,
           "#7201a8"
          ],
          [
           0.3333333333333333,
           "#9c179e"
          ],
          [
           0.4444444444444444,
           "#bd3786"
          ],
          [
           0.5555555555555556,
           "#d8576b"
          ],
          [
           0.6666666666666666,
           "#ed7953"
          ],
          [
           0.7777777777777778,
           "#fb9f3a"
          ],
          [
           0.8888888888888888,
           "#fdca26"
          ],
          [
           1,
           "#f0f921"
          ]
         ]
        },
        "legend": {
         "tracegroupgap": 0
        },
        "scene": {
         "domain": {
          "x": [
           0,
           1
          ],
          "y": [
           0,
           1
          ]
         },
         "xaxis": {
          "range": [
           32,
           288
          ],
          "title": {
           "text": "batch size"
          }
         },
         "yaxis": {
          "range": [
           0.0005,
           0.0025
          ],
          "title": {
           "text": "learning rate"
          }
         },
         "zaxis": {
          "range": [
           25,
           425
          ],
          "title": {
           "text": "number of hidden units"
          }
         }
        },
        "template": {
         "data": {
          "bar": [
           {
            "error_x": {
             "color": "#2a3f5f"
            },
            "error_y": {
             "color": "#2a3f5f"
            },
            "marker": {
             "line": {
              "color": "#E5ECF6",
              "width": 0.5
             },
             "pattern": {
              "fillmode": "overlay",
              "size": 10,
              "solidity": 0.2
             }
            },
            "type": "bar"
           }
          ],
          "barpolar": [
           {
            "marker": {
             "line": {
              "color": "#E5ECF6",
              "width": 0.5
             },
             "pattern": {
              "fillmode": "overlay",
              "size": 10,
              "solidity": 0.2
             }
            },
            "type": "barpolar"
           }
          ],
          "carpet": [
           {
            "aaxis": {
             "endlinecolor": "#2a3f5f",
             "gridcolor": "white",
             "linecolor": "white",
             "minorgridcolor": "white",
             "startlinecolor": "#2a3f5f"
            },
            "baxis": {
             "endlinecolor": "#2a3f5f",
             "gridcolor": "white",
             "linecolor": "white",
             "minorgridcolor": "white",
             "startlinecolor": "#2a3f5f"
            },
            "type": "carpet"
           }
          ],
          "choropleth": [
           {
            "colorbar": {
             "outlinewidth": 0,
             "ticks": ""
            },
            "type": "choropleth"
           }
          ],
          "contour": [
           {
            "colorbar": {
             "outlinewidth": 0,
             "ticks": ""
            },
            "colorscale": [
             [
              0,
              "#0d0887"
             ],
             [
              0.1111111111111111,
              "#46039f"
             ],
             [
              0.2222222222222222,
              "#7201a8"
             ],
             [
              0.3333333333333333,
              "#9c179e"
             ],
             [
              0.4444444444444444,
              "#bd3786"
             ],
             [
              0.5555555555555556,
              "#d8576b"
             ],
             [
              0.6666666666666666,
              "#ed7953"
             ],
             [
              0.7777777777777778,
              "#fb9f3a"
             ],
             [
              0.8888888888888888,
              "#fdca26"
             ],
             [
              1,
              "#f0f921"
             ]
            ],
            "type": "contour"
           }
          ],
          "contourcarpet": [
           {
            "colorbar": {
             "outlinewidth": 0,
             "ticks": ""
            },
            "type": "contourcarpet"
           }
          ],
          "heatmap": [
           {
            "colorbar": {
             "outlinewidth": 0,
             "ticks": ""
            },
            "colorscale": [
             [
              0,
              "#0d0887"
             ],
             [
              0.1111111111111111,
              "#46039f"
             ],
             [
              0.2222222222222222,
              "#7201a8"
             ],
             [
              0.3333333333333333,
              "#9c179e"
             ],
             [
              0.4444444444444444,
              "#bd3786"
             ],
             [
              0.5555555555555556,
              "#d8576b"
             ],
             [
              0.6666666666666666,
              "#ed7953"
             ],
             [
              0.7777777777777778,
              "#fb9f3a"
             ],
             [
              0.8888888888888888,
              "#fdca26"
             ],
             [
              1,
              "#f0f921"
             ]
            ],
            "type": "heatmap"
           }
          ],
          "heatmapgl": [
           {
            "colorbar": {
             "outlinewidth": 0,
             "ticks": ""
            },
            "colorscale": [
             [
              0,
              "#0d0887"
             ],
             [
              0.1111111111111111,
              "#46039f"
             ],
             [
              0.2222222222222222,
              "#7201a8"
             ],
             [
              0.3333333333333333,
              "#9c179e"
             ],
             [
              0.4444444444444444,
              "#bd3786"
             ],
             [
              0.5555555555555556,
              "#d8576b"
             ],
             [
              0.6666666666666666,
              "#ed7953"
             ],
             [
              0.7777777777777778,
              "#fb9f3a"
             ],
             [
              0.8888888888888888,
              "#fdca26"
             ],
             [
              1,
              "#f0f921"
             ]
            ],
            "type": "heatmapgl"
           }
          ],
          "histogram": [
           {
            "marker": {
             "pattern": {
              "fillmode": "overlay",
              "size": 10,
              "solidity": 0.2
             }
            },
            "type": "histogram"
           }
          ],
          "histogram2d": [
           {
            "colorbar": {
             "outlinewidth": 0,
             "ticks": ""
            },
            "colorscale": [
             [
              0,
              "#0d0887"
             ],
             [
              0.1111111111111111,
              "#46039f"
             ],
             [
              0.2222222222222222,
              "#7201a8"
             ],
             [
              0.3333333333333333,
              "#9c179e"
             ],
             [
              0.4444444444444444,
              "#bd3786"
             ],
             [
              0.5555555555555556,
              "#d8576b"
             ],
             [
              0.6666666666666666,
              "#ed7953"
             ],
             [
              0.7777777777777778,
              "#fb9f3a"
             ],
             [
              0.8888888888888888,
              "#fdca26"
             ],
             [
              1,
              "#f0f921"
             ]
            ],
            "type": "histogram2d"
           }
          ],
          "histogram2dcontour": [
           {
            "colorbar": {
             "outlinewidth": 0,
             "ticks": ""
            },
            "colorscale": [
             [
              0,
              "#0d0887"
             ],
             [
              0.1111111111111111,
              "#46039f"
             ],
             [
              0.2222222222222222,
              "#7201a8"
             ],
             [
              0.3333333333333333,
              "#9c179e"
             ],
             [
              0.4444444444444444,
              "#bd3786"
             ],
             [
              0.5555555555555556,
              "#d8576b"
             ],
             [
              0.6666666666666666,
              "#ed7953"
             ],
             [
              0.7777777777777778,
              "#fb9f3a"
             ],
             [
              0.8888888888888888,
              "#fdca26"
             ],
             [
              1,
              "#f0f921"
             ]
            ],
            "type": "histogram2dcontour"
           }
          ],
          "mesh3d": [
           {
            "colorbar": {
             "outlinewidth": 0,
             "ticks": ""
            },
            "type": "mesh3d"
           }
          ],
          "parcoords": [
           {
            "line": {
             "colorbar": {
              "outlinewidth": 0,
              "ticks": ""
             }
            },
            "type": "parcoords"
           }
          ],
          "pie": [
           {
            "automargin": true,
            "type": "pie"
           }
          ],
          "scatter": [
           {
            "fillpattern": {
             "fillmode": "overlay",
             "size": 10,
             "solidity": 0.2
            },
            "type": "scatter"
           }
          ],
          "scatter3d": [
           {
            "line": {
             "colorbar": {
              "outlinewidth": 0,
              "ticks": ""
             }
            },
            "marker": {
             "colorbar": {
              "outlinewidth": 0,
              "ticks": ""
             }
            },
            "type": "scatter3d"
           }
          ],
          "scattercarpet": [
           {
            "marker": {
             "colorbar": {
              "outlinewidth": 0,
              "ticks": ""
             }
            },
            "type": "scattercarpet"
           }
          ],
          "scattergeo": [
           {
            "marker": {
             "colorbar": {
              "outlinewidth": 0,
              "ticks": ""
             }
            },
            "type": "scattergeo"
           }
          ],
          "scattergl": [
           {
            "marker": {
             "colorbar": {
              "outlinewidth": 0,
              "ticks": ""
             }
            },
            "type": "scattergl"
           }
          ],
          "scattermapbox": [
           {
            "marker": {
             "colorbar": {
              "outlinewidth": 0,
              "ticks": ""
             }
            },
            "type": "scattermapbox"
           }
          ],
          "scatterpolar": [
           {
            "marker": {
             "colorbar": {
              "outlinewidth": 0,
              "ticks": ""
             }
            },
            "type": "scatterpolar"
           }
          ],
          "scatterpolargl": [
           {
            "marker": {
             "colorbar": {
              "outlinewidth": 0,
              "ticks": ""
             }
            },
            "type": "scatterpolargl"
           }
          ],
          "scatterternary": [
           {
            "marker": {
             "colorbar": {
              "outlinewidth": 0,
              "ticks": ""
             }
            },
            "type": "scatterternary"
           }
          ],
          "surface": [
           {
            "colorbar": {
             "outlinewidth": 0,
             "ticks": ""
            },
            "colorscale": [
             [
              0,
              "#0d0887"
             ],
             [
              0.1111111111111111,
              "#46039f"
             ],
             [
              0.2222222222222222,
              "#7201a8"
             ],
             [
              0.3333333333333333,
              "#9c179e"
             ],
             [
              0.4444444444444444,
              "#bd3786"
             ],
             [
              0.5555555555555556,
              "#d8576b"
             ],
             [
              0.6666666666666666,
              "#ed7953"
             ],
             [
              0.7777777777777778,
              "#fb9f3a"
             ],
             [
              0.8888888888888888,
              "#fdca26"
             ],
             [
              1,
              "#f0f921"
             ]
            ],
            "type": "surface"
           }
          ],
          "table": [
           {
            "cells": {
             "fill": {
              "color": "#EBF0F8"
             },
             "line": {
              "color": "white"
             }
            },
            "header": {
             "fill": {
              "color": "#C8D4E3"
             },
             "line": {
              "color": "white"
             }
            },
            "type": "table"
           }
          ]
         },
         "layout": {
          "annotationdefaults": {
           "arrowcolor": "#2a3f5f",
           "arrowhead": 0,
           "arrowwidth": 1
          },
          "autotypenumbers": "strict",
          "coloraxis": {
           "colorbar": {
            "outlinewidth": 0,
            "ticks": ""
           }
          },
          "colorscale": {
           "diverging": [
            [
             0,
             "#8e0152"
            ],
            [
             0.1,
             "#c51b7d"
            ],
            [
             0.2,
             "#de77ae"
            ],
            [
             0.3,
             "#f1b6da"
            ],
            [
             0.4,
             "#fde0ef"
            ],
            [
             0.5,
             "#f7f7f7"
            ],
            [
             0.6,
             "#e6f5d0"
            ],
            [
             0.7,
             "#b8e186"
            ],
            [
             0.8,
             "#7fbc41"
            ],
            [
             0.9,
             "#4d9221"
            ],
            [
             1,
             "#276419"
            ]
           ],
           "sequential": [
            [
             0,
             "#0d0887"
            ],
            [
             0.1111111111111111,
             "#46039f"
            ],
            [
             0.2222222222222222,
             "#7201a8"
            ],
            [
             0.3333333333333333,
             "#9c179e"
            ],
            [
             0.4444444444444444,
             "#bd3786"
            ],
            [
             0.5555555555555556,
             "#d8576b"
            ],
            [
             0.6666666666666666,
             "#ed7953"
            ],
            [
             0.7777777777777778,
             "#fb9f3a"
            ],
            [
             0.8888888888888888,
             "#fdca26"
            ],
            [
             1,
             "#f0f921"
            ]
           ],
           "sequentialminus": [
            [
             0,
             "#0d0887"
            ],
            [
             0.1111111111111111,
             "#46039f"
            ],
            [
             0.2222222222222222,
             "#7201a8"
            ],
            [
             0.3333333333333333,
             "#9c179e"
            ],
            [
             0.4444444444444444,
             "#bd3786"
            ],
            [
             0.5555555555555556,
             "#d8576b"
            ],
            [
             0.6666666666666666,
             "#ed7953"
            ],
            [
             0.7777777777777778,
             "#fb9f3a"
            ],
            [
             0.8888888888888888,
             "#fdca26"
            ],
            [
             1,
             "#f0f921"
            ]
           ]
          },
          "colorway": [
           "#636efa",
           "#EF553B",
           "#00cc96",
           "#ab63fa",
           "#FFA15A",
           "#19d3f3",
           "#FF6692",
           "#B6E880",
           "#FF97FF",
           "#FECB52"
          ],
          "font": {
           "color": "#2a3f5f"
          },
          "geo": {
           "bgcolor": "white",
           "lakecolor": "white",
           "landcolor": "#E5ECF6",
           "showlakes": true,
           "showland": true,
           "subunitcolor": "white"
          },
          "hoverlabel": {
           "align": "left"
          },
          "hovermode": "closest",
          "mapbox": {
           "style": "light"
          },
          "paper_bgcolor": "white",
          "plot_bgcolor": "#E5ECF6",
          "polar": {
           "angularaxis": {
            "gridcolor": "white",
            "linecolor": "white",
            "ticks": ""
           },
           "bgcolor": "#E5ECF6",
           "radialaxis": {
            "gridcolor": "white",
            "linecolor": "white",
            "ticks": ""
           }
          },
          "scene": {
           "xaxis": {
            "backgroundcolor": "#E5ECF6",
            "gridcolor": "white",
            "gridwidth": 2,
            "linecolor": "white",
            "showbackground": true,
            "ticks": "",
            "zerolinecolor": "white"
           },
           "yaxis": {
            "backgroundcolor": "#E5ECF6",
            "gridcolor": "white",
            "gridwidth": 2,
            "linecolor": "white",
            "showbackground": true,
            "ticks": "",
            "zerolinecolor": "white"
           },
           "zaxis": {
            "backgroundcolor": "#E5ECF6",
            "gridcolor": "white",
            "gridwidth": 2,
            "linecolor": "white",
            "showbackground": true,
            "ticks": "",
            "zerolinecolor": "white"
           }
          },
          "shapedefaults": {
           "line": {
            "color": "#2a3f5f"
           }
          },
          "ternary": {
           "aaxis": {
            "gridcolor": "white",
            "linecolor": "white",
            "ticks": ""
           },
           "baxis": {
            "gridcolor": "white",
            "linecolor": "white",
            "ticks": ""
           },
           "bgcolor": "#E5ECF6",
           "caxis": {
            "gridcolor": "white",
            "linecolor": "white",
            "ticks": ""
           }
          },
          "title": {
           "x": 0.05
          },
          "xaxis": {
           "automargin": true,
           "gridcolor": "white",
           "linecolor": "white",
           "ticks": "",
           "title": {
            "standoff": 15
           },
           "zerolinecolor": "white",
           "zerolinewidth": 2
          },
          "yaxis": {
           "automargin": true,
           "gridcolor": "white",
           "linecolor": "white",
           "ticks": "",
           "title": {
            "standoff": 15
           },
           "zerolinecolor": "white",
           "zerolinewidth": 2
          }
         }
        },
        "title": {
         "text": "One compartment",
         "x": 0.5,
         "xanchor": "center",
         "y": 0.9,
         "yanchor": "top"
        }
       }
      }
     },
     "metadata": {},
     "output_type": "display_data"
    },
    {
     "data": {
      "application/vnd.plotly.v1+json": {
       "config": {
        "plotlyServerURL": "https://plot.ly"
       },
       "data": [
        {
         "hovertemplate": "<b>%{hovertext}</b><br><br>batch size=%{x}<br>learning rate=%{y}<br>number of hidden units=%{z}<br>accuracy=%{marker.color}<extra></extra>",
         "hovertext": [
          1,
          2,
          3,
          4,
          5,
          6,
          7,
          8,
          9
         ],
         "legendgroup": "",
         "marker": {
          "color": [
           0.9873991935483872,
           0.9972908266129032,
           0.9920758928571429,
           0.997110615079365,
           0.9972470238095237,
           0.9995411706349205,
           0.9975147637795276,
           0.9523685515873016,
           0.9918402777777778
          ],
          "coloraxis": "coloraxis",
          "size": 6,
          "symbol": "circle"
         },
         "mode": "markers",
         "name": "",
         "scene": "scene",
         "showlegend": false,
         "type": "scatter3d",
         "x": [
          256,
          256,
          128,
          128,
          128,
          128,
          64,
          128,
          128
         ],
         "y": [
          0.002,
          0.001,
          0.002,
          0.001,
          0.001,
          0.001,
          0.001,
          0.001,
          0.001
         ],
         "z": [
          200,
          200,
          200,
          200,
          300,
          400,
          300,
          50,
          150
         ]
        }
       ],
       "layout": {
        "coloraxis": {
         "colorbar": {
          "title": {
           "text": "accuracy"
          }
         },
         "colorscale": [
          [
           0,
           "#0d0887"
          ],
          [
           0.1111111111111111,
           "#46039f"
          ],
          [
           0.2222222222222222,
           "#7201a8"
          ],
          [
           0.3333333333333333,
           "#9c179e"
          ],
          [
           0.4444444444444444,
           "#bd3786"
          ],
          [
           0.5555555555555556,
           "#d8576b"
          ],
          [
           0.6666666666666666,
           "#ed7953"
          ],
          [
           0.7777777777777778,
           "#fb9f3a"
          ],
          [
           0.8888888888888888,
           "#fdca26"
          ],
          [
           1,
           "#f0f921"
          ]
         ]
        },
        "legend": {
         "tracegroupgap": 0
        },
        "scene": {
         "domain": {
          "x": [
           0,
           1
          ],
          "y": [
           0,
           1
          ]
         },
         "xaxis": {
          "range": [
           32,
           288
          ],
          "title": {
           "text": "batch size"
          }
         },
         "yaxis": {
          "range": [
           0.0005,
           0.0025
          ],
          "title": {
           "text": "learning rate"
          }
         },
         "zaxis": {
          "range": [
           25,
           425
          ],
          "title": {
           "text": "number of hidden units"
          }
         }
        },
        "template": {
         "data": {
          "bar": [
           {
            "error_x": {
             "color": "#2a3f5f"
            },
            "error_y": {
             "color": "#2a3f5f"
            },
            "marker": {
             "line": {
              "color": "#E5ECF6",
              "width": 0.5
             },
             "pattern": {
              "fillmode": "overlay",
              "size": 10,
              "solidity": 0.2
             }
            },
            "type": "bar"
           }
          ],
          "barpolar": [
           {
            "marker": {
             "line": {
              "color": "#E5ECF6",
              "width": 0.5
             },
             "pattern": {
              "fillmode": "overlay",
              "size": 10,
              "solidity": 0.2
             }
            },
            "type": "barpolar"
           }
          ],
          "carpet": [
           {
            "aaxis": {
             "endlinecolor": "#2a3f5f",
             "gridcolor": "white",
             "linecolor": "white",
             "minorgridcolor": "white",
             "startlinecolor": "#2a3f5f"
            },
            "baxis": {
             "endlinecolor": "#2a3f5f",
             "gridcolor": "white",
             "linecolor": "white",
             "minorgridcolor": "white",
             "startlinecolor": "#2a3f5f"
            },
            "type": "carpet"
           }
          ],
          "choropleth": [
           {
            "colorbar": {
             "outlinewidth": 0,
             "ticks": ""
            },
            "type": "choropleth"
           }
          ],
          "contour": [
           {
            "colorbar": {
             "outlinewidth": 0,
             "ticks": ""
            },
            "colorscale": [
             [
              0,
              "#0d0887"
             ],
             [
              0.1111111111111111,
              "#46039f"
             ],
             [
              0.2222222222222222,
              "#7201a8"
             ],
             [
              0.3333333333333333,
              "#9c179e"
             ],
             [
              0.4444444444444444,
              "#bd3786"
             ],
             [
              0.5555555555555556,
              "#d8576b"
             ],
             [
              0.6666666666666666,
              "#ed7953"
             ],
             [
              0.7777777777777778,
              "#fb9f3a"
             ],
             [
              0.8888888888888888,
              "#fdca26"
             ],
             [
              1,
              "#f0f921"
             ]
            ],
            "type": "contour"
           }
          ],
          "contourcarpet": [
           {
            "colorbar": {
             "outlinewidth": 0,
             "ticks": ""
            },
            "type": "contourcarpet"
           }
          ],
          "heatmap": [
           {
            "colorbar": {
             "outlinewidth": 0,
             "ticks": ""
            },
            "colorscale": [
             [
              0,
              "#0d0887"
             ],
             [
              0.1111111111111111,
              "#46039f"
             ],
             [
              0.2222222222222222,
              "#7201a8"
             ],
             [
              0.3333333333333333,
              "#9c179e"
             ],
             [
              0.4444444444444444,
              "#bd3786"
             ],
             [
              0.5555555555555556,
              "#d8576b"
             ],
             [
              0.6666666666666666,
              "#ed7953"
             ],
             [
              0.7777777777777778,
              "#fb9f3a"
             ],
             [
              0.8888888888888888,
              "#fdca26"
             ],
             [
              1,
              "#f0f921"
             ]
            ],
            "type": "heatmap"
           }
          ],
          "heatmapgl": [
           {
            "colorbar": {
             "outlinewidth": 0,
             "ticks": ""
            },
            "colorscale": [
             [
              0,
              "#0d0887"
             ],
             [
              0.1111111111111111,
              "#46039f"
             ],
             [
              0.2222222222222222,
              "#7201a8"
             ],
             [
              0.3333333333333333,
              "#9c179e"
             ],
             [
              0.4444444444444444,
              "#bd3786"
             ],
             [
              0.5555555555555556,
              "#d8576b"
             ],
             [
              0.6666666666666666,
              "#ed7953"
             ],
             [
              0.7777777777777778,
              "#fb9f3a"
             ],
             [
              0.8888888888888888,
              "#fdca26"
             ],
             [
              1,
              "#f0f921"
             ]
            ],
            "type": "heatmapgl"
           }
          ],
          "histogram": [
           {
            "marker": {
             "pattern": {
              "fillmode": "overlay",
              "size": 10,
              "solidity": 0.2
             }
            },
            "type": "histogram"
           }
          ],
          "histogram2d": [
           {
            "colorbar": {
             "outlinewidth": 0,
             "ticks": ""
            },
            "colorscale": [
             [
              0,
              "#0d0887"
             ],
             [
              0.1111111111111111,
              "#46039f"
             ],
             [
              0.2222222222222222,
              "#7201a8"
             ],
             [
              0.3333333333333333,
              "#9c179e"
             ],
             [
              0.4444444444444444,
              "#bd3786"
             ],
             [
              0.5555555555555556,
              "#d8576b"
             ],
             [
              0.6666666666666666,
              "#ed7953"
             ],
             [
              0.7777777777777778,
              "#fb9f3a"
             ],
             [
              0.8888888888888888,
              "#fdca26"
             ],
             [
              1,
              "#f0f921"
             ]
            ],
            "type": "histogram2d"
           }
          ],
          "histogram2dcontour": [
           {
            "colorbar": {
             "outlinewidth": 0,
             "ticks": ""
            },
            "colorscale": [
             [
              0,
              "#0d0887"
             ],
             [
              0.1111111111111111,
              "#46039f"
             ],
             [
              0.2222222222222222,
              "#7201a8"
             ],
             [
              0.3333333333333333,
              "#9c179e"
             ],
             [
              0.4444444444444444,
              "#bd3786"
             ],
             [
              0.5555555555555556,
              "#d8576b"
             ],
             [
              0.6666666666666666,
              "#ed7953"
             ],
             [
              0.7777777777777778,
              "#fb9f3a"
             ],
             [
              0.8888888888888888,
              "#fdca26"
             ],
             [
              1,
              "#f0f921"
             ]
            ],
            "type": "histogram2dcontour"
           }
          ],
          "mesh3d": [
           {
            "colorbar": {
             "outlinewidth": 0,
             "ticks": ""
            },
            "type": "mesh3d"
           }
          ],
          "parcoords": [
           {
            "line": {
             "colorbar": {
              "outlinewidth": 0,
              "ticks": ""
             }
            },
            "type": "parcoords"
           }
          ],
          "pie": [
           {
            "automargin": true,
            "type": "pie"
           }
          ],
          "scatter": [
           {
            "fillpattern": {
             "fillmode": "overlay",
             "size": 10,
             "solidity": 0.2
            },
            "type": "scatter"
           }
          ],
          "scatter3d": [
           {
            "line": {
             "colorbar": {
              "outlinewidth": 0,
              "ticks": ""
             }
            },
            "marker": {
             "colorbar": {
              "outlinewidth": 0,
              "ticks": ""
             }
            },
            "type": "scatter3d"
           }
          ],
          "scattercarpet": [
           {
            "marker": {
             "colorbar": {
              "outlinewidth": 0,
              "ticks": ""
             }
            },
            "type": "scattercarpet"
           }
          ],
          "scattergeo": [
           {
            "marker": {
             "colorbar": {
              "outlinewidth": 0,
              "ticks": ""
             }
            },
            "type": "scattergeo"
           }
          ],
          "scattergl": [
           {
            "marker": {
             "colorbar": {
              "outlinewidth": 0,
              "ticks": ""
             }
            },
            "type": "scattergl"
           }
          ],
          "scattermapbox": [
           {
            "marker": {
             "colorbar": {
              "outlinewidth": 0,
              "ticks": ""
             }
            },
            "type": "scattermapbox"
           }
          ],
          "scatterpolar": [
           {
            "marker": {
             "colorbar": {
              "outlinewidth": 0,
              "ticks": ""
             }
            },
            "type": "scatterpolar"
           }
          ],
          "scatterpolargl": [
           {
            "marker": {
             "colorbar": {
              "outlinewidth": 0,
              "ticks": ""
             }
            },
            "type": "scatterpolargl"
           }
          ],
          "scatterternary": [
           {
            "marker": {
             "colorbar": {
              "outlinewidth": 0,
              "ticks": ""
             }
            },
            "type": "scatterternary"
           }
          ],
          "surface": [
           {
            "colorbar": {
             "outlinewidth": 0,
             "ticks": ""
            },
            "colorscale": [
             [
              0,
              "#0d0887"
             ],
             [
              0.1111111111111111,
              "#46039f"
             ],
             [
              0.2222222222222222,
              "#7201a8"
             ],
             [
              0.3333333333333333,
              "#9c179e"
             ],
             [
              0.4444444444444444,
              "#bd3786"
             ],
             [
              0.5555555555555556,
              "#d8576b"
             ],
             [
              0.6666666666666666,
              "#ed7953"
             ],
             [
              0.7777777777777778,
              "#fb9f3a"
             ],
             [
              0.8888888888888888,
              "#fdca26"
             ],
             [
              1,
              "#f0f921"
             ]
            ],
            "type": "surface"
           }
          ],
          "table": [
           {
            "cells": {
             "fill": {
              "color": "#EBF0F8"
             },
             "line": {
              "color": "white"
             }
            },
            "header": {
             "fill": {
              "color": "#C8D4E3"
             },
             "line": {
              "color": "white"
             }
            },
            "type": "table"
           }
          ]
         },
         "layout": {
          "annotationdefaults": {
           "arrowcolor": "#2a3f5f",
           "arrowhead": 0,
           "arrowwidth": 1
          },
          "autotypenumbers": "strict",
          "coloraxis": {
           "colorbar": {
            "outlinewidth": 0,
            "ticks": ""
           }
          },
          "colorscale": {
           "diverging": [
            [
             0,
             "#8e0152"
            ],
            [
             0.1,
             "#c51b7d"
            ],
            [
             0.2,
             "#de77ae"
            ],
            [
             0.3,
             "#f1b6da"
            ],
            [
             0.4,
             "#fde0ef"
            ],
            [
             0.5,
             "#f7f7f7"
            ],
            [
             0.6,
             "#e6f5d0"
            ],
            [
             0.7,
             "#b8e186"
            ],
            [
             0.8,
             "#7fbc41"
            ],
            [
             0.9,
             "#4d9221"
            ],
            [
             1,
             "#276419"
            ]
           ],
           "sequential": [
            [
             0,
             "#0d0887"
            ],
            [
             0.1111111111111111,
             "#46039f"
            ],
            [
             0.2222222222222222,
             "#7201a8"
            ],
            [
             0.3333333333333333,
             "#9c179e"
            ],
            [
             0.4444444444444444,
             "#bd3786"
            ],
            [
             0.5555555555555556,
             "#d8576b"
            ],
            [
             0.6666666666666666,
             "#ed7953"
            ],
            [
             0.7777777777777778,
             "#fb9f3a"
            ],
            [
             0.8888888888888888,
             "#fdca26"
            ],
            [
             1,
             "#f0f921"
            ]
           ],
           "sequentialminus": [
            [
             0,
             "#0d0887"
            ],
            [
             0.1111111111111111,
             "#46039f"
            ],
            [
             0.2222222222222222,
             "#7201a8"
            ],
            [
             0.3333333333333333,
             "#9c179e"
            ],
            [
             0.4444444444444444,
             "#bd3786"
            ],
            [
             0.5555555555555556,
             "#d8576b"
            ],
            [
             0.6666666666666666,
             "#ed7953"
            ],
            [
             0.7777777777777778,
             "#fb9f3a"
            ],
            [
             0.8888888888888888,
             "#fdca26"
            ],
            [
             1,
             "#f0f921"
            ]
           ]
          },
          "colorway": [
           "#636efa",
           "#EF553B",
           "#00cc96",
           "#ab63fa",
           "#FFA15A",
           "#19d3f3",
           "#FF6692",
           "#B6E880",
           "#FF97FF",
           "#FECB52"
          ],
          "font": {
           "color": "#2a3f5f"
          },
          "geo": {
           "bgcolor": "white",
           "lakecolor": "white",
           "landcolor": "#E5ECF6",
           "showlakes": true,
           "showland": true,
           "subunitcolor": "white"
          },
          "hoverlabel": {
           "align": "left"
          },
          "hovermode": "closest",
          "mapbox": {
           "style": "light"
          },
          "paper_bgcolor": "white",
          "plot_bgcolor": "#E5ECF6",
          "polar": {
           "angularaxis": {
            "gridcolor": "white",
            "linecolor": "white",
            "ticks": ""
           },
           "bgcolor": "#E5ECF6",
           "radialaxis": {
            "gridcolor": "white",
            "linecolor": "white",
            "ticks": ""
           }
          },
          "scene": {
           "xaxis": {
            "backgroundcolor": "#E5ECF6",
            "gridcolor": "white",
            "gridwidth": 2,
            "linecolor": "white",
            "showbackground": true,
            "ticks": "",
            "zerolinecolor": "white"
           },
           "yaxis": {
            "backgroundcolor": "#E5ECF6",
            "gridcolor": "white",
            "gridwidth": 2,
            "linecolor": "white",
            "showbackground": true,
            "ticks": "",
            "zerolinecolor": "white"
           },
           "zaxis": {
            "backgroundcolor": "#E5ECF6",
            "gridcolor": "white",
            "gridwidth": 2,
            "linecolor": "white",
            "showbackground": true,
            "ticks": "",
            "zerolinecolor": "white"
           }
          },
          "shapedefaults": {
           "line": {
            "color": "#2a3f5f"
           }
          },
          "ternary": {
           "aaxis": {
            "gridcolor": "white",
            "linecolor": "white",
            "ticks": ""
           },
           "baxis": {
            "gridcolor": "white",
            "linecolor": "white",
            "ticks": ""
           },
           "bgcolor": "#E5ECF6",
           "caxis": {
            "gridcolor": "white",
            "linecolor": "white",
            "ticks": ""
           }
          },
          "title": {
           "x": 0.05
          },
          "xaxis": {
           "automargin": true,
           "gridcolor": "white",
           "linecolor": "white",
           "ticks": "",
           "title": {
            "standoff": 15
           },
           "zerolinecolor": "white",
           "zerolinewidth": 2
          },
          "yaxis": {
           "automargin": true,
           "gridcolor": "white",
           "linecolor": "white",
           "ticks": "",
           "title": {
            "standoff": 15
           },
           "zerolinecolor": "white",
           "zerolinewidth": 2
          }
         }
        },
        "title": {
         "text": "No BAP",
         "x": 0.5,
         "xanchor": "center",
         "y": 0.9,
         "yanchor": "top"
        }
       }
      }
     },
     "metadata": {},
     "output_type": "display_data"
    },
    {
     "data": {
      "application/vnd.plotly.v1+json": {
       "config": {
        "plotlyServerURL": "https://plot.ly"
       },
       "data": [
        {
         "hovertemplate": "<b>%{hovertext}</b><br><br>batch size=%{x}<br>learning rate=%{y}<br>number of hidden units=%{z}<br>accuracy=%{marker.color}<extra></extra>",
         "hovertext": [
          1,
          2,
          3,
          4,
          5,
          6,
          7,
          8,
          9
         ],
         "legendgroup": "",
         "marker": {
          "color": [
           0.9795992943548388,
           0.991960685483871,
           0.9866443452380953,
           0.9960193452380952,
           0.9993675595238095,
           0.9982886904761905,
           0.9967027559055118,
           0.956547619047619,
           0.9846478174603176
          ],
          "coloraxis": "coloraxis",
          "size": 6,
          "symbol": "circle"
         },
         "mode": "markers",
         "name": "",
         "scene": "scene",
         "showlegend": false,
         "type": "scatter3d",
         "x": [
          256,
          256,
          128,
          128,
          128,
          128,
          64,
          128,
          128
         ],
         "y": [
          0.002,
          0.001,
          0.002,
          0.001,
          0.001,
          0.001,
          0.001,
          0.001,
          0.001
         ],
         "z": [
          200,
          200,
          200,
          200,
          300,
          400,
          300,
          50,
          150
         ]
        }
       ],
       "layout": {
        "coloraxis": {
         "colorbar": {
          "title": {
           "text": "accuracy"
          }
         },
         "colorscale": [
          [
           0,
           "#0d0887"
          ],
          [
           0.1111111111111111,
           "#46039f"
          ],
          [
           0.2222222222222222,
           "#7201a8"
          ],
          [
           0.3333333333333333,
           "#9c179e"
          ],
          [
           0.4444444444444444,
           "#bd3786"
          ],
          [
           0.5555555555555556,
           "#d8576b"
          ],
          [
           0.6666666666666666,
           "#ed7953"
          ],
          [
           0.7777777777777778,
           "#fb9f3a"
          ],
          [
           0.8888888888888888,
           "#fdca26"
          ],
          [
           1,
           "#f0f921"
          ]
         ]
        },
        "legend": {
         "tracegroupgap": 0
        },
        "scene": {
         "domain": {
          "x": [
           0,
           1
          ],
          "y": [
           0,
           1
          ]
         },
         "xaxis": {
          "range": [
           32,
           288
          ],
          "title": {
           "text": "batch size"
          }
         },
         "yaxis": {
          "range": [
           0.0005,
           0.0025
          ],
          "title": {
           "text": "learning rate"
          }
         },
         "zaxis": {
          "range": [
           25,
           425
          ],
          "title": {
           "text": "number of hidden units"
          }
         }
        },
        "template": {
         "data": {
          "bar": [
           {
            "error_x": {
             "color": "#2a3f5f"
            },
            "error_y": {
             "color": "#2a3f5f"
            },
            "marker": {
             "line": {
              "color": "#E5ECF6",
              "width": 0.5
             },
             "pattern": {
              "fillmode": "overlay",
              "size": 10,
              "solidity": 0.2
             }
            },
            "type": "bar"
           }
          ],
          "barpolar": [
           {
            "marker": {
             "line": {
              "color": "#E5ECF6",
              "width": 0.5
             },
             "pattern": {
              "fillmode": "overlay",
              "size": 10,
              "solidity": 0.2
             }
            },
            "type": "barpolar"
           }
          ],
          "carpet": [
           {
            "aaxis": {
             "endlinecolor": "#2a3f5f",
             "gridcolor": "white",
             "linecolor": "white",
             "minorgridcolor": "white",
             "startlinecolor": "#2a3f5f"
            },
            "baxis": {
             "endlinecolor": "#2a3f5f",
             "gridcolor": "white",
             "linecolor": "white",
             "minorgridcolor": "white",
             "startlinecolor": "#2a3f5f"
            },
            "type": "carpet"
           }
          ],
          "choropleth": [
           {
            "colorbar": {
             "outlinewidth": 0,
             "ticks": ""
            },
            "type": "choropleth"
           }
          ],
          "contour": [
           {
            "colorbar": {
             "outlinewidth": 0,
             "ticks": ""
            },
            "colorscale": [
             [
              0,
              "#0d0887"
             ],
             [
              0.1111111111111111,
              "#46039f"
             ],
             [
              0.2222222222222222,
              "#7201a8"
             ],
             [
              0.3333333333333333,
              "#9c179e"
             ],
             [
              0.4444444444444444,
              "#bd3786"
             ],
             [
              0.5555555555555556,
              "#d8576b"
             ],
             [
              0.6666666666666666,
              "#ed7953"
             ],
             [
              0.7777777777777778,
              "#fb9f3a"
             ],
             [
              0.8888888888888888,
              "#fdca26"
             ],
             [
              1,
              "#f0f921"
             ]
            ],
            "type": "contour"
           }
          ],
          "contourcarpet": [
           {
            "colorbar": {
             "outlinewidth": 0,
             "ticks": ""
            },
            "type": "contourcarpet"
           }
          ],
          "heatmap": [
           {
            "colorbar": {
             "outlinewidth": 0,
             "ticks": ""
            },
            "colorscale": [
             [
              0,
              "#0d0887"
             ],
             [
              0.1111111111111111,
              "#46039f"
             ],
             [
              0.2222222222222222,
              "#7201a8"
             ],
             [
              0.3333333333333333,
              "#9c179e"
             ],
             [
              0.4444444444444444,
              "#bd3786"
             ],
             [
              0.5555555555555556,
              "#d8576b"
             ],
             [
              0.6666666666666666,
              "#ed7953"
             ],
             [
              0.7777777777777778,
              "#fb9f3a"
             ],
             [
              0.8888888888888888,
              "#fdca26"
             ],
             [
              1,
              "#f0f921"
             ]
            ],
            "type": "heatmap"
           }
          ],
          "heatmapgl": [
           {
            "colorbar": {
             "outlinewidth": 0,
             "ticks": ""
            },
            "colorscale": [
             [
              0,
              "#0d0887"
             ],
             [
              0.1111111111111111,
              "#46039f"
             ],
             [
              0.2222222222222222,
              "#7201a8"
             ],
             [
              0.3333333333333333,
              "#9c179e"
             ],
             [
              0.4444444444444444,
              "#bd3786"
             ],
             [
              0.5555555555555556,
              "#d8576b"
             ],
             [
              0.6666666666666666,
              "#ed7953"
             ],
             [
              0.7777777777777778,
              "#fb9f3a"
             ],
             [
              0.8888888888888888,
              "#fdca26"
             ],
             [
              1,
              "#f0f921"
             ]
            ],
            "type": "heatmapgl"
           }
          ],
          "histogram": [
           {
            "marker": {
             "pattern": {
              "fillmode": "overlay",
              "size": 10,
              "solidity": 0.2
             }
            },
            "type": "histogram"
           }
          ],
          "histogram2d": [
           {
            "colorbar": {
             "outlinewidth": 0,
             "ticks": ""
            },
            "colorscale": [
             [
              0,
              "#0d0887"
             ],
             [
              0.1111111111111111,
              "#46039f"
             ],
             [
              0.2222222222222222,
              "#7201a8"
             ],
             [
              0.3333333333333333,
              "#9c179e"
             ],
             [
              0.4444444444444444,
              "#bd3786"
             ],
             [
              0.5555555555555556,
              "#d8576b"
             ],
             [
              0.6666666666666666,
              "#ed7953"
             ],
             [
              0.7777777777777778,
              "#fb9f3a"
             ],
             [
              0.8888888888888888,
              "#fdca26"
             ],
             [
              1,
              "#f0f921"
             ]
            ],
            "type": "histogram2d"
           }
          ],
          "histogram2dcontour": [
           {
            "colorbar": {
             "outlinewidth": 0,
             "ticks": ""
            },
            "colorscale": [
             [
              0,
              "#0d0887"
             ],
             [
              0.1111111111111111,
              "#46039f"
             ],
             [
              0.2222222222222222,
              "#7201a8"
             ],
             [
              0.3333333333333333,
              "#9c179e"
             ],
             [
              0.4444444444444444,
              "#bd3786"
             ],
             [
              0.5555555555555556,
              "#d8576b"
             ],
             [
              0.6666666666666666,
              "#ed7953"
             ],
             [
              0.7777777777777778,
              "#fb9f3a"
             ],
             [
              0.8888888888888888,
              "#fdca26"
             ],
             [
              1,
              "#f0f921"
             ]
            ],
            "type": "histogram2dcontour"
           }
          ],
          "mesh3d": [
           {
            "colorbar": {
             "outlinewidth": 0,
             "ticks": ""
            },
            "type": "mesh3d"
           }
          ],
          "parcoords": [
           {
            "line": {
             "colorbar": {
              "outlinewidth": 0,
              "ticks": ""
             }
            },
            "type": "parcoords"
           }
          ],
          "pie": [
           {
            "automargin": true,
            "type": "pie"
           }
          ],
          "scatter": [
           {
            "fillpattern": {
             "fillmode": "overlay",
             "size": 10,
             "solidity": 0.2
            },
            "type": "scatter"
           }
          ],
          "scatter3d": [
           {
            "line": {
             "colorbar": {
              "outlinewidth": 0,
              "ticks": ""
             }
            },
            "marker": {
             "colorbar": {
              "outlinewidth": 0,
              "ticks": ""
             }
            },
            "type": "scatter3d"
           }
          ],
          "scattercarpet": [
           {
            "marker": {
             "colorbar": {
              "outlinewidth": 0,
              "ticks": ""
             }
            },
            "type": "scattercarpet"
           }
          ],
          "scattergeo": [
           {
            "marker": {
             "colorbar": {
              "outlinewidth": 0,
              "ticks": ""
             }
            },
            "type": "scattergeo"
           }
          ],
          "scattergl": [
           {
            "marker": {
             "colorbar": {
              "outlinewidth": 0,
              "ticks": ""
             }
            },
            "type": "scattergl"
           }
          ],
          "scattermapbox": [
           {
            "marker": {
             "colorbar": {
              "outlinewidth": 0,
              "ticks": ""
             }
            },
            "type": "scattermapbox"
           }
          ],
          "scatterpolar": [
           {
            "marker": {
             "colorbar": {
              "outlinewidth": 0,
              "ticks": ""
             }
            },
            "type": "scatterpolar"
           }
          ],
          "scatterpolargl": [
           {
            "marker": {
             "colorbar": {
              "outlinewidth": 0,
              "ticks": ""
             }
            },
            "type": "scatterpolargl"
           }
          ],
          "scatterternary": [
           {
            "marker": {
             "colorbar": {
              "outlinewidth": 0,
              "ticks": ""
             }
            },
            "type": "scatterternary"
           }
          ],
          "surface": [
           {
            "colorbar": {
             "outlinewidth": 0,
             "ticks": ""
            },
            "colorscale": [
             [
              0,
              "#0d0887"
             ],
             [
              0.1111111111111111,
              "#46039f"
             ],
             [
              0.2222222222222222,
              "#7201a8"
             ],
             [
              0.3333333333333333,
              "#9c179e"
             ],
             [
              0.4444444444444444,
              "#bd3786"
             ],
             [
              0.5555555555555556,
              "#d8576b"
             ],
             [
              0.6666666666666666,
              "#ed7953"
             ],
             [
              0.7777777777777778,
              "#fb9f3a"
             ],
             [
              0.8888888888888888,
              "#fdca26"
             ],
             [
              1,
              "#f0f921"
             ]
            ],
            "type": "surface"
           }
          ],
          "table": [
           {
            "cells": {
             "fill": {
              "color": "#EBF0F8"
             },
             "line": {
              "color": "white"
             }
            },
            "header": {
             "fill": {
              "color": "#C8D4E3"
             },
             "line": {
              "color": "white"
             }
            },
            "type": "table"
           }
          ]
         },
         "layout": {
          "annotationdefaults": {
           "arrowcolor": "#2a3f5f",
           "arrowhead": 0,
           "arrowwidth": 1
          },
          "autotypenumbers": "strict",
          "coloraxis": {
           "colorbar": {
            "outlinewidth": 0,
            "ticks": ""
           }
          },
          "colorscale": {
           "diverging": [
            [
             0,
             "#8e0152"
            ],
            [
             0.1,
             "#c51b7d"
            ],
            [
             0.2,
             "#de77ae"
            ],
            [
             0.3,
             "#f1b6da"
            ],
            [
             0.4,
             "#fde0ef"
            ],
            [
             0.5,
             "#f7f7f7"
            ],
            [
             0.6,
             "#e6f5d0"
            ],
            [
             0.7,
             "#b8e186"
            ],
            [
             0.8,
             "#7fbc41"
            ],
            [
             0.9,
             "#4d9221"
            ],
            [
             1,
             "#276419"
            ]
           ],
           "sequential": [
            [
             0,
             "#0d0887"
            ],
            [
             0.1111111111111111,
             "#46039f"
            ],
            [
             0.2222222222222222,
             "#7201a8"
            ],
            [
             0.3333333333333333,
             "#9c179e"
            ],
            [
             0.4444444444444444,
             "#bd3786"
            ],
            [
             0.5555555555555556,
             "#d8576b"
            ],
            [
             0.6666666666666666,
             "#ed7953"
            ],
            [
             0.7777777777777778,
             "#fb9f3a"
            ],
            [
             0.8888888888888888,
             "#fdca26"
            ],
            [
             1,
             "#f0f921"
            ]
           ],
           "sequentialminus": [
            [
             0,
             "#0d0887"
            ],
            [
             0.1111111111111111,
             "#46039f"
            ],
            [
             0.2222222222222222,
             "#7201a8"
            ],
            [
             0.3333333333333333,
             "#9c179e"
            ],
            [
             0.4444444444444444,
             "#bd3786"
            ],
            [
             0.5555555555555556,
             "#d8576b"
            ],
            [
             0.6666666666666666,
             "#ed7953"
            ],
            [
             0.7777777777777778,
             "#fb9f3a"
            ],
            [
             0.8888888888888888,
             "#fdca26"
            ],
            [
             1,
             "#f0f921"
            ]
           ]
          },
          "colorway": [
           "#636efa",
           "#EF553B",
           "#00cc96",
           "#ab63fa",
           "#FFA15A",
           "#19d3f3",
           "#FF6692",
           "#B6E880",
           "#FF97FF",
           "#FECB52"
          ],
          "font": {
           "color": "#2a3f5f"
          },
          "geo": {
           "bgcolor": "white",
           "lakecolor": "white",
           "landcolor": "#E5ECF6",
           "showlakes": true,
           "showland": true,
           "subunitcolor": "white"
          },
          "hoverlabel": {
           "align": "left"
          },
          "hovermode": "closest",
          "mapbox": {
           "style": "light"
          },
          "paper_bgcolor": "white",
          "plot_bgcolor": "#E5ECF6",
          "polar": {
           "angularaxis": {
            "gridcolor": "white",
            "linecolor": "white",
            "ticks": ""
           },
           "bgcolor": "#E5ECF6",
           "radialaxis": {
            "gridcolor": "white",
            "linecolor": "white",
            "ticks": ""
           }
          },
          "scene": {
           "xaxis": {
            "backgroundcolor": "#E5ECF6",
            "gridcolor": "white",
            "gridwidth": 2,
            "linecolor": "white",
            "showbackground": true,
            "ticks": "",
            "zerolinecolor": "white"
           },
           "yaxis": {
            "backgroundcolor": "#E5ECF6",
            "gridcolor": "white",
            "gridwidth": 2,
            "linecolor": "white",
            "showbackground": true,
            "ticks": "",
            "zerolinecolor": "white"
           },
           "zaxis": {
            "backgroundcolor": "#E5ECF6",
            "gridcolor": "white",
            "gridwidth": 2,
            "linecolor": "white",
            "showbackground": true,
            "ticks": "",
            "zerolinecolor": "white"
           }
          },
          "shapedefaults": {
           "line": {
            "color": "#2a3f5f"
           }
          },
          "ternary": {
           "aaxis": {
            "gridcolor": "white",
            "linecolor": "white",
            "ticks": ""
           },
           "baxis": {
            "gridcolor": "white",
            "linecolor": "white",
            "ticks": ""
           },
           "bgcolor": "#E5ECF6",
           "caxis": {
            "gridcolor": "white",
            "linecolor": "white",
            "ticks": ""
           }
          },
          "title": {
           "x": 0.05
          },
          "xaxis": {
           "automargin": true,
           "gridcolor": "white",
           "linecolor": "white",
           "ticks": "",
           "title": {
            "standoff": 15
           },
           "zerolinecolor": "white",
           "zerolinewidth": 2
          },
          "yaxis": {
           "automargin": true,
           "gridcolor": "white",
           "linecolor": "white",
           "ticks": "",
           "title": {
            "standoff": 15
           },
           "zerolinecolor": "white",
           "zerolinewidth": 2
          }
         }
        },
        "title": {
         "text": "BAP",
         "x": 0.5,
         "xanchor": "center",
         "y": 0.9,
         "yanchor": "top"
        }
       }
      }
     },
     "metadata": {},
     "output_type": "display_data"
    }
   ],
   "source": [
    "import plotly.express as px\n",
    "\n",
    "# Plot every model:\n",
    "for model_name in model_names:\n",
    "    fig = px.scatter_3d(data_frame=hyper_params_for_models[hyper_params_for_models['model_name'] == model_name], x='batch size', y='learning rate', z='number of hidden units',\n",
    "                    color='accuracy', range_x=range_x, range_y=range_y, range_z=range_z,\n",
    "                    title = model_name, hover_name='run_id')\n",
    "\n",
    "    fig.update_traces(marker_size = 6)\n",
    "    fig.update_layout(\n",
    "        title={\n",
    "            'text': model_name,\n",
    "            'y':0.9,\n",
    "            'x':0.5,\n",
    "            'xanchor': 'center',\n",
    "            'yanchor': 'top'\n",
    "            })\n",
    "    fig.show()\n"
   ]
  },
  {
   "cell_type": "markdown",
   "metadata": {},
   "source": [
    "## Dimension reduction where batch size (=128) and learning rate (=1e-3) are fixed"
   ]
  },
  {
   "cell_type": "code",
   "execution_count": 156,
   "metadata": {},
   "outputs": [],
   "source": [
    "searches = ['run_4_22_08_22', \n",
    "            'run_5_24_08_22', \n",
    "            'run_6_26_08_22', \n",
    "            'run_8_30_08_22',\n",
    "            'run_9_01_09_22']"
   ]
  },
  {
   "cell_type": "code",
   "execution_count": 157,
   "metadata": {},
   "outputs": [
    {
     "data": {
      "text/html": [
       "<div>\n",
       "<style scoped>\n",
       "    .dataframe tbody tr th:only-of-type {\n",
       "        vertical-align: middle;\n",
       "    }\n",
       "\n",
       "    .dataframe tbody tr th {\n",
       "        vertical-align: top;\n",
       "    }\n",
       "\n",
       "    .dataframe thead th {\n",
       "        text-align: right;\n",
       "    }\n",
       "</style>\n",
       "<table border=\"1\" class=\"dataframe\">\n",
       "  <thead>\n",
       "    <tr style=\"text-align: right;\">\n",
       "      <th></th>\n",
       "      <th>batch size</th>\n",
       "      <th>learning rate</th>\n",
       "      <th>number of hidden units</th>\n",
       "    </tr>\n",
       "  </thead>\n",
       "  <tbody>\n",
       "    <tr>\n",
       "      <th>0</th>\n",
       "      <td>128</td>\n",
       "      <td>0.001</td>\n",
       "      <td>200</td>\n",
       "    </tr>\n",
       "    <tr>\n",
       "      <th>1</th>\n",
       "      <td>128</td>\n",
       "      <td>0.001</td>\n",
       "      <td>300</td>\n",
       "    </tr>\n",
       "    <tr>\n",
       "      <th>2</th>\n",
       "      <td>128</td>\n",
       "      <td>0.001</td>\n",
       "      <td>400</td>\n",
       "    </tr>\n",
       "    <tr>\n",
       "      <th>3</th>\n",
       "      <td>128</td>\n",
       "      <td>0.001</td>\n",
       "      <td>50</td>\n",
       "    </tr>\n",
       "    <tr>\n",
       "      <th>4</th>\n",
       "      <td>128</td>\n",
       "      <td>0.001</td>\n",
       "      <td>150</td>\n",
       "    </tr>\n",
       "  </tbody>\n",
       "</table>\n",
       "</div>"
      ],
      "text/plain": [
       "   batch size  learning rate  number of hidden units\n",
       "0         128          0.001                     200\n",
       "1         128          0.001                     300\n",
       "2         128          0.001                     400\n",
       "3         128          0.001                      50\n",
       "4         128          0.001                     150"
      ]
     },
     "execution_count": 157,
     "metadata": {},
     "output_type": "execute_result"
    }
   ],
   "source": [
    "hyper_params_df = pd.DataFrame(hyper_params)\n",
    "hyper_params_df = hyper_params_df[hyper_params_df['batch size'] == 128]\n",
    "hyper_params_df = hyper_params_df[hyper_params_df['learning rate'] == 1e-3]\n",
    "hyper_params_df.reset_index(drop=True, inplace=True)\n",
    "#hyper_params['run_id'] = searches\n",
    "hyper_params_df"
   ]
  },
  {
   "cell_type": "code",
   "execution_count": 158,
   "metadata": {},
   "outputs": [
    {
     "data": {
      "text/html": [
       "<div>\n",
       "<style scoped>\n",
       "    .dataframe tbody tr th:only-of-type {\n",
       "        vertical-align: middle;\n",
       "    }\n",
       "\n",
       "    .dataframe tbody tr th {\n",
       "        vertical-align: top;\n",
       "    }\n",
       "\n",
       "    .dataframe thead th {\n",
       "        text-align: right;\n",
       "    }\n",
       "</style>\n",
       "<table border=\"1\" class=\"dataframe\">\n",
       "  <thead>\n",
       "    <tr style=\"text-align: right;\">\n",
       "      <th></th>\n",
       "      <th>batch size</th>\n",
       "      <th>learning rate</th>\n",
       "      <th>number of hidden units</th>\n",
       "    </tr>\n",
       "  </thead>\n",
       "  <tbody>\n",
       "    <tr>\n",
       "      <th>0</th>\n",
       "      <td>128</td>\n",
       "      <td>0.001</td>\n",
       "      <td>200</td>\n",
       "    </tr>\n",
       "    <tr>\n",
       "      <th>1</th>\n",
       "      <td>128</td>\n",
       "      <td>0.001</td>\n",
       "      <td>200</td>\n",
       "    </tr>\n",
       "    <tr>\n",
       "      <th>2</th>\n",
       "      <td>128</td>\n",
       "      <td>0.001</td>\n",
       "      <td>200</td>\n",
       "    </tr>\n",
       "    <tr>\n",
       "      <th>3</th>\n",
       "      <td>128</td>\n",
       "      <td>0.001</td>\n",
       "      <td>200</td>\n",
       "    </tr>\n",
       "    <tr>\n",
       "      <th>4</th>\n",
       "      <td>128</td>\n",
       "      <td>0.001</td>\n",
       "      <td>200</td>\n",
       "    </tr>\n",
       "    <tr>\n",
       "      <th>...</th>\n",
       "      <td>...</td>\n",
       "      <td>...</td>\n",
       "      <td>...</td>\n",
       "    </tr>\n",
       "    <tr>\n",
       "      <th>145</th>\n",
       "      <td>128</td>\n",
       "      <td>0.001</td>\n",
       "      <td>150</td>\n",
       "    </tr>\n",
       "    <tr>\n",
       "      <th>146</th>\n",
       "      <td>128</td>\n",
       "      <td>0.001</td>\n",
       "      <td>150</td>\n",
       "    </tr>\n",
       "    <tr>\n",
       "      <th>147</th>\n",
       "      <td>128</td>\n",
       "      <td>0.001</td>\n",
       "      <td>150</td>\n",
       "    </tr>\n",
       "    <tr>\n",
       "      <th>148</th>\n",
       "      <td>128</td>\n",
       "      <td>0.001</td>\n",
       "      <td>150</td>\n",
       "    </tr>\n",
       "    <tr>\n",
       "      <th>149</th>\n",
       "      <td>128</td>\n",
       "      <td>0.001</td>\n",
       "      <td>150</td>\n",
       "    </tr>\n",
       "  </tbody>\n",
       "</table>\n",
       "<p>150 rows × 3 columns</p>\n",
       "</div>"
      ],
      "text/plain": [
       "     batch size  learning rate  number of hidden units\n",
       "0           128          0.001                     200\n",
       "1           128          0.001                     200\n",
       "2           128          0.001                     200\n",
       "3           128          0.001                     200\n",
       "4           128          0.001                     200\n",
       "..          ...            ...                     ...\n",
       "145         128          0.001                     150\n",
       "146         128          0.001                     150\n",
       "147         128          0.001                     150\n",
       "148         128          0.001                     150\n",
       "149         128          0.001                     150\n",
       "\n",
       "[150 rows x 3 columns]"
      ]
     },
     "execution_count": 158,
     "metadata": {},
     "output_type": "execute_result"
    }
   ],
   "source": [
    "model_names = data.model_name.unique()\n",
    "\n",
    "hyper_params_repeated_with_index = pd.concat([hyper_params_df]*number_of_seeds)\n",
    "hyper_params_repeated_with_index = hyper_params_repeated_with_index.sort_index()\n",
    "hyper_params_repeated_with_index = pd.concat([hyper_params_repeated_with_index]*len(model_names))\n",
    "hyper_params_repeated_with_index.reset_index(drop=True, inplace=True)\n",
    "hyper_params_repeated_with_index"
   ]
  },
  {
   "cell_type": "code",
   "execution_count": 159,
   "metadata": {},
   "outputs": [
    {
     "data": {
      "text/html": [
       "<div>\n",
       "<style scoped>\n",
       "    .dataframe tbody tr th:only-of-type {\n",
       "        vertical-align: middle;\n",
       "    }\n",
       "\n",
       "    .dataframe tbody tr th {\n",
       "        vertical-align: top;\n",
       "    }\n",
       "\n",
       "    .dataframe thead th {\n",
       "        text-align: right;\n",
       "    }\n",
       "</style>\n",
       "<table border=\"1\" class=\"dataframe\">\n",
       "  <thead>\n",
       "    <tr style=\"text-align: right;\">\n",
       "      <th></th>\n",
       "      <th>model_name</th>\n",
       "      <th>epoch</th>\n",
       "      <th>loss</th>\n",
       "      <th>accuracy</th>\n",
       "      <th>seed</th>\n",
       "      <th>run_id</th>\n",
       "    </tr>\n",
       "  </thead>\n",
       "  <tbody>\n",
       "    <tr>\n",
       "      <th>0</th>\n",
       "      <td>One compartment</td>\n",
       "      <td>199</td>\n",
       "      <td>0.341262</td>\n",
       "      <td>0.899678</td>\n",
       "      <td>0</td>\n",
       "      <td>1</td>\n",
       "    </tr>\n",
       "    <tr>\n",
       "      <th>1</th>\n",
       "      <td>One compartment</td>\n",
       "      <td>199</td>\n",
       "      <td>0.133728</td>\n",
       "      <td>0.966394</td>\n",
       "      <td>1</td>\n",
       "      <td>1</td>\n",
       "    </tr>\n",
       "    <tr>\n",
       "      <th>2</th>\n",
       "      <td>One compartment</td>\n",
       "      <td>199</td>\n",
       "      <td>0.132742</td>\n",
       "      <td>0.966146</td>\n",
       "      <td>2</td>\n",
       "      <td>1</td>\n",
       "    </tr>\n",
       "    <tr>\n",
       "      <th>3</th>\n",
       "      <td>One compartment</td>\n",
       "      <td>199</td>\n",
       "      <td>0.125876</td>\n",
       "      <td>0.968502</td>\n",
       "      <td>3</td>\n",
       "      <td>1</td>\n",
       "    </tr>\n",
       "    <tr>\n",
       "      <th>4</th>\n",
       "      <td>One compartment</td>\n",
       "      <td>199</td>\n",
       "      <td>0.123213</td>\n",
       "      <td>0.968998</td>\n",
       "      <td>4</td>\n",
       "      <td>1</td>\n",
       "    </tr>\n",
       "    <tr>\n",
       "      <th>...</th>\n",
       "      <td>...</td>\n",
       "      <td>...</td>\n",
       "      <td>...</td>\n",
       "      <td>...</td>\n",
       "      <td>...</td>\n",
       "      <td>...</td>\n",
       "    </tr>\n",
       "    <tr>\n",
       "      <th>45</th>\n",
       "      <td>BAP</td>\n",
       "      <td>199</td>\n",
       "      <td>0.189869</td>\n",
       "      <td>0.942212</td>\n",
       "      <td>5</td>\n",
       "      <td>5</td>\n",
       "    </tr>\n",
       "    <tr>\n",
       "      <th>46</th>\n",
       "      <td>BAP</td>\n",
       "      <td>199</td>\n",
       "      <td>0.036477</td>\n",
       "      <td>0.990079</td>\n",
       "      <td>6</td>\n",
       "      <td>5</td>\n",
       "    </tr>\n",
       "    <tr>\n",
       "      <th>47</th>\n",
       "      <td>BAP</td>\n",
       "      <td>199</td>\n",
       "      <td>0.047919</td>\n",
       "      <td>0.988715</td>\n",
       "      <td>7</td>\n",
       "      <td>5</td>\n",
       "    </tr>\n",
       "    <tr>\n",
       "      <th>48</th>\n",
       "      <td>BAP</td>\n",
       "      <td>199</td>\n",
       "      <td>0.030785</td>\n",
       "      <td>0.994048</td>\n",
       "      <td>8</td>\n",
       "      <td>5</td>\n",
       "    </tr>\n",
       "    <tr>\n",
       "      <th>49</th>\n",
       "      <td>BAP</td>\n",
       "      <td>199</td>\n",
       "      <td>0.037281</td>\n",
       "      <td>0.990203</td>\n",
       "      <td>9</td>\n",
       "      <td>5</td>\n",
       "    </tr>\n",
       "  </tbody>\n",
       "</table>\n",
       "<p>150 rows × 6 columns</p>\n",
       "</div>"
      ],
      "text/plain": [
       "         model_name  epoch      loss  accuracy  seed  run_id\n",
       "0   One compartment    199  0.341262  0.899678     0       1\n",
       "1   One compartment    199  0.133728  0.966394     1       1\n",
       "2   One compartment    199  0.132742  0.966146     2       1\n",
       "3   One compartment    199  0.125876  0.968502     3       1\n",
       "4   One compartment    199  0.123213  0.968998     4       1\n",
       "..              ...    ...       ...       ...   ...     ...\n",
       "45              BAP    199  0.189869  0.942212     5       5\n",
       "46              BAP    199  0.036477  0.990079     6       5\n",
       "47              BAP    199  0.047919  0.988715     7       5\n",
       "48              BAP    199  0.030785  0.994048     8       5\n",
       "49              BAP    199  0.037281  0.990203     9       5\n",
       "\n",
       "[150 rows x 6 columns]"
      ]
     },
     "execution_count": 159,
     "metadata": {},
     "output_type": "execute_result"
    }
   ],
   "source": [
    "data_for_hidden_dim_analysis = get_hyper_param_dict_dataframe(hyper_params_df.reset_index(drop=True, inplace=True), searches, keep_seeds=True)\n",
    "#data[data['model_name'] == 'BAP']\n",
    "data_for_hidden_dim_analysis"
   ]
  },
  {
   "cell_type": "code",
   "execution_count": 160,
   "metadata": {},
   "outputs": [
    {
     "data": {
      "text/html": [
       "<div>\n",
       "<style scoped>\n",
       "    .dataframe tbody tr th:only-of-type {\n",
       "        vertical-align: middle;\n",
       "    }\n",
       "\n",
       "    .dataframe tbody tr th {\n",
       "        vertical-align: top;\n",
       "    }\n",
       "\n",
       "    .dataframe thead th {\n",
       "        text-align: right;\n",
       "    }\n",
       "</style>\n",
       "<table border=\"1\" class=\"dataframe\">\n",
       "  <thead>\n",
       "    <tr style=\"text-align: right;\">\n",
       "      <th></th>\n",
       "      <th>model_name</th>\n",
       "      <th>epoch</th>\n",
       "      <th>loss</th>\n",
       "      <th>accuracy</th>\n",
       "      <th>seed</th>\n",
       "      <th>run_id</th>\n",
       "    </tr>\n",
       "  </thead>\n",
       "  <tbody>\n",
       "    <tr>\n",
       "      <th>0</th>\n",
       "      <td>One compartment</td>\n",
       "      <td>199</td>\n",
       "      <td>0.341262</td>\n",
       "      <td>0.899678</td>\n",
       "      <td>0</td>\n",
       "      <td>1</td>\n",
       "    </tr>\n",
       "    <tr>\n",
       "      <th>1</th>\n",
       "      <td>One compartment</td>\n",
       "      <td>199</td>\n",
       "      <td>0.133728</td>\n",
       "      <td>0.966394</td>\n",
       "      <td>1</td>\n",
       "      <td>1</td>\n",
       "    </tr>\n",
       "    <tr>\n",
       "      <th>2</th>\n",
       "      <td>One compartment</td>\n",
       "      <td>199</td>\n",
       "      <td>0.132742</td>\n",
       "      <td>0.966146</td>\n",
       "      <td>2</td>\n",
       "      <td>1</td>\n",
       "    </tr>\n",
       "    <tr>\n",
       "      <th>3</th>\n",
       "      <td>One compartment</td>\n",
       "      <td>199</td>\n",
       "      <td>0.125876</td>\n",
       "      <td>0.968502</td>\n",
       "      <td>3</td>\n",
       "      <td>1</td>\n",
       "    </tr>\n",
       "    <tr>\n",
       "      <th>4</th>\n",
       "      <td>One compartment</td>\n",
       "      <td>199</td>\n",
       "      <td>0.123213</td>\n",
       "      <td>0.968998</td>\n",
       "      <td>4</td>\n",
       "      <td>1</td>\n",
       "    </tr>\n",
       "    <tr>\n",
       "      <th>...</th>\n",
       "      <td>...</td>\n",
       "      <td>...</td>\n",
       "      <td>...</td>\n",
       "      <td>...</td>\n",
       "      <td>...</td>\n",
       "      <td>...</td>\n",
       "    </tr>\n",
       "    <tr>\n",
       "      <th>145</th>\n",
       "      <td>BAP</td>\n",
       "      <td>199</td>\n",
       "      <td>0.189869</td>\n",
       "      <td>0.942212</td>\n",
       "      <td>5</td>\n",
       "      <td>5</td>\n",
       "    </tr>\n",
       "    <tr>\n",
       "      <th>146</th>\n",
       "      <td>BAP</td>\n",
       "      <td>199</td>\n",
       "      <td>0.036477</td>\n",
       "      <td>0.990079</td>\n",
       "      <td>6</td>\n",
       "      <td>5</td>\n",
       "    </tr>\n",
       "    <tr>\n",
       "      <th>147</th>\n",
       "      <td>BAP</td>\n",
       "      <td>199</td>\n",
       "      <td>0.047919</td>\n",
       "      <td>0.988715</td>\n",
       "      <td>7</td>\n",
       "      <td>5</td>\n",
       "    </tr>\n",
       "    <tr>\n",
       "      <th>148</th>\n",
       "      <td>BAP</td>\n",
       "      <td>199</td>\n",
       "      <td>0.030785</td>\n",
       "      <td>0.994048</td>\n",
       "      <td>8</td>\n",
       "      <td>5</td>\n",
       "    </tr>\n",
       "    <tr>\n",
       "      <th>149</th>\n",
       "      <td>BAP</td>\n",
       "      <td>199</td>\n",
       "      <td>0.037281</td>\n",
       "      <td>0.990203</td>\n",
       "      <td>9</td>\n",
       "      <td>5</td>\n",
       "    </tr>\n",
       "  </tbody>\n",
       "</table>\n",
       "<p>150 rows × 6 columns</p>\n",
       "</div>"
      ],
      "text/plain": [
       "          model_name  epoch      loss  accuracy  seed  run_id\n",
       "0    One compartment    199  0.341262  0.899678     0       1\n",
       "1    One compartment    199  0.133728  0.966394     1       1\n",
       "2    One compartment    199  0.132742  0.966146     2       1\n",
       "3    One compartment    199  0.125876  0.968502     3       1\n",
       "4    One compartment    199  0.123213  0.968998     4       1\n",
       "..               ...    ...       ...       ...   ...     ...\n",
       "145              BAP    199  0.189869  0.942212     5       5\n",
       "146              BAP    199  0.036477  0.990079     6       5\n",
       "147              BAP    199  0.047919  0.988715     7       5\n",
       "148              BAP    199  0.030785  0.994048     8       5\n",
       "149              BAP    199  0.037281  0.990203     9       5\n",
       "\n",
       "[150 rows x 6 columns]"
      ]
     },
     "execution_count": 160,
     "metadata": {},
     "output_type": "execute_result"
    }
   ],
   "source": [
    "#data = data.drop(columns=['run_id'])\n",
    "data_for_hidden_dim_analysis.reset_index(drop=True, inplace=True)\n",
    "\n",
    "data_for_hidden_dim_analysis\n",
    "# data['No BAP'] = pd.concat([data['No BAP'], hyper_params_repeated_with_index])\n",
    "# data['One compartment'] = pd.concat([data['One compartment'], hyper_params_repeated_with_index])"
   ]
  },
  {
   "cell_type": "code",
   "execution_count": 161,
   "metadata": {},
   "outputs": [],
   "source": [
    "data_for_hidden_dim_analysis = pd.concat([data_for_hidden_dim_analysis, hyper_params_repeated_with_index], axis=1)"
   ]
  },
  {
   "cell_type": "code",
   "execution_count": 162,
   "metadata": {},
   "outputs": [
    {
     "data": {
      "text/plain": [
       "<Figure size 432x288 with 0 Axes>"
      ]
     },
     "metadata": {},
     "output_type": "display_data"
    },
    {
     "data": {
      "image/png": "[encoded data removed]",
      "text/plain": [
       "<Figure size 476.375x360 with 1 Axes>"
      ]
     },
     "metadata": {},
     "output_type": "display_data"
    }
   ],
   "source": [
    "title = (f'Influence of the number of units in the hidden layer\\n on validation accuracy')#, {'fontsize': 15})\n",
    "\n",
    "plt.figure()\n",
    "g = sns.relplot(data=data_for_hidden_dim_analysis, x='number of hidden units', y='accuracy', kind=\"line\", hue='model_name', palette = one_palette_for_all)\n",
    "#L = plt.legend(title='Models')\n",
    "g._legend.set_title(\"Models\")\n",
    "g.set_titles('title')\n",
    "# g._legend.texts[0].set_text(\"\")\n",
    "# g._legend.texts[1].set_text(\"\")\n",
    "# g._legend.texts[2].set_text(\"\")\n",
    "\n",
    "#plt.title(f'Influence of the number of units in the hidden layer\\n on validation accuracy', fontdict={'fontsize': 15})\n",
    "plt.xlabel(xlabel='number of hidden units',\n",
    "           fontdict={\n",
    "               'size':12\n",
    "           }\n",
    "           )\n",
    "plt.ylabel(ylabel='validation accuracy',\n",
    "           fontdict={\n",
    "               'size':12\n",
    "           },\n",
    "           )\n",
    "plt.tight_layout\n",
    "\n",
    "if save:\n",
    "    plt.savefig('../data/heidelberg_hyperparam_visual/figure6.png', dpi=dpi)\n",
    "plt.show()\n",
    "\n"
   ]
  },
  {
   "cell_type": "markdown",
   "metadata": {},
   "source": [
    "import seaborn as sns\n",
    "import matplotlib.pyplot as plt\n",
    "sns.set_theme(style=\"whitegrid\")\n",
    "tips = sns.load_dataset(\"tips\")\n",
    "\n",
    "color_palettes.reverse()\n",
    "\n",
    "for pal in color_palettes:\n",
    "    print(pal)\n",
    "    sns.barplot(x=\"day\", y=\"total_bill\", hue=\"sex\", data=tips, palette=pal)\n",
    "    plt.show()"
   ]
  }
 ],
 "metadata": {
  "kernelspec": {
   "display_name": "Python 3.8.13 ('teaching')",
   "language": "python",
   "name": "python3"
  },
  "language_info": {
   "codemirror_mode": {
    "name": "ipython",
    "version": 3
   },
   "file_extension": ".py",
   "mimetype": "text/x-python",
   "name": "python",
   "nbconvert_exporter": "python",
   "pygments_lexer": "ipython3",
   "version": "3.8.13"
  },
  "orig_nbformat": 4,
  "vscode": {
   "interpreter": {
    "hash": "2142a618935ee31125fbb97f06401dd4f60968dd5a549a21d575788564038767"
   }
  }
 },
 "nbformat": 4,
 "nbformat_minor": 2
}
