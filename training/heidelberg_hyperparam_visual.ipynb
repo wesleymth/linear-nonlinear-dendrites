{
 "cells": [
  {
   "cell_type": "code",
   "execution_count": 70,
   "metadata": {},
   "outputs": [],
   "source": [
    "import os\n",
    "from copy import deepcopy\n",
    "\n",
    "import pandas as pd\n",
    "import matplotlib.pyplot as plt\n",
    "import matplotlib.gridspec as gs\n",
    "from matplotlib.patheffects import Normal, Stroke\n",
    "import numpy as np\n",
    "import seaborn as sns\n",
    "from ezephys import pltools\n",
    "\n",
    "import heidelberg"
   ]
  },
  {
   "cell_type": "markdown",
   "metadata": {},
   "source": [
    "## General informations about the data"
   ]
  },
  {
   "cell_type": "code",
   "execution_count": 71,
   "metadata": {},
   "outputs": [],
   "source": [
    "run_names = ['run_1_15_08_22', \n",
    "             'run_2_16_08_22', \n",
    "             'run_3_18_08_22', \n",
    "             'run_4_22_08_22', \n",
    "             'run_5_24_08_22', \n",
    "             'run_6_26_08_22', \n",
    "             'run_7_29_08_22',\n",
    "             'run_8_30_08_22',\n",
    "             'run_9_01_09_22']\n",
    "\n",
    "hyper_params = {\n",
    "    'batch size' : [256, 256, 128, 128, 128, 128, 64, 128, 128], # Insert here\n",
    "    'learning rate' : [2e-3,1e-3,2e-3,1e-3,1e-3,1e-3,1e-3,1e-3,1e-3], # Insert here\n",
    "    'number of hidden units' : [200,200,200,200,300,400,300,50,150] # Insert here\n",
    "}\n",
    "\n",
    "number_of_seeds = 10\n",
    "save = True\n",
    "titles = False\n",
    "test_used = 'Wilcoxon' # 't-test_welch', 'Wilcoxon'\n",
    "dpi = 600\n",
    "one_palette_for_all = 'Set1_r'\n",
    "train_or_test = 'test' # 'test', 'train'"
   ]
  },
  {
   "cell_type": "markdown",
   "metadata": {},
   "source": [
    "## What were the hyper parameters tested:"
   ]
  },
  {
   "cell_type": "code",
   "execution_count": 72,
   "metadata": {},
   "outputs": [
    {
     "data": {
      "text/html": [
       "<div>\n",
       "<style scoped>\n",
       "    .dataframe tbody tr th:only-of-type {\n",
       "        vertical-align: middle;\n",
       "    }\n",
       "\n",
       "    .dataframe tbody tr th {\n",
       "        vertical-align: top;\n",
       "    }\n",
       "\n",
       "    .dataframe thead th {\n",
       "        text-align: right;\n",
       "    }\n",
       "</style>\n",
       "<table border=\"1\" class=\"dataframe\">\n",
       "  <thead>\n",
       "    <tr style=\"text-align: right;\">\n",
       "      <th></th>\n",
       "      <th>hyper parameter combination</th>\n",
       "      <th>batch size</th>\n",
       "      <th>learning rate</th>\n",
       "      <th>number of hidden units</th>\n",
       "    </tr>\n",
       "  </thead>\n",
       "  <tbody>\n",
       "    <tr>\n",
       "      <th>0</th>\n",
       "      <td>1</td>\n",
       "      <td>256</td>\n",
       "      <td>0.002</td>\n",
       "      <td>200</td>\n",
       "    </tr>\n",
       "    <tr>\n",
       "      <th>1</th>\n",
       "      <td>2</td>\n",
       "      <td>256</td>\n",
       "      <td>0.001</td>\n",
       "      <td>200</td>\n",
       "    </tr>\n",
       "    <tr>\n",
       "      <th>2</th>\n",
       "      <td>3</td>\n",
       "      <td>128</td>\n",
       "      <td>0.002</td>\n",
       "      <td>200</td>\n",
       "    </tr>\n",
       "    <tr>\n",
       "      <th>3</th>\n",
       "      <td>4</td>\n",
       "      <td>128</td>\n",
       "      <td>0.001</td>\n",
       "      <td>200</td>\n",
       "    </tr>\n",
       "    <tr>\n",
       "      <th>4</th>\n",
       "      <td>5</td>\n",
       "      <td>128</td>\n",
       "      <td>0.001</td>\n",
       "      <td>300</td>\n",
       "    </tr>\n",
       "    <tr>\n",
       "      <th>5</th>\n",
       "      <td>6</td>\n",
       "      <td>128</td>\n",
       "      <td>0.001</td>\n",
       "      <td>400</td>\n",
       "    </tr>\n",
       "    <tr>\n",
       "      <th>6</th>\n",
       "      <td>7</td>\n",
       "      <td>64</td>\n",
       "      <td>0.001</td>\n",
       "      <td>300</td>\n",
       "    </tr>\n",
       "    <tr>\n",
       "      <th>7</th>\n",
       "      <td>8</td>\n",
       "      <td>128</td>\n",
       "      <td>0.001</td>\n",
       "      <td>50</td>\n",
       "    </tr>\n",
       "    <tr>\n",
       "      <th>8</th>\n",
       "      <td>9</td>\n",
       "      <td>128</td>\n",
       "      <td>0.001</td>\n",
       "      <td>150</td>\n",
       "    </tr>\n",
       "  </tbody>\n",
       "</table>\n",
       "</div>"
      ],
      "text/plain": [
       "   hyper parameter combination  batch size  learning rate  \\\n",
       "0                            1         256          0.002   \n",
       "1                            2         256          0.001   \n",
       "2                            3         128          0.002   \n",
       "3                            4         128          0.001   \n",
       "4                            5         128          0.001   \n",
       "5                            6         128          0.001   \n",
       "6                            7          64          0.001   \n",
       "7                            8         128          0.001   \n",
       "8                            9         128          0.001   \n",
       "\n",
       "   number of hidden units  \n",
       "0                     200  \n",
       "1                     200  \n",
       "2                     200  \n",
       "3                     200  \n",
       "4                     300  \n",
       "5                     400  \n",
       "6                     300  \n",
       "7                      50  \n",
       "8                     150  "
      ]
     },
     "execution_count": 72,
     "metadata": {},
     "output_type": "execute_result"
    }
   ],
   "source": [
    "hp = pd.DataFrame(hyper_params)\n",
    "\n",
    "hp['hyper parameter combination'] = range(9)\n",
    "hp['hyper parameter combination'] += 1\n",
    "\n",
    "\n",
    "column_names = [\"hyper parameter combination\", \"batch size\", \"learning rate\", \"number of hidden units\"]\n",
    "\n",
    "hp = hp.reindex(columns=column_names)\n",
    "hp.to_excel('hp.xlsx')\n",
    "\n",
    "hp"
   ]
  },
  {
   "cell_type": "markdown",
   "metadata": {},
   "source": [
    "# Functions taken from `heidelberg-results.ipynb`:\n",
    "\n",
    "### Lets us extract the training and testing performances from the generated data of a single run with multiple seeds of the `heidelberg.py` experiment."
   ]
  },
  {
   "cell_type": "code",
   "execution_count": 73,
   "metadata": {},
   "outputs": [],
   "source": [
    "def load_training_performance(run_name:str, number_of_seeds:int)->pd.DataFrame:\n",
    "    \"\"\"Lets us extract the training performances from the generated data of a single run with multiple seeds\n",
    "\n",
    "    Parameters\n",
    "    ----------\n",
    "    run_name : str\n",
    "        The name of the directory which is already in '../data' folder, containing the outputs of the heidelberg.py experiment.\n",
    "    number_of_seeds : int\n",
    "        How many different initialization were used.\n",
    "\n",
    "    Returns\n",
    "    -------\n",
    "    pd.DataFrame\n",
    "        The training performance.\n",
    "    \"\"\"\n",
    "    DATA_FILE_PREFIX = os.path.join('..', 'data', run_name, 'heidelberg_training_results_')\n",
    "\n",
    "    performance = []\n",
    "\n",
    "    for i in range(number_of_seeds):\n",
    "        single_seed_performance = pd.read_csv(DATA_FILE_PREFIX + str(i) + '.csv')\n",
    "        single_seed_performance['seed'] = i\n",
    "\n",
    "        performance.append(single_seed_performance)\n",
    "    \n",
    "    performance = pd.concat(performance).reset_index(drop=True)\n",
    "\n",
    "    train_data = performance.query('epoch in [0, 199]').copy()\n",
    "    train_data.loc[:, 'time'] = train_data.epoch.astype(str)\n",
    "    train_data.replace('0', 'initial', inplace=True)\n",
    "    train_data.replace('199', 'final', inplace=True)\n",
    "    train_data.reset_index(drop=True, inplace=True)\n",
    "\n",
    "\n",
    "    return train_data"
   ]
  },
  {
   "cell_type": "code",
   "execution_count": 74,
   "metadata": {},
   "outputs": [],
   "source": [
    "def load_test_performance(run_name:str, number_of_seeds:int, do_mean_over_seeds:bool=False)->pd.DataFrame:\n",
    "    \"\"\"Lets us extract the training performances from the generated data of a single run with multiple seeds\n",
    "\n",
    "    Parameters\n",
    "    ----------\n",
    "    run_name : str\n",
    "        The name of the directory which is already in '../data' folder, containing the outputs of the heidelberg.py experiment.\n",
    "    number_of_seeds : int\n",
    "        How many different initialization were used.\n",
    "    do_mean_over_seeds : bool, optional\n",
    "        Wether you want to calculate the mean of the accuracies over each seed, by default False\n",
    "\n",
    "    Returns\n",
    "    -------\n",
    "    pd.DataFrame\n",
    "        The test performance.\n",
    "    \"\"\"\n",
    "    DATA_FILE_PREFIX = os.path.join('..', 'data', run_name, 'heidelberg_test_accuracy_')\n",
    "\n",
    "    test = []\n",
    "\n",
    "    for i in range(number_of_seeds):\n",
    "        single_seed_performance = pd.read_json(DATA_FILE_PREFIX + str(i) + '.json', orient='index')\n",
    "        single_seed_performance['seed'] = i\n",
    "\n",
    "        test.append(single_seed_performance)\n",
    "\n",
    "    test = pd.concat(test)\n",
    "    test['model_name'] = test.index\n",
    "    test.reset_index(drop=True, inplace=True)\n",
    "    test = test.melt(['model_name', 'seed'], ['initial', 'final'], var_name='time', value_name='accuracy')\n",
    "    if do_mean_over_seeds:\n",
    "        test = test.groupby(['model_name', 'time'], as_index=False).mean()\n",
    "    return test"
   ]
  },
  {
   "cell_type": "markdown",
   "metadata": {},
   "source": [
    "## Repaeted code put into functions "
   ]
  },
  {
   "cell_type": "code",
   "execution_count": 75,
   "metadata": {},
   "outputs": [],
   "source": [
    "\n",
    "from argparse import ArgumentError\n",
    "\n",
    "\n",
    "def get_best_run_data_for_each_model(df:pd.DataFrame)->pd.DataFrame:\n",
    "    \"\"\"Gets a dataframe with the accuracy over different seeds for the best hyper parameter combination of every model. \n",
    "\n",
    "    Parameters\n",
    "    ----------\n",
    "    df : pd.DataFrame\n",
    "        A data frame obtained by calling `get_concat_every_test_performance` containing all the searches (i.e. runs) to look through. \n",
    "\n",
    "    Returns\n",
    "    -------\n",
    "    pd.DataFrame\n",
    "        The best validation accuracies of all models for their best hyper parameter combination.\n",
    "    \"\"\"\n",
    "    df_only_final_accuracy = df[df.time == 'final']\n",
    "    df_mean_over_seeds = df_only_final_accuracy.groupby(['model_name', 'time', 'run_id'], as_index=False).mean()\n",
    "    best_run_performances = []\n",
    "    for model in df.model_name.unique():\n",
    "        df_mean_over_seeds_of_model = df_mean_over_seeds[df_mean_over_seeds.model_name==model]\n",
    "        max_accuracy_lign = df_mean_over_seeds_of_model.loc[df_mean_over_seeds_of_model['accuracy'].idxmax()]\n",
    "        best_run_id_for_model = max_accuracy_lign['run_id']\n",
    "        \n",
    "        df_model_name = df[df.model_name == model]\n",
    "        df_model_name_only_best_run = df_model_name[df_model_name.run_id == best_run_id_for_model]\n",
    "        best_run_performances.append(df_model_name_only_best_run)\n",
    "    \n",
    "    return pd.concat(best_run_performances)\n",
    "\n",
    "def get_concat_every_performance(run_names:str, nb_seeds:int, train_or_test:str='test')->pd.DataFrame:\n",
    "    \"\"\"Gets all the validation accuracies of all data generated by `heidelberg.py`\n",
    "\n",
    "    Parameters\n",
    "    ----------\n",
    "    run_names : str\n",
    "        The folder names containing the data generated possibly over different seeds.\n",
    "    nb_seeds : int\n",
    "        The number of seeds used for randomness. Equivalent to the sample size. \n",
    "    train_or_test : str\n",
    "        Wether to take the testing or the training accuracy. One of two choices `train` or  `test`. Defaults to `test`\n",
    "\n",
    "    Returns\n",
    "    -------\n",
    "    pd.DataFrame\n",
    "        All of the validation performances produced by `heidelberg.py`\n",
    "    \"\"\"\n",
    "    every_test_performance = []\n",
    "    for run_idx, run_name in enumerate(run_names):\n",
    "        if train_or_test == 'test':\n",
    "            single_test_performance = load_test_performance(run_name, nb_seeds, do_mean_over_seeds=False)\n",
    "        elif train_or_test == 'train':\n",
    "            single_test_performance = load_training_performance(run_name, nb_seeds)\n",
    "        else:\n",
    "            raise ArgumentError(message=f'Need to specify which performance to get. One of two: `test` or `train`.\\nGot {train_or_test}')\n",
    "        single_test_performance['run_id'] = run_idx+1\n",
    "        every_test_performance.append(single_test_performance)\n",
    "    return pd.concat(every_test_performance)"
   ]
  },
  {
   "cell_type": "markdown",
   "metadata": {},
   "source": [
    "## Generate a plot with the best testing perfomances for each model from every set of hyper parameters"
   ]
  },
  {
   "cell_type": "code",
   "execution_count": 76,
   "metadata": {},
   "outputs": [],
   "source": [
    "all_test_perf_pd = get_concat_every_performance(run_names, number_of_seeds, train_or_test=train_or_test)    \n",
    "data = get_best_run_data_for_each_model(all_test_perf_pd)"
   ]
  },
  {
   "cell_type": "code",
   "execution_count": 77,
   "metadata": {},
   "outputs": [],
   "source": [
    "from statannotations.Annotator import Annotator\n",
    "import statannotations"
   ]
  },
  {
   "cell_type": "code",
   "execution_count": 78,
   "metadata": {},
   "outputs": [
    {
     "data": {
      "text/html": [
       "<div>\n",
       "<style scoped>\n",
       "    .dataframe tbody tr th:only-of-type {\n",
       "        vertical-align: middle;\n",
       "    }\n",
       "\n",
       "    .dataframe tbody tr th {\n",
       "        vertical-align: top;\n",
       "    }\n",
       "\n",
       "    .dataframe thead th {\n",
       "        text-align: right;\n",
       "    }\n",
       "</style>\n",
       "<table border=\"1\" class=\"dataframe\">\n",
       "  <thead>\n",
       "    <tr style=\"text-align: right;\">\n",
       "      <th></th>\n",
       "      <th>model_name</th>\n",
       "      <th>seed</th>\n",
       "      <th>time</th>\n",
       "      <th>accuracy</th>\n",
       "      <th>run_id</th>\n",
       "    </tr>\n",
       "  </thead>\n",
       "  <tbody>\n",
       "    <tr>\n",
       "      <th>0</th>\n",
       "      <td>One compartment</td>\n",
       "      <td>0</td>\n",
       "      <td>initial</td>\n",
       "      <td>0.051471</td>\n",
       "      <td>5</td>\n",
       "    </tr>\n",
       "    <tr>\n",
       "      <th>3</th>\n",
       "      <td>One compartment</td>\n",
       "      <td>1</td>\n",
       "      <td>initial</td>\n",
       "      <td>0.050092</td>\n",
       "      <td>5</td>\n",
       "    </tr>\n",
       "    <tr>\n",
       "      <th>6</th>\n",
       "      <td>One compartment</td>\n",
       "      <td>2</td>\n",
       "      <td>initial</td>\n",
       "      <td>0.033548</td>\n",
       "      <td>5</td>\n",
       "    </tr>\n",
       "    <tr>\n",
       "      <th>9</th>\n",
       "      <td>One compartment</td>\n",
       "      <td>3</td>\n",
       "      <td>initial</td>\n",
       "      <td>0.069853</td>\n",
       "      <td>5</td>\n",
       "    </tr>\n",
       "    <tr>\n",
       "      <th>12</th>\n",
       "      <td>One compartment</td>\n",
       "      <td>4</td>\n",
       "      <td>initial</td>\n",
       "      <td>0.036765</td>\n",
       "      <td>5</td>\n",
       "    </tr>\n",
       "    <tr>\n",
       "      <th>15</th>\n",
       "      <td>One compartment</td>\n",
       "      <td>5</td>\n",
       "      <td>initial</td>\n",
       "      <td>0.037684</td>\n",
       "      <td>5</td>\n",
       "    </tr>\n",
       "    <tr>\n",
       "      <th>18</th>\n",
       "      <td>One compartment</td>\n",
       "      <td>6</td>\n",
       "      <td>initial</td>\n",
       "      <td>0.027574</td>\n",
       "      <td>5</td>\n",
       "    </tr>\n",
       "    <tr>\n",
       "      <th>21</th>\n",
       "      <td>One compartment</td>\n",
       "      <td>7</td>\n",
       "      <td>initial</td>\n",
       "      <td>0.056985</td>\n",
       "      <td>5</td>\n",
       "    </tr>\n",
       "    <tr>\n",
       "      <th>24</th>\n",
       "      <td>One compartment</td>\n",
       "      <td>8</td>\n",
       "      <td>initial</td>\n",
       "      <td>0.045956</td>\n",
       "      <td>5</td>\n",
       "    </tr>\n",
       "    <tr>\n",
       "      <th>27</th>\n",
       "      <td>One compartment</td>\n",
       "      <td>9</td>\n",
       "      <td>initial</td>\n",
       "      <td>0.058364</td>\n",
       "      <td>5</td>\n",
       "    </tr>\n",
       "    <tr>\n",
       "      <th>30</th>\n",
       "      <td>One compartment</td>\n",
       "      <td>0</td>\n",
       "      <td>final</td>\n",
       "      <td>0.632353</td>\n",
       "      <td>5</td>\n",
       "    </tr>\n",
       "    <tr>\n",
       "      <th>33</th>\n",
       "      <td>One compartment</td>\n",
       "      <td>1</td>\n",
       "      <td>final</td>\n",
       "      <td>0.633272</td>\n",
       "      <td>5</td>\n",
       "    </tr>\n",
       "    <tr>\n",
       "      <th>36</th>\n",
       "      <td>One compartment</td>\n",
       "      <td>2</td>\n",
       "      <td>final</td>\n",
       "      <td>0.579044</td>\n",
       "      <td>5</td>\n",
       "    </tr>\n",
       "    <tr>\n",
       "      <th>39</th>\n",
       "      <td>One compartment</td>\n",
       "      <td>3</td>\n",
       "      <td>final</td>\n",
       "      <td>0.611213</td>\n",
       "      <td>5</td>\n",
       "    </tr>\n",
       "    <tr>\n",
       "      <th>42</th>\n",
       "      <td>One compartment</td>\n",
       "      <td>4</td>\n",
       "      <td>final</td>\n",
       "      <td>0.624540</td>\n",
       "      <td>5</td>\n",
       "    </tr>\n",
       "    <tr>\n",
       "      <th>45</th>\n",
       "      <td>One compartment</td>\n",
       "      <td>5</td>\n",
       "      <td>final</td>\n",
       "      <td>0.628676</td>\n",
       "      <td>5</td>\n",
       "    </tr>\n",
       "    <tr>\n",
       "      <th>48</th>\n",
       "      <td>One compartment</td>\n",
       "      <td>6</td>\n",
       "      <td>final</td>\n",
       "      <td>0.643382</td>\n",
       "      <td>5</td>\n",
       "    </tr>\n",
       "    <tr>\n",
       "      <th>51</th>\n",
       "      <td>One compartment</td>\n",
       "      <td>7</td>\n",
       "      <td>final</td>\n",
       "      <td>0.622702</td>\n",
       "      <td>5</td>\n",
       "    </tr>\n",
       "    <tr>\n",
       "      <th>54</th>\n",
       "      <td>One compartment</td>\n",
       "      <td>8</td>\n",
       "      <td>final</td>\n",
       "      <td>0.615349</td>\n",
       "      <td>5</td>\n",
       "    </tr>\n",
       "    <tr>\n",
       "      <th>57</th>\n",
       "      <td>One compartment</td>\n",
       "      <td>9</td>\n",
       "      <td>final</td>\n",
       "      <td>0.597886</td>\n",
       "      <td>5</td>\n",
       "    </tr>\n",
       "    <tr>\n",
       "      <th>1</th>\n",
       "      <td>No BAP</td>\n",
       "      <td>0</td>\n",
       "      <td>initial</td>\n",
       "      <td>0.039522</td>\n",
       "      <td>5</td>\n",
       "    </tr>\n",
       "    <tr>\n",
       "      <th>4</th>\n",
       "      <td>No BAP</td>\n",
       "      <td>1</td>\n",
       "      <td>initial</td>\n",
       "      <td>0.055147</td>\n",
       "      <td>5</td>\n",
       "    </tr>\n",
       "    <tr>\n",
       "      <th>7</th>\n",
       "      <td>No BAP</td>\n",
       "      <td>2</td>\n",
       "      <td>initial</td>\n",
       "      <td>0.041820</td>\n",
       "      <td>5</td>\n",
       "    </tr>\n",
       "    <tr>\n",
       "      <th>10</th>\n",
       "      <td>No BAP</td>\n",
       "      <td>3</td>\n",
       "      <td>initial</td>\n",
       "      <td>0.055607</td>\n",
       "      <td>5</td>\n",
       "    </tr>\n",
       "    <tr>\n",
       "      <th>13</th>\n",
       "      <td>No BAP</td>\n",
       "      <td>4</td>\n",
       "      <td>initial</td>\n",
       "      <td>0.063419</td>\n",
       "      <td>5</td>\n",
       "    </tr>\n",
       "    <tr>\n",
       "      <th>16</th>\n",
       "      <td>No BAP</td>\n",
       "      <td>5</td>\n",
       "      <td>initial</td>\n",
       "      <td>0.053768</td>\n",
       "      <td>5</td>\n",
       "    </tr>\n",
       "    <tr>\n",
       "      <th>19</th>\n",
       "      <td>No BAP</td>\n",
       "      <td>6</td>\n",
       "      <td>initial</td>\n",
       "      <td>0.040901</td>\n",
       "      <td>5</td>\n",
       "    </tr>\n",
       "    <tr>\n",
       "      <th>22</th>\n",
       "      <td>No BAP</td>\n",
       "      <td>7</td>\n",
       "      <td>initial</td>\n",
       "      <td>0.055147</td>\n",
       "      <td>5</td>\n",
       "    </tr>\n",
       "    <tr>\n",
       "      <th>25</th>\n",
       "      <td>No BAP</td>\n",
       "      <td>8</td>\n",
       "      <td>initial</td>\n",
       "      <td>0.044118</td>\n",
       "      <td>5</td>\n",
       "    </tr>\n",
       "    <tr>\n",
       "      <th>28</th>\n",
       "      <td>No BAP</td>\n",
       "      <td>9</td>\n",
       "      <td>initial</td>\n",
       "      <td>0.053768</td>\n",
       "      <td>5</td>\n",
       "    </tr>\n",
       "    <tr>\n",
       "      <th>31</th>\n",
       "      <td>No BAP</td>\n",
       "      <td>0</td>\n",
       "      <td>final</td>\n",
       "      <td>0.732996</td>\n",
       "      <td>5</td>\n",
       "    </tr>\n",
       "    <tr>\n",
       "      <th>34</th>\n",
       "      <td>No BAP</td>\n",
       "      <td>1</td>\n",
       "      <td>final</td>\n",
       "      <td>0.720129</td>\n",
       "      <td>5</td>\n",
       "    </tr>\n",
       "    <tr>\n",
       "      <th>37</th>\n",
       "      <td>No BAP</td>\n",
       "      <td>2</td>\n",
       "      <td>final</td>\n",
       "      <td>0.705423</td>\n",
       "      <td>5</td>\n",
       "    </tr>\n",
       "    <tr>\n",
       "      <th>40</th>\n",
       "      <td>No BAP</td>\n",
       "      <td>3</td>\n",
       "      <td>final</td>\n",
       "      <td>0.715533</td>\n",
       "      <td>5</td>\n",
       "    </tr>\n",
       "    <tr>\n",
       "      <th>43</th>\n",
       "      <td>No BAP</td>\n",
       "      <td>4</td>\n",
       "      <td>final</td>\n",
       "      <td>0.733456</td>\n",
       "      <td>5</td>\n",
       "    </tr>\n",
       "    <tr>\n",
       "      <th>46</th>\n",
       "      <td>No BAP</td>\n",
       "      <td>5</td>\n",
       "      <td>final</td>\n",
       "      <td>0.715074</td>\n",
       "      <td>5</td>\n",
       "    </tr>\n",
       "    <tr>\n",
       "      <th>49</th>\n",
       "      <td>No BAP</td>\n",
       "      <td>6</td>\n",
       "      <td>final</td>\n",
       "      <td>0.718290</td>\n",
       "      <td>5</td>\n",
       "    </tr>\n",
       "    <tr>\n",
       "      <th>52</th>\n",
       "      <td>No BAP</td>\n",
       "      <td>7</td>\n",
       "      <td>final</td>\n",
       "      <td>0.710478</td>\n",
       "      <td>5</td>\n",
       "    </tr>\n",
       "    <tr>\n",
       "      <th>55</th>\n",
       "      <td>No BAP</td>\n",
       "      <td>8</td>\n",
       "      <td>final</td>\n",
       "      <td>0.724265</td>\n",
       "      <td>5</td>\n",
       "    </tr>\n",
       "    <tr>\n",
       "      <th>58</th>\n",
       "      <td>No BAP</td>\n",
       "      <td>9</td>\n",
       "      <td>final</td>\n",
       "      <td>0.707721</td>\n",
       "      <td>5</td>\n",
       "    </tr>\n",
       "    <tr>\n",
       "      <th>2</th>\n",
       "      <td>BAP</td>\n",
       "      <td>0</td>\n",
       "      <td>initial</td>\n",
       "      <td>0.054688</td>\n",
       "      <td>5</td>\n",
       "    </tr>\n",
       "    <tr>\n",
       "      <th>5</th>\n",
       "      <td>BAP</td>\n",
       "      <td>1</td>\n",
       "      <td>initial</td>\n",
       "      <td>0.046875</td>\n",
       "      <td>5</td>\n",
       "    </tr>\n",
       "    <tr>\n",
       "      <th>8</th>\n",
       "      <td>BAP</td>\n",
       "      <td>2</td>\n",
       "      <td>initial</td>\n",
       "      <td>0.038603</td>\n",
       "      <td>5</td>\n",
       "    </tr>\n",
       "    <tr>\n",
       "      <th>11</th>\n",
       "      <td>BAP</td>\n",
       "      <td>3</td>\n",
       "      <td>initial</td>\n",
       "      <td>0.054228</td>\n",
       "      <td>5</td>\n",
       "    </tr>\n",
       "    <tr>\n",
       "      <th>14</th>\n",
       "      <td>BAP</td>\n",
       "      <td>4</td>\n",
       "      <td>initial</td>\n",
       "      <td>0.047335</td>\n",
       "      <td>5</td>\n",
       "    </tr>\n",
       "    <tr>\n",
       "      <th>17</th>\n",
       "      <td>BAP</td>\n",
       "      <td>5</td>\n",
       "      <td>initial</td>\n",
       "      <td>0.046415</td>\n",
       "      <td>5</td>\n",
       "    </tr>\n",
       "    <tr>\n",
       "      <th>20</th>\n",
       "      <td>BAP</td>\n",
       "      <td>6</td>\n",
       "      <td>initial</td>\n",
       "      <td>0.039522</td>\n",
       "      <td>5</td>\n",
       "    </tr>\n",
       "    <tr>\n",
       "      <th>23</th>\n",
       "      <td>BAP</td>\n",
       "      <td>7</td>\n",
       "      <td>initial</td>\n",
       "      <td>0.059283</td>\n",
       "      <td>5</td>\n",
       "    </tr>\n",
       "    <tr>\n",
       "      <th>26</th>\n",
       "      <td>BAP</td>\n",
       "      <td>8</td>\n",
       "      <td>initial</td>\n",
       "      <td>0.024816</td>\n",
       "      <td>5</td>\n",
       "    </tr>\n",
       "    <tr>\n",
       "      <th>29</th>\n",
       "      <td>BAP</td>\n",
       "      <td>9</td>\n",
       "      <td>initial</td>\n",
       "      <td>0.036305</td>\n",
       "      <td>5</td>\n",
       "    </tr>\n",
       "    <tr>\n",
       "      <th>32</th>\n",
       "      <td>BAP</td>\n",
       "      <td>0</td>\n",
       "      <td>final</td>\n",
       "      <td>0.753217</td>\n",
       "      <td>5</td>\n",
       "    </tr>\n",
       "    <tr>\n",
       "      <th>35</th>\n",
       "      <td>BAP</td>\n",
       "      <td>1</td>\n",
       "      <td>final</td>\n",
       "      <td>0.739430</td>\n",
       "      <td>5</td>\n",
       "    </tr>\n",
       "    <tr>\n",
       "      <th>38</th>\n",
       "      <td>BAP</td>\n",
       "      <td>2</td>\n",
       "      <td>final</td>\n",
       "      <td>0.721967</td>\n",
       "      <td>5</td>\n",
       "    </tr>\n",
       "    <tr>\n",
       "      <th>41</th>\n",
       "      <td>BAP</td>\n",
       "      <td>3</td>\n",
       "      <td>final</td>\n",
       "      <td>0.721507</td>\n",
       "      <td>5</td>\n",
       "    </tr>\n",
       "    <tr>\n",
       "      <th>44</th>\n",
       "      <td>BAP</td>\n",
       "      <td>4</td>\n",
       "      <td>final</td>\n",
       "      <td>0.744485</td>\n",
       "      <td>5</td>\n",
       "    </tr>\n",
       "    <tr>\n",
       "      <th>47</th>\n",
       "      <td>BAP</td>\n",
       "      <td>5</td>\n",
       "      <td>final</td>\n",
       "      <td>0.732077</td>\n",
       "      <td>5</td>\n",
       "    </tr>\n",
       "    <tr>\n",
       "      <th>50</th>\n",
       "      <td>BAP</td>\n",
       "      <td>6</td>\n",
       "      <td>final</td>\n",
       "      <td>0.715074</td>\n",
       "      <td>5</td>\n",
       "    </tr>\n",
       "    <tr>\n",
       "      <th>53</th>\n",
       "      <td>BAP</td>\n",
       "      <td>7</td>\n",
       "      <td>final</td>\n",
       "      <td>0.739430</td>\n",
       "      <td>5</td>\n",
       "    </tr>\n",
       "    <tr>\n",
       "      <th>56</th>\n",
       "      <td>BAP</td>\n",
       "      <td>8</td>\n",
       "      <td>final</td>\n",
       "      <td>0.694393</td>\n",
       "      <td>5</td>\n",
       "    </tr>\n",
       "    <tr>\n",
       "      <th>59</th>\n",
       "      <td>BAP</td>\n",
       "      <td>9</td>\n",
       "      <td>final</td>\n",
       "      <td>0.698989</td>\n",
       "      <td>5</td>\n",
       "    </tr>\n",
       "  </tbody>\n",
       "</table>\n",
       "</div>"
      ],
      "text/plain": [
       "         model_name  seed     time  accuracy  run_id\n",
       "0   One compartment     0  initial  0.051471       5\n",
       "3   One compartment     1  initial  0.050092       5\n",
       "6   One compartment     2  initial  0.033548       5\n",
       "9   One compartment     3  initial  0.069853       5\n",
       "12  One compartment     4  initial  0.036765       5\n",
       "15  One compartment     5  initial  0.037684       5\n",
       "18  One compartment     6  initial  0.027574       5\n",
       "21  One compartment     7  initial  0.056985       5\n",
       "24  One compartment     8  initial  0.045956       5\n",
       "27  One compartment     9  initial  0.058364       5\n",
       "30  One compartment     0    final  0.632353       5\n",
       "33  One compartment     1    final  0.633272       5\n",
       "36  One compartment     2    final  0.579044       5\n",
       "39  One compartment     3    final  0.611213       5\n",
       "42  One compartment     4    final  0.624540       5\n",
       "45  One compartment     5    final  0.628676       5\n",
       "48  One compartment     6    final  0.643382       5\n",
       "51  One compartment     7    final  0.622702       5\n",
       "54  One compartment     8    final  0.615349       5\n",
       "57  One compartment     9    final  0.597886       5\n",
       "1            No BAP     0  initial  0.039522       5\n",
       "4            No BAP     1  initial  0.055147       5\n",
       "7            No BAP     2  initial  0.041820       5\n",
       "10           No BAP     3  initial  0.055607       5\n",
       "13           No BAP     4  initial  0.063419       5\n",
       "16           No BAP     5  initial  0.053768       5\n",
       "19           No BAP     6  initial  0.040901       5\n",
       "22           No BAP     7  initial  0.055147       5\n",
       "25           No BAP     8  initial  0.044118       5\n",
       "28           No BAP     9  initial  0.053768       5\n",
       "31           No BAP     0    final  0.732996       5\n",
       "34           No BAP     1    final  0.720129       5\n",
       "37           No BAP     2    final  0.705423       5\n",
       "40           No BAP     3    final  0.715533       5\n",
       "43           No BAP     4    final  0.733456       5\n",
       "46           No BAP     5    final  0.715074       5\n",
       "49           No BAP     6    final  0.718290       5\n",
       "52           No BAP     7    final  0.710478       5\n",
       "55           No BAP     8    final  0.724265       5\n",
       "58           No BAP     9    final  0.707721       5\n",
       "2               BAP     0  initial  0.054688       5\n",
       "5               BAP     1  initial  0.046875       5\n",
       "8               BAP     2  initial  0.038603       5\n",
       "11              BAP     3  initial  0.054228       5\n",
       "14              BAP     4  initial  0.047335       5\n",
       "17              BAP     5  initial  0.046415       5\n",
       "20              BAP     6  initial  0.039522       5\n",
       "23              BAP     7  initial  0.059283       5\n",
       "26              BAP     8  initial  0.024816       5\n",
       "29              BAP     9  initial  0.036305       5\n",
       "32              BAP     0    final  0.753217       5\n",
       "35              BAP     1    final  0.739430       5\n",
       "38              BAP     2    final  0.721967       5\n",
       "41              BAP     3    final  0.721507       5\n",
       "44              BAP     4    final  0.744485       5\n",
       "47              BAP     5    final  0.732077       5\n",
       "50              BAP     6    final  0.715074       5\n",
       "53              BAP     7    final  0.739430       5\n",
       "56              BAP     8    final  0.694393       5\n",
       "59              BAP     9    final  0.698989       5"
      ]
     },
     "execution_count": 78,
     "metadata": {},
     "output_type": "execute_result"
    }
   ],
   "source": [
    "data"
   ]
  },
  {
   "cell_type": "code",
   "execution_count": 79,
   "metadata": {},
   "outputs": [
    {
     "name": "stdout",
     "output_type": "stream",
     "text": [
      "p-value annotation legend:\n",
      "      ns: p <= 1.00e+00\n",
      "       *: 1.00e-02 < p <= 5.00e-02\n",
      "      **: 1.00e-03 < p <= 1.00e-02\n",
      "     ***: 1.00e-04 < p <= 1.00e-03\n",
      "    ****: p <= 1.00e-04\n",
      "\n",
      "One compartment_final vs. No BAP_final: Wilcoxon test (paired samples) with Bonferroni correction, P_val:5.859e-03 Stat=0.000e+00\n",
      "No BAP_final vs. BAP_final: Wilcoxon test (paired samples) with Bonferroni correction, P_val:5.801e-01 Stat=1.400e+01\n",
      "One compartment_final vs. BAP_final: Wilcoxon test (paired samples) with Bonferroni correction, P_val:5.859e-03 Stat=0.000e+00\n"
     ]
    },
    {
     "data": {
      "image/png": "[encoded data removed]",
      "text/plain": [
       "<Figure size 504x576 with 1 Axes>"
      ]
     },
     "metadata": {},
     "output_type": "display_data"
    }
   ],
   "source": [
    "# Set Seaborn style\n",
    "sns.set_style('darkgrid')\n",
    "\n",
    "# Construct plot\n",
    "plt.figure(figsize=(7, 8))\n",
    "\n",
    "ax = sns.barplot(x = \"model_name\", y = \"accuracy\", hue=\"time\", data = data, order=['One compartment', 'No BAP', 'BAP'])#, palette='magma')\n",
    "\n",
    "pairs = [((\"One compartment\", \"final\"), (\"BAP\", \"final\")), ((\"One compartment\", \"final\"), (\"No BAP\", \"final\")), ((\"No BAP\", \"final\"), (\"BAP\", \"final\"))]\n",
    "annot = Annotator(ax, pairs, x = \"model_name\", y = \"accuracy\", hue=\"time\", data = data)#, order=['One compartment', 'No BAP', 'BAP'])\n",
    "\n",
    "if train_or_test == 'test':\n",
    "    annot.configure(test=test_used, text_format='star', loc='inside', verbose=2, comparisons_correction=\"Bonferroni\")\n",
    "elif train_or_test == 'train':\n",
    "    annot.configure(test=test_used, text_format='star', loc='outside', verbose=2, comparisons_correction=\"Bonferroni\")\n",
    "annot.apply_test()\n",
    "ax, test_results = annot.annotate()\n",
    "\n",
    "if titles:\n",
    "    plt.title(f'Final test accuracy of models with best individual hyper-parameter combinations\\n found over {len(run_names)} searches', fontdict={'fontsize': 15})\n",
    "plt.xlabel(xlabel='Models',\n",
    "           fontdict={\n",
    "               'size':12\n",
    "           }\n",
    "           )\n",
    "plt.ylabel(ylabel='validation accuracy',\n",
    "           fontdict={\n",
    "               'size':12\n",
    "           },\n",
    "           \n",
    "           )\n",
    "\n",
    "#plt.yticks(ticks=[0, 1/20, 0.5,0.6,0.7,0.8])\n",
    "\n",
    "\n",
    "L = plt.legend(title='')\n",
    "L.get_texts()[0].set_text('before training')\n",
    "L.get_texts()[1].set_text('after training')\n",
    "\n",
    "\n",
    "plt.axhline(y=0.05, color =\"red\", linestyle =\"--\", linewidth=1)\n",
    "plt.tight_layout()\n",
    "if save:\n",
    "    plt.savefig('../data/heidelberg_hyperparam_visual/figure1.png', dpi=dpi)\n",
    "plt.show()\n"
   ]
  },
  {
   "cell_type": "code",
   "execution_count": 80,
   "metadata": {},
   "outputs": [],
   "source": [
    "color_palettes = ['Accent', 'Accent_r', 'Blues', 'Blues_r', 'BrBG', 'BrBG_r', 'BuGn', 'BuGn_r', \n",
    "                 'BuPu', 'BuPu_r', 'CMRmap', 'CMRmap_r', 'Dark2', 'Dark2_r', 'GnBu', 'GnBu_r', \n",
    "                 'Greens', 'Greens_r', 'Greys', 'Greys_r', 'OrRd', 'OrRd_r', 'Oranges', 'Oranges_r', \n",
    "                 'PRGn', 'PRGn_r', 'Paired', 'Paired_r', 'Pastel1', 'Pastel1_r', 'Pastel2', 'Pastel2_r', \n",
    "                 'PiYG', 'PiYG_r', 'PuBu', 'PuBuGn', 'PuBuGn_r', 'PuBu_r', 'PuOr', 'PuOr_r', 'PuRd', \n",
    "                 'PuRd_r', 'Purples', 'Purples_r', 'RdBu', 'RdBu_r', 'RdGy', 'RdGy_r', 'RdPu', 'RdPu_r', \n",
    "                 'RdYlBu', 'RdYlBu_r', 'RdYlGn', 'RdYlGn_r', 'Reds', 'Reds_r', 'Set1', 'Set1_r', 'Set2', \n",
    "                 'Set2_r', 'Set3', 'Set3_r', 'Spectral', 'Spectral_r', 'Wistia', 'Wistia_r', 'YlGn', \n",
    "                 'YlGnBu', 'YlGnBu_r', 'YlGn_r', 'YlOrBr', 'YlOrBr_r', 'YlOrRd', 'YlOrRd_r', 'afmhot', \n",
    "                 'afmhot_r', 'autumn', 'autumn_r', 'binary', 'binary_r', 'bone', 'bone_r', 'brg', 'brg_r', 'bwr', \n",
    "                 'bwr_r', 'cividis', 'cividis_r', 'cool', 'cool_r', 'coolwarm', 'coolwarm_r', 'copper', 'copper_r', \n",
    "                 'crest', 'crest_r', 'cubehelix', 'cubehelix_r', 'flag', 'flag_r', 'flare', 'flare_r', 'gist_earth', \n",
    "                 'gist_earth_r', 'gist_gray', 'gist_gray_r', 'gist_heat', 'gist_heat_r', 'gist_ncar', 'gist_ncar_r', \n",
    "                 'gist_rainbow', 'gist_rainbow_r', 'gist_stern', 'gist_stern_r', 'gist_yarg', 'gist_yarg_r', \n",
    "                 'gnuplot', 'gnuplot2', 'gnuplot2_r', 'gnuplot_r', 'gray', 'gray_r', 'hot', 'hot_r', 'hsv', \n",
    "                 'hsv_r', 'icefire', 'icefire_r', 'inferno', 'inferno_r', 'jet', 'jet_r', 'magma', 'magma_r', \n",
    "                 'mako', 'mako_r', 'nipy_spectral', 'nipy_spectral_r', 'ocean', 'ocean_r', 'pink', 'pink_r', \n",
    "                 'plasma', 'plasma_r', 'prism', 'prism_r', 'rainbow', 'rainbow_r', 'rocket', 'rocket_r', 'seismic', \n",
    "                 'seismic_r', 'spring', 'spring_r', 'summer', 'summer_r', 'tab10', 'tab10_r', 'tab20', 'tab20_r', \n",
    "                 'tab20b', 'tab20b_r', 'tab20c', 'tab20c_r', 'terrain', 'terrain_r', 'turbo', 'turbo_r', 'twilight', \n",
    "                 'twilight_r', 'twilight_shifted', 'twilight_shifted_r', 'viridis', 'viridis_r', 'vlag', 'vlag_r', \n",
    "                 'winter', 'winter_r']"
   ]
  },
  {
   "cell_type": "code",
   "execution_count": 81,
   "metadata": {},
   "outputs": [
    {
     "data": {
      "image/png": "[encoded data removed]",
      "text/plain": [
       "<Figure size 1080x504 with 3 Axes>"
      ]
     },
     "metadata": {},
     "output_type": "display_data"
    }
   ],
   "source": [
    "import random\n",
    "\n",
    "data_max = get_concat_every_performance(run_names,number_of_seeds, train_or_test=train_or_test)\n",
    "model_names = data_max.model_name.unique()\n",
    "nb_models=len(model_names)\n",
    "palette_combo = [color_palettes[random.randint(0, len(color_palettes)-1)] for _ in model_names]\n",
    "\n",
    "fig, axes = plt.subplots(1, nb_models, figsize=(15, 7), sharey=True)\n",
    "\n",
    "for ax, model_name, pal in zip(axes, model_names, palette_combo):\n",
    "    data_per_model = data_max[data_max.model_name == model_name]\n",
    "    sns.barplot(x=\"run_id\", y=\"accuracy\", hue=\"time\", data=data_per_model, ax=ax, palette=pal)\n",
    "    ax.set_title(label=model_name, fontdict={'fontsize': 15})\n",
    "    L = ax.legend(title='')\n",
    "    L.get_texts()[0].set_text('before training')\n",
    "    L.get_texts()[1].set_text('after training')\n",
    "\n",
    "if titles:\n",
    "    fig.suptitle('All different test performances ', fontsize = 20)#, fontdict={'fontsize': 15})\n",
    "\n",
    "plt.tight_layout()\n",
    "if save:\n",
    "    plt.savefig('../data/heidelberg_hyperparam_visual/figure2.png', dpi=dpi)\n",
    "plt.show()"
   ]
  },
  {
   "cell_type": "code",
   "execution_count": 82,
   "metadata": {},
   "outputs": [
    {
     "name": "stdout",
     "output_type": "stream",
     "text": [
      "color palette chose : pink\n"
     ]
    },
    {
     "data": {
      "image/png": "[encoded data removed]",
      "text/plain": [
       "<Figure size 720x720 with 1 Axes>"
      ]
     },
     "metadata": {},
     "output_type": "display_data"
    }
   ],
   "source": [
    "data_max_final = data_max[data_max.time == 'final']\n",
    "\n",
    "palette_rand_choice = color_palettes[random.randint(0, len(color_palettes)-1)]\n",
    "print(f'color palette chose : {palette_rand_choice}')\n",
    "cool_color_palettes = ['mako', 'cool_r', 'cividis_r', 'flare', 'plasma_r', 'copper', 'Oranges_r', 'Oranges', 'YlGnBu_r', 'rainbow_r']\n",
    "\n",
    "plt.figure(figsize=(10, 10))\n",
    "\n",
    "if titles:\n",
    "    plt.title(label='Test performances of each model for different hyper-parameter choices',\n",
    "            fontdict={\n",
    "                'size':18\n",
    "            }\n",
    "            )\n",
    "\n",
    "ax = sns.barplot(x=\"run_id\", y=\"accuracy\", hue=\"model_name\", data=data_max_final, palette=one_palette_for_all)\n",
    "\n",
    "\n",
    "\n",
    "plt.xlabel(xlabel='hyper-parameter combination',\n",
    "           fontdict={\n",
    "               'size':15\n",
    "           }\n",
    "           )\n",
    "plt.ylabel(ylabel='validation accuracy',\n",
    "           fontdict={\n",
    "               'size':15\n",
    "           },\n",
    "           \n",
    "           )\n",
    "\n",
    "#plt.yticks(ticks=[0.5,0.6,0.7,0.8])\n",
    "if train_or_test == 'test':\n",
    "    plt.ylim([0.5,0.75])\n",
    "plt.legend(title='Models')\n",
    "\n",
    "# pairs = [((1, \"One compartment\"), (5, \"One compartment\")), ((1, \"No BAP\"), (5, \"No BAP\")), ((1, \"BAP\"), (5, \"BAP\"))]\n",
    "# annot = Annotator(ax, pairs, x=\"run_id\", y=\"accuracy\", hue=\"model_name\", data=data_max_final, )\n",
    "\n",
    "# annot.configure(test=test_used, text_format='star', loc='inside', verbose=2, comparisons_correction=\"Bonferroni\")\n",
    "# annot.apply_test()\n",
    "# ax, test_results = annot.annotate()\n",
    "\n",
    "#plt.tight_layout()\n",
    "if save:\n",
    "    plt.savefig('../data/heidelberg_hyperparam_visual/figure3.png', dpi=dpi)\n",
    "    \n",
    "plt.show()"
   ]
  },
  {
   "cell_type": "markdown",
   "metadata": {},
   "source": [
    "## Comparing paper results with best hyper parameter combination found"
   ]
  },
  {
   "cell_type": "code",
   "execution_count": 83,
   "metadata": {},
   "outputs": [],
   "source": [
    "if train_or_test == 'test':\n",
    "    run_paper = load_test_performance(run_names[0], number_of_seeds)\n",
    "    run_best = load_test_performance(run_names[4], number_of_seeds)\n",
    "\n",
    "elif train_or_test == 'train':\n",
    "    run_paper = load_training_performance(run_names[0], number_of_seeds)\n",
    "    run_best = load_training_performance(run_names[4], number_of_seeds)\n",
    "\n",
    "run_paper = run_paper[run_paper['time']=='final']\n",
    "run_paper['run_id'] = 1\n",
    "\n",
    "run_best = run_best[run_best['time']=='final']\n",
    "run_best['run_id'] = 5\n",
    "\n",
    "pd_paper_best = pd.concat([run_paper, run_best])"
   ]
  },
  {
   "cell_type": "code",
   "execution_count": 84,
   "metadata": {},
   "outputs": [
    {
     "name": "stdout",
     "output_type": "stream",
     "text": [
      "p-value annotation legend:\n",
      "      ns: p <= 1.00e+00\n",
      "       *: 1.00e-02 < p <= 5.00e-02\n",
      "      **: 1.00e-03 < p <= 1.00e-02\n",
      "     ***: 1.00e-04 < p <= 1.00e-03\n",
      "    ****: p <= 1.00e-04\n",
      "\n",
      "1_BAP vs. 5_BAP: Wilcoxon test (paired samples) with Bonferroni correction, P_val:5.859e-03 Stat=0.000e+00\n",
      "1_One compartment vs. 5_One compartment: Wilcoxon test (paired samples) with Bonferroni correction, P_val:1.465e-01 Stat=8.000e+00\n",
      "1_No BAP vs. 5_No BAP: Wilcoxon test (paired samples) with Bonferroni correction, P_val:5.859e-03 Stat=0.000e+00\n"
     ]
    },
    {
     "data": {
      "image/png": "[encoded data removed]",
      "text/plain": [
       "<Figure size 720x720 with 1 Axes>"
      ]
     },
     "metadata": {},
     "output_type": "display_data"
    }
   ],
   "source": [
    "plt.figure(figsize=(10, 10))\n",
    "\n",
    "\n",
    "ax = sns.barplot(x=\"run_id\", y=\"accuracy\", hue=\"model_name\", data=pd_paper_best, palette=one_palette_for_all)\n",
    "\n",
    "\n",
    "plt.xlabel(xlabel='hyper-parameter combination',\n",
    "           fontdict={\n",
    "               'size':15\n",
    "           }\n",
    "           )\n",
    "plt.ylabel(ylabel='validation accuracy',\n",
    "           fontdict={\n",
    "               'size':15\n",
    "           },\n",
    "           \n",
    "           )\n",
    "\n",
    "#plt.yticks(ticks=[0.5,0.6,0.7,0.8])\n",
    "plt.ylim([0.5,0.75])\n",
    "plt.legend(title='Models')\n",
    "\n",
    "pairs = [((1, \"One compartment\"), (5, \"One compartment\")), ((1, \"No BAP\"), (5, \"No BAP\")), ((1, \"BAP\"), (5, \"BAP\"))]\n",
    "annot = Annotator(ax, pairs, x=\"run_id\", y=\"accuracy\", hue=\"model_name\", data=pd_paper_best, )\n",
    "\n",
    "annot.configure(test=test_used, text_format='star', loc='inside', verbose=2, comparisons_correction=\"Bonferroni\")\n",
    "annot.apply_test()\n",
    "ax, test_results = annot.annotate()\n",
    "\n",
    "#plt.tight_layout()\n",
    "if save:\n",
    "    plt.savefig('../data/heidelberg_hyperparam_visual/figure7.png', dpi=dpi)\n",
    "    \n",
    "plt.show()"
   ]
  },
  {
   "cell_type": "markdown",
   "metadata": {},
   "source": [
    "## Bar plot comparaison of One Compartment model (no dendritic capturing) versus BAP or No BAP (capturing dendritic interactions) if the number of hidden units is of factor 2 \n",
    "(*2 or /2)"
   ]
  },
  {
   "cell_type": "code",
   "execution_count": 85,
   "metadata": {},
   "outputs": [],
   "source": [
    "if train_or_test == 'test':\n",
    "    run_x_units = load_test_performance('run_5_24_08_22', 10) # lr=1e-3, batch_size=128, 150 hidden units \n",
    "    run_2x_units = load_test_performance('run_9_01_09_22', 10) # lr=1e-3, batch_size=128, 300 hidden units \n",
    "\n",
    "elif train_or_test == 'train':\n",
    "    run_x_units = load_training_performance('run_5_24_08_22', 10) # lr=1e-3, batch_size=128, 150 hidden units \n",
    "    run_2x_units = load_training_performance('run_9_01_09_22', 10) # lr=1e-3, batch_size=128, 300 hidden units "
   ]
  },
  {
   "cell_type": "code",
   "execution_count": 86,
   "metadata": {},
   "outputs": [
    {
     "data": {
      "image/png": "[encoded data removed]",
      "text/plain": [
       "<Figure size 720x504 with 2 Axes>"
      ]
     },
     "metadata": {},
     "output_type": "display_data"
    }
   ],
   "source": [
    "# Create two plots side by side.\n",
    "fig, (ax1, ax2) = plt.subplots(1, 2, figsize=(10, 7), sharey=True)\n",
    "\n",
    "sns.set_style('darkgrid')\n",
    "\n",
    "# Construct plot for run_4_22_08_22 data\n",
    "sns.barplot(x = \"model_name\", y = \"accuracy\", hue=\"time\", data = run_x_units, order=['One compartment', 'No BAP', 'BAP'], ax=ax1, palette=\"gist_heat\")\n",
    "ax1.set_title(label='run number 9, # hidden units = 150', fontdict={'fontsize': 15})\n",
    "\n",
    "# Construct plot for run_6_26_08_22 data\n",
    "sns.barplot(x = \"model_name\", y = \"accuracy\", hue=\"time\", data = run_2x_units, order=['One compartment', 'No BAP', 'BAP'], ax=ax2, palette = \"YlGn\")\n",
    "ax2.set_title(label='run number 5, # hidden units = 300', fontdict={'fontsize': 15})\n",
    "\n",
    "if titles:\n",
    "    fig.suptitle('Difference of accuracies across models for a different number of hidden compartments', fontsize = 18)#, fontdict={'fontsize': 15})\n",
    "\n",
    "\n",
    "plt.tight_layout()\n",
    "if save:\n",
    "    plt.savefig('../data/heidelberg_hyperparam_visual/figure4.png', dpi=dpi)\n",
    "plt.show()"
   ]
  },
  {
   "cell_type": "markdown",
   "metadata": {},
   "source": [
    "The fourth search has hyper-parameters : lr=1e-3, batch_size=128, 200 hidden units \n",
    "\n",
    "The sixth search has hyper-parameters : lr=1e-3, batch_size=128, 400 hidden units \n",
    "\n",
    "Let us compare the `One compartment` of search no6 model with the `BAP` and `No BAP` model of search no4. We are doing this because the models capturing the dendritic phenomena have dual compartments, therefore have 2 times more computational units than a standard model like the `One Compartment`."
   ]
  },
  {
   "cell_type": "code",
   "execution_count": 87,
   "metadata": {},
   "outputs": [
    {
     "name": "stderr",
     "output_type": "stream",
     "text": [
      "/var/folders/xd/10nyn_j13qs58rww11sjkgy80000gn/T/ipykernel_3275/2584262359.py:1: UserWarning:\n",
      "\n",
      "Boolean Series key will be reindexed to match DataFrame index.\n",
      "\n",
      "/var/folders/xd/10nyn_j13qs58rww11sjkgy80000gn/T/ipykernel_3275/2584262359.py:4: UserWarning:\n",
      "\n",
      "Boolean Series key will be reindexed to match DataFrame index.\n",
      "\n",
      "/var/folders/xd/10nyn_j13qs58rww11sjkgy80000gn/T/ipykernel_3275/2584262359.py:7: UserWarning:\n",
      "\n",
      "Boolean Series key will be reindexed to match DataFrame index.\n",
      "\n"
     ]
    }
   ],
   "source": [
    "one_compartment = run_2x_units[run_2x_units.model_name=='One compartment'][run_2x_units.time=='final']\n",
    "one_compartment.reset_index(drop=True, inplace=True)\n",
    "\n",
    "bap = run_x_units[run_x_units.model_name=='BAP'][run_x_units.time=='final']\n",
    "bap.reset_index(inplace=True, drop=True)\n",
    "\n",
    "no_bap = run_x_units[run_x_units.model_name=='No BAP'][run_x_units.time=='final']\n",
    "no_bap.reset_index(inplace=True, drop=True)\n",
    "\n",
    "df = pd.concat([one_compartment, no_bap, bap])"
   ]
  },
  {
   "cell_type": "code",
   "execution_count": 88,
   "metadata": {},
   "outputs": [
    {
     "name": "stdout",
     "output_type": "stream",
     "text": [
      "p-value annotation legend:\n",
      "      ns: p <= 1.00e+00\n",
      "       *: 1.00e-02 < p <= 5.00e-02\n",
      "      **: 1.00e-03 < p <= 1.00e-02\n",
      "     ***: 1.00e-04 < p <= 1.00e-03\n",
      "    ****: p <= 1.00e-04\n",
      "\n",
      "One compartment vs. No BAP: Wilcoxon test (paired samples) with Bonferroni correction, P_val:5.859e-03 Stat=0.000e+00\n",
      "No BAP vs. BAP: Wilcoxon test (paired samples) with Bonferroni correction, P_val:5.801e-01 Stat=1.400e+01\n",
      "One compartment vs. BAP: Wilcoxon test (paired samples) with Bonferroni correction, P_val:5.859e-03 Stat=0.000e+00\n"
     ]
    },
    {
     "data": {
      "image/png": "[encoded data removed]",
      "text/plain": [
       "<Figure size 720x720 with 1 Axes>"
      ]
     },
     "metadata": {},
     "output_type": "display_data"
    }
   ],
   "source": [
    "# Construct plot\n",
    "title = 'Compairing validation accuracies. Two compartment models have\\n 150 hidden units and one compartment model has 300 hidden units.'\n",
    "\n",
    "plt.figure(figsize=(10, 10))\n",
    "\n",
    "ax = sns.barplot(x = \"model_name\", y = \"accuracy\", data=df, order=['One compartment', 'No BAP', 'BAP'], palette = one_palette_for_all)\n",
    "plt.ylim([0.5,0.8])\n",
    "\n",
    "pairs = [('One compartment','No BAP'), ('One compartment', 'BAP'), ('No BAP', 'BAP')]\n",
    "annot = Annotator(ax, pairs, x = \"model_name\", y = \"accuracy\", data = df, order=['One compartment', 'No BAP', 'BAP'])\n",
    "\n",
    "annot.configure(test=test_used, text_format='star', loc='inside', verbose=2, comparisons_correction=\"Bonferroni\")\n",
    "annot.apply_test()\n",
    "ax, test_results = annot.annotate()\n",
    "\n",
    "if titles:\n",
    "    ax.set_title(title, fontdict={'fontsize': 18})\n",
    "#plt.title(title, fontdict={'fontsize': 18})\n",
    "\n",
    "plt.xlabel(xlabel='',\n",
    "           fontdict={\n",
    "               'size':12\n",
    "           }\n",
    "           )\n",
    "plt.ylabel(ylabel='validation accuracy',\n",
    "           fontdict={\n",
    "               'size':12\n",
    "           }\n",
    "           )\n",
    "\n",
    "\n",
    "\n",
    "ax.set_xticklabels(['One compartment \\n(300x1 hidden units)', 'No BAP \\n(150x2 hidden units)', 'BAP\\n(150x2 hidden units)'], \n",
    "                   fontdict={'fontsize':12}\n",
    "                   )\n",
    "#plt.tight_layout()\n",
    "if save:\n",
    "    plt.savefig('../data/heidelberg_hyperparam_visual/figure5.png', dpi=dpi)\n",
    "plt.show()"
   ]
  },
  {
   "cell_type": "markdown",
   "metadata": {},
   "source": [
    "## Preparing the 3d interactive plots"
   ]
  },
  {
   "cell_type": "code",
   "execution_count": 89,
   "metadata": {},
   "outputs": [],
   "source": [
    "# Dictionnary of hyper parameters used for each run (one batch_size, lr and #hidden units per run)\n",
    "from typing import Dict, List, Union\n",
    "\n",
    "def get_hyper_param_dict_dataframe(hyper_params:Union[Dict[str, Union[float,int]], pd.DataFrame], run_names:List[str], keep_seeds:bool=False)->pd.DataFrame:\n",
    "    \"\"\"_summary_\n",
    "\n",
    "    Parameters\n",
    "    ----------\n",
    "    hyper_params : Union[Dict[str, Union[float,int]], pd.DataFrame]\n",
    "        A dictionnary containing \n",
    "    run_names : List[str]\n",
    "        _description_\n",
    "\n",
    "    Returns\n",
    "    -------\n",
    "    pd.DataFrame\n",
    "        _description_\n",
    "    \"\"\"\n",
    "    # Convert the dictionnary to a pd.DataFrame\n",
    "    hyper_params_df = pd.DataFrame(hyper_params)\n",
    "\n",
    "    # Get the data for all the hyper parameter searches\n",
    "    maximum_data = get_concat_every_performance(run_names,number_of_seeds, train_or_test=train_or_test)\n",
    "    # Do an average over x number of seeds.\n",
    "    if keep_seeds:\n",
    "        averaged_over_seeds = maximum_data\n",
    "    else:\n",
    "        averaged_over_seeds = maximum_data.groupby(['model_name', 'time', 'run_id'], as_index=False).mean()\n",
    "    # Get rid of the initial test accuracies.\n",
    "    only_final = averaged_over_seeds[averaged_over_seeds.time == 'final']\n",
    "\n",
    "    # Get all the model names present in the hyper param searches\n",
    "    model_names = maximum_data.model_name.unique()\n",
    "\n",
    "    # Initialize a dictionnary with keys being the model names and the items being the corresponding data frames\n",
    "    # with accuracies and corresponding hyper parameters.\n",
    "    hyper_params_for_models = [] #@ {}\n",
    "    # Loop over every model.\n",
    "    for model_name in model_names:\n",
    "        df = only_final[only_final.model_name==model_name]\n",
    "        # Only take the accuracy, model_name, and run_id column of the model.\n",
    "        if keep_seeds:\n",
    "            df = df.drop(columns=['time'])\n",
    "        else:\n",
    "            df = df.drop(columns=['time', 'seed'])\n",
    "        df.reset_index(drop=True, inplace=True)\n",
    "        # Concatenate the accuracy of the model for every search with the corresponding hyper parameters.\n",
    "        df = pd.concat([hyper_params_df, df], axis=1)\n",
    "        # Add an id for retracability.\n",
    "        #df['run_id'] = run_names\n",
    "        # Add the data frame as an item to dictionnary.\n",
    "        hyper_params_for_models.append(df) #@hyper_params_for_models[model_name]=df \n",
    "    return pd.concat(hyper_params_for_models)#@hyper_params_for_models\n",
    "\n",
    "hyper_params_for_models = get_hyper_param_dict_dataframe(hyper_params=hyper_params, run_names=run_names)\n"
   ]
  },
  {
   "cell_type": "code",
   "execution_count": 90,
   "metadata": {},
   "outputs": [
    {
     "data": {
      "text/html": [
       "<div>\n",
       "<style scoped>\n",
       "    .dataframe tbody tr th:only-of-type {\n",
       "        vertical-align: middle;\n",
       "    }\n",
       "\n",
       "    .dataframe tbody tr th {\n",
       "        vertical-align: top;\n",
       "    }\n",
       "\n",
       "    .dataframe thead th {\n",
       "        text-align: right;\n",
       "    }\n",
       "</style>\n",
       "<table border=\"1\" class=\"dataframe\">\n",
       "  <thead>\n",
       "    <tr style=\"text-align: right;\">\n",
       "      <th></th>\n",
       "      <th>batch size</th>\n",
       "      <th>learning rate</th>\n",
       "      <th>number of hidden units</th>\n",
       "      <th>model_name</th>\n",
       "      <th>run_id</th>\n",
       "      <th>accuracy</th>\n",
       "    </tr>\n",
       "  </thead>\n",
       "  <tbody>\n",
       "    <tr>\n",
       "      <th>0</th>\n",
       "      <td>256</td>\n",
       "      <td>0.002</td>\n",
       "      <td>200</td>\n",
       "      <td>BAP</td>\n",
       "      <td>1</td>\n",
       "      <td>0.670410</td>\n",
       "    </tr>\n",
       "    <tr>\n",
       "      <th>1</th>\n",
       "      <td>256</td>\n",
       "      <td>0.001</td>\n",
       "      <td>200</td>\n",
       "      <td>BAP</td>\n",
       "      <td>2</td>\n",
       "      <td>0.690576</td>\n",
       "    </tr>\n",
       "    <tr>\n",
       "      <th>2</th>\n",
       "      <td>128</td>\n",
       "      <td>0.002</td>\n",
       "      <td>200</td>\n",
       "      <td>BAP</td>\n",
       "      <td>3</td>\n",
       "      <td>0.670496</td>\n",
       "    </tr>\n",
       "    <tr>\n",
       "      <th>3</th>\n",
       "      <td>128</td>\n",
       "      <td>0.001</td>\n",
       "      <td>200</td>\n",
       "      <td>BAP</td>\n",
       "      <td>4</td>\n",
       "      <td>0.690809</td>\n",
       "    </tr>\n",
       "    <tr>\n",
       "      <th>4</th>\n",
       "      <td>128</td>\n",
       "      <td>0.001</td>\n",
       "      <td>300</td>\n",
       "      <td>BAP</td>\n",
       "      <td>5</td>\n",
       "      <td>0.726057</td>\n",
       "    </tr>\n",
       "    <tr>\n",
       "      <th>5</th>\n",
       "      <td>128</td>\n",
       "      <td>0.001</td>\n",
       "      <td>400</td>\n",
       "      <td>BAP</td>\n",
       "      <td>6</td>\n",
       "      <td>0.709283</td>\n",
       "    </tr>\n",
       "    <tr>\n",
       "      <th>6</th>\n",
       "      <td>64</td>\n",
       "      <td>0.001</td>\n",
       "      <td>300</td>\n",
       "      <td>BAP</td>\n",
       "      <td>7</td>\n",
       "      <td>0.706339</td>\n",
       "    </tr>\n",
       "    <tr>\n",
       "      <th>7</th>\n",
       "      <td>128</td>\n",
       "      <td>0.001</td>\n",
       "      <td>50</td>\n",
       "      <td>BAP</td>\n",
       "      <td>8</td>\n",
       "      <td>0.614844</td>\n",
       "    </tr>\n",
       "    <tr>\n",
       "      <th>8</th>\n",
       "      <td>128</td>\n",
       "      <td>0.001</td>\n",
       "      <td>150</td>\n",
       "      <td>BAP</td>\n",
       "      <td>9</td>\n",
       "      <td>0.652206</td>\n",
       "    </tr>\n",
       "  </tbody>\n",
       "</table>\n",
       "</div>"
      ],
      "text/plain": [
       "   batch size  learning rate  number of hidden units model_name  run_id  \\\n",
       "0         256          0.002                     200        BAP       1   \n",
       "1         256          0.001                     200        BAP       2   \n",
       "2         128          0.002                     200        BAP       3   \n",
       "3         128          0.001                     200        BAP       4   \n",
       "4         128          0.001                     300        BAP       5   \n",
       "5         128          0.001                     400        BAP       6   \n",
       "6          64          0.001                     300        BAP       7   \n",
       "7         128          0.001                      50        BAP       8   \n",
       "8         128          0.001                     150        BAP       9   \n",
       "\n",
       "   accuracy  \n",
       "0  0.670410  \n",
       "1  0.690576  \n",
       "2  0.670496  \n",
       "3  0.690809  \n",
       "4  0.726057  \n",
       "5  0.709283  \n",
       "6  0.706339  \n",
       "7  0.614844  \n",
       "8  0.652206  "
      ]
     },
     "execution_count": 90,
     "metadata": {},
     "output_type": "execute_result"
    }
   ],
   "source": [
    "# Visualise how the data looks for the model BAP\n",
    "hyper_params_for_models[hyper_params_for_models['model_name'] == 'BAP']"
   ]
  },
  {
   "cell_type": "code",
   "execution_count": 91,
   "metadata": {},
   "outputs": [],
   "source": [
    "# Calculating the upper and lower bounds for each hyper parameter\n",
    "# Since all hyperparam combinations are the same across models, only take the first model as a reference (in this case 'BAP').\n",
    "\n",
    "max_bs = hyper_params_for_models['batch size'].max()\n",
    "min_bs = hyper_params_for_models['batch size'].min()\n",
    "\n",
    "max_lr = hyper_params_for_models['learning rate'].max()\n",
    "min_lr = hyper_params_for_models['learning rate'].min()\n",
    "\n",
    "max_hu = hyper_params_for_models['number of hidden units'].max()\n",
    "min_hu = hyper_params_for_models['number of hidden units'].min()\n",
    "#@min_hu = hyper_params_for_models[model_names[0]]['number of hidden units'].min()"
   ]
  },
  {
   "cell_type": "code",
   "execution_count": 92,
   "metadata": {},
   "outputs": [],
   "source": [
    "percentage_margin = 0.5\n",
    "\n",
    "range_x=[40,300]\n",
    "range_x=[min_bs-(percentage_margin*min_bs),max_bs+(percentage_margin*min_bs)]\n",
    "\n",
    "range_y=[0.5e-3,2.5e-3]\n",
    "range_y=[min_lr-(percentage_margin*min_lr),max_lr+(percentage_margin*min_lr)]\n",
    "\n",
    "range_z=[20,500]\n",
    "range_z=[min_hu-(percentage_margin*min_hu),max_hu+(percentage_margin*min_hu)]"
   ]
  },
  {
   "cell_type": "code",
   "execution_count": 93,
   "metadata": {},
   "outputs": [
    {
     "data": {
      "application/vnd.plotly.v1+json": {
       "config": {
        "plotlyServerURL": "https://plot.ly"
       },
       "data": [
        {
         "hovertemplate": "<b>%{hovertext}</b><br><br>batch size=%{x}<br>learning rate=%{y}<br>number of hidden units=%{z}<br>accuracy=%{marker.color}<extra></extra>",
         "hovertext": [
          1,
          2,
          3,
          4,
          5,
          6,
          7,
          8,
          9
         ],
         "legendgroup": "",
         "marker": {
          "color": [
           0.578076171875,
           0.606787109375,
           0.6022518382352937,
           0.6030790441176467,
           0.6188419117647054,
           0.6079044117647054,
           0.616696428571428,
           0.5735294117647054,
           0.6045036764705878
          ],
          "coloraxis": "coloraxis",
          "size": 6,
          "symbol": "circle"
         },
         "mode": "markers",
         "name": "",
         "scene": "scene",
         "showlegend": false,
         "type": "scatter3d",
         "x": [
          256,
          256,
          128,
          128,
          128,
          128,
          64,
          128,
          128
         ],
         "y": [
          0.002,
          0.001,
          0.002,
          0.001,
          0.001,
          0.001,
          0.001,
          0.001,
          0.001
         ],
         "z": [
          200,
          200,
          200,
          200,
          300,
          400,
          300,
          50,
          150
         ]
        }
       ],
       "layout": {
        "coloraxis": {
         "colorbar": {
          "title": {
           "text": "accuracy"
          }
         },
         "colorscale": [
          [
           0,
           "#0d0887"
          ],
          [
           0.1111111111111111,
           "#46039f"
          ],
          [
           0.2222222222222222,
           "#7201a8"
          ],
          [
           0.3333333333333333,
           "#9c179e"
          ],
          [
           0.4444444444444444,
           "#bd3786"
          ],
          [
           0.5555555555555556,
           "#d8576b"
          ],
          [
           0.6666666666666666,
           "#ed7953"
          ],
          [
           0.7777777777777778,
           "#fb9f3a"
          ],
          [
           0.8888888888888888,
           "#fdca26"
          ],
          [
           1,
           "#f0f921"
          ]
         ]
        },
        "legend": {
         "tracegroupgap": 0
        },
        "scene": {
         "domain": {
          "x": [
           0,
           1
          ],
          "y": [
           0,
           1
          ]
         },
         "xaxis": {
          "range": [
           32,
           288
          ],
          "title": {
           "text": "batch size"
          }
         },
         "yaxis": {
          "range": [
           0.0005,
           0.0025
          ],
          "title": {
           "text": "learning rate"
          }
         },
         "zaxis": {
          "range": [
           25,
           425
          ],
          "title": {
           "text": "number of hidden units"
          }
         }
        },
        "template": {
         "data": {
          "bar": [
           {
            "error_x": {
             "color": "#2a3f5f"
            },
            "error_y": {
             "color": "#2a3f5f"
            },
            "marker": {
             "line": {
              "color": "#E5ECF6",
              "width": 0.5
             },
             "pattern": {
              "fillmode": "overlay",
              "size": 10,
              "solidity": 0.2
             }
            },
            "type": "bar"
           }
          ],
          "barpolar": [
           {
            "marker": {
             "line": {
              "color": "#E5ECF6",
              "width": 0.5
             },
             "pattern": {
              "fillmode": "overlay",
              "size": 10,
              "solidity": 0.2
             }
            },
            "type": "barpolar"
           }
          ],
          "carpet": [
           {
            "aaxis": {
             "endlinecolor": "#2a3f5f",
             "gridcolor": "white",
             "linecolor": "white",
             "minorgridcolor": "white",
             "startlinecolor": "#2a3f5f"
            },
            "baxis": {
             "endlinecolor": "#2a3f5f",
             "gridcolor": "white",
             "linecolor": "white",
             "minorgridcolor": "white",
             "startlinecolor": "#2a3f5f"
            },
            "type": "carpet"
           }
          ],
          "choropleth": [
           {
            "colorbar": {
             "outlinewidth": 0,
             "ticks": ""
            },
            "type": "choropleth"
           }
          ],
          "contour": [
           {
            "colorbar": {
             "outlinewidth": 0,
             "ticks": ""
            },
            "colorscale": [
             [
              0,
              "#0d0887"
             ],
             [
              0.1111111111111111,
              "#46039f"
             ],
             [
              0.2222222222222222,
              "#7201a8"
             ],
             [
              0.3333333333333333,
              "#9c179e"
             ],
             [
              0.4444444444444444,
              "#bd3786"
             ],
             [
              0.5555555555555556,
              "#d8576b"
             ],
             [
              0.6666666666666666,
              "#ed7953"
             ],
             [
              0.7777777777777778,
              "#fb9f3a"
             ],
             [
              0.8888888888888888,
              "#fdca26"
             ],
             [
              1,
              "#f0f921"
             ]
            ],
            "type": "contour"
           }
          ],
          "contourcarpet": [
           {
            "colorbar": {
             "outlinewidth": 0,
             "ticks": ""
            },
            "type": "contourcarpet"
           }
          ],
          "heatmap": [
           {
            "colorbar": {
             "outlinewidth": 0,
             "ticks": ""
            },
            "colorscale": [
             [
              0,
              "#0d0887"
             ],
             [
              0.1111111111111111,
              "#46039f"
             ],
             [
              0.2222222222222222,
              "#7201a8"
             ],
             [
              0.3333333333333333,
              "#9c179e"
             ],
             [
              0.4444444444444444,
              "#bd3786"
             ],
             [
              0.5555555555555556,
              "#d8576b"
             ],
             [
              0.6666666666666666,
              "#ed7953"
             ],
             [
              0.7777777777777778,
              "#fb9f3a"
             ],
             [
              0.8888888888888888,
              "#fdca26"
             ],
             [
              1,
              "#f0f921"
             ]
            ],
            "type": "heatmap"
           }
          ],
          "heatmapgl": [
           {
            "colorbar": {
             "outlinewidth": 0,
             "ticks": ""
            },
            "colorscale": [
             [
              0,
              "#0d0887"
             ],
             [
              0.1111111111111111,
              "#46039f"
             ],
             [
              0.2222222222222222,
              "#7201a8"
             ],
             [
              0.3333333333333333,
              "#9c179e"
             ],
             [
              0.4444444444444444,
              "#bd3786"
             ],
             [
              0.5555555555555556,
              "#d8576b"
             ],
             [
              0.6666666666666666,
              "#ed7953"
             ],
             [
              0.7777777777777778,
              "#fb9f3a"
             ],
             [
              0.8888888888888888,
              "#fdca26"
             ],
             [
              1,
              "#f0f921"
             ]
            ],
            "type": "heatmapgl"
           }
          ],
          "histogram": [
           {
            "marker": {
             "pattern": {
              "fillmode": "overlay",
              "size": 10,
              "solidity": 0.2
             }
            },
            "type": "histogram"
           }
          ],
          "histogram2d": [
           {
            "colorbar": {
             "outlinewidth": 0,
             "ticks": ""
            },
            "colorscale": [
             [
              0,
              "#0d0887"
             ],
             [
              0.1111111111111111,
              "#46039f"
             ],
             [
              0.2222222222222222,
              "#7201a8"
             ],
             [
              0.3333333333333333,
              "#9c179e"
             ],
             [
              0.4444444444444444,
              "#bd3786"
             ],
             [
              0.5555555555555556,
              "#d8576b"
             ],
             [
              0.6666666666666666,
              "#ed7953"
             ],
             [
              0.7777777777777778,
              "#fb9f3a"
             ],
             [
              0.8888888888888888,
              "#fdca26"
             ],
             [
              1,
              "#f0f921"
             ]
            ],
            "type": "histogram2d"
           }
          ],
          "histogram2dcontour": [
           {
            "colorbar": {
             "outlinewidth": 0,
             "ticks": ""
            },
            "colorscale": [
             [
              0,
              "#0d0887"
             ],
             [
              0.1111111111111111,
              "#46039f"
             ],
             [
              0.2222222222222222,
              "#7201a8"
             ],
             [
              0.3333333333333333,
              "#9c179e"
             ],
             [
              0.4444444444444444,
              "#bd3786"
             ],
             [
              0.5555555555555556,
              "#d8576b"
             ],
             [
              0.6666666666666666,
              "#ed7953"
             ],
             [
              0.7777777777777778,
              "#fb9f3a"
             ],
             [
              0.8888888888888888,
              "#fdca26"
             ],
             [
              1,
              "#f0f921"
             ]
            ],
            "type": "histogram2dcontour"
           }
          ],
          "mesh3d": [
           {
            "colorbar": {
             "outlinewidth": 0,
             "ticks": ""
            },
            "type": "mesh3d"
           }
          ],
          "parcoords": [
           {
            "line": {
             "colorbar": {
              "outlinewidth": 0,
              "ticks": ""
             }
            },
            "type": "parcoords"
           }
          ],
          "pie": [
           {
            "automargin": true,
            "type": "pie"
           }
          ],
          "scatter": [
           {
            "fillpattern": {
             "fillmode": "overlay",
             "size": 10,
             "solidity": 0.2
            },
            "type": "scatter"
           }
          ],
          "scatter3d": [
           {
            "line": {
             "colorbar": {
              "outlinewidth": 0,
              "ticks": ""
             }
            },
            "marker": {
             "colorbar": {
              "outlinewidth": 0,
              "ticks": ""
             }
            },
            "type": "scatter3d"
           }
          ],
          "scattercarpet": [
           {
            "marker": {
             "colorbar": {
              "outlinewidth": 0,
              "ticks": ""
             }
            },
            "type": "scattercarpet"
           }
          ],
          "scattergeo": [
           {
            "marker": {
             "colorbar": {
              "outlinewidth": 0,
              "ticks": ""
             }
            },
            "type": "scattergeo"
           }
          ],
          "scattergl": [
           {
            "marker": {
             "colorbar": {
              "outlinewidth": 0,
              "ticks": ""
             }
            },
            "type": "scattergl"
           }
          ],
          "scattermapbox": [
           {
            "marker": {
             "colorbar": {
              "outlinewidth": 0,
              "ticks": ""
             }
            },
            "type": "scattermapbox"
           }
          ],
          "scatterpolar": [
           {
            "marker": {
             "colorbar": {
              "outlinewidth": 0,
              "ticks": ""
             }
            },
            "type": "scatterpolar"
           }
          ],
          "scatterpolargl": [
           {
            "marker": {
             "colorbar": {
              "outlinewidth": 0,
              "ticks": ""
             }
            },
            "type": "scatterpolargl"
           }
          ],
          "scatterternary": [
           {
            "marker": {
             "colorbar": {
              "outlinewidth": 0,
              "ticks": ""
             }
            },
            "type": "scatterternary"
           }
          ],
          "surface": [
           {
            "colorbar": {
             "outlinewidth": 0,
             "ticks": ""
            },
            "colorscale": [
             [
              0,
              "#0d0887"
             ],
             [
              0.1111111111111111,
              "#46039f"
             ],
             [
              0.2222222222222222,
              "#7201a8"
             ],
             [
              0.3333333333333333,
              "#9c179e"
             ],
             [
              0.4444444444444444,
              "#bd3786"
             ],
             [
              0.5555555555555556,
              "#d8576b"
             ],
             [
              0.6666666666666666,
              "#ed7953"
             ],
             [
              0.7777777777777778,
              "#fb9f3a"
             ],
             [
              0.8888888888888888,
              "#fdca26"
             ],
             [
              1,
              "#f0f921"
             ]
            ],
            "type": "surface"
           }
          ],
          "table": [
           {
            "cells": {
             "fill": {
              "color": "#EBF0F8"
             },
             "line": {
              "color": "white"
             }
            },
            "header": {
             "fill": {
              "color": "#C8D4E3"
             },
             "line": {
              "color": "white"
             }
            },
            "type": "table"
           }
          ]
         },
         "layout": {
          "annotationdefaults": {
           "arrowcolor": "#2a3f5f",
           "arrowhead": 0,
           "arrowwidth": 1
          },
          "autotypenumbers": "strict",
          "coloraxis": {
           "colorbar": {
            "outlinewidth": 0,
            "ticks": ""
           }
          },
          "colorscale": {
           "diverging": [
            [
             0,
             "#8e0152"
            ],
            [
             0.1,
             "#c51b7d"
            ],
            [
             0.2,
             "#de77ae"
            ],
            [
             0.3,
             "#f1b6da"
            ],
            [
             0.4,
             "#fde0ef"
            ],
            [
             0.5,
             "#f7f7f7"
            ],
            [
             0.6,
             "#e6f5d0"
            ],
            [
             0.7,
             "#b8e186"
            ],
            [
             0.8,
             "#7fbc41"
            ],
            [
             0.9,
             "#4d9221"
            ],
            [
             1,
             "#276419"
            ]
           ],
           "sequential": [
            [
             0,
             "#0d0887"
            ],
            [
             0.1111111111111111,
             "#46039f"
            ],
            [
             0.2222222222222222,
             "#7201a8"
            ],
            [
             0.3333333333333333,
             "#9c179e"
            ],
            [
             0.4444444444444444,
             "#bd3786"
            ],
            [
             0.5555555555555556,
             "#d8576b"
            ],
            [
             0.6666666666666666,
             "#ed7953"
            ],
            [
             0.7777777777777778,
             "#fb9f3a"
            ],
            [
             0.8888888888888888,
             "#fdca26"
            ],
            [
             1,
             "#f0f921"
            ]
           ],
           "sequentialminus": [
            [
             0,
             "#0d0887"
            ],
            [
             0.1111111111111111,
             "#46039f"
            ],
            [
             0.2222222222222222,
             "#7201a8"
            ],
            [
             0.3333333333333333,
             "#9c179e"
            ],
            [
             0.4444444444444444,
             "#bd3786"
            ],
            [
             0.5555555555555556,
             "#d8576b"
            ],
            [
             0.6666666666666666,
             "#ed7953"
            ],
            [
             0.7777777777777778,
             "#fb9f3a"
            ],
            [
             0.8888888888888888,
             "#fdca26"
            ],
            [
             1,
             "#f0f921"
            ]
           ]
          },
          "colorway": [
           "#636efa",
           "#EF553B",
           "#00cc96",
           "#ab63fa",
           "#FFA15A",
           "#19d3f3",
           "#FF6692",
           "#B6E880",
           "#FF97FF",
           "#FECB52"
          ],
          "font": {
           "color": "#2a3f5f"
          },
          "geo": {
           "bgcolor": "white",
           "lakecolor": "white",
           "landcolor": "#E5ECF6",
           "showlakes": true,
           "showland": true,
           "subunitcolor": "white"
          },
          "hoverlabel": {
           "align": "left"
          },
          "hovermode": "closest",
          "mapbox": {
           "style": "light"
          },
          "paper_bgcolor": "white",
          "plot_bgcolor": "#E5ECF6",
          "polar": {
           "angularaxis": {
            "gridcolor": "white",
            "linecolor": "white",
            "ticks": ""
           },
           "bgcolor": "#E5ECF6",
           "radialaxis": {
            "gridcolor": "white",
            "linecolor": "white",
            "ticks": ""
           }
          },
          "scene": {
           "xaxis": {
            "backgroundcolor": "#E5ECF6",
            "gridcolor": "white",
            "gridwidth": 2,
            "linecolor": "white",
            "showbackground": true,
            "ticks": "",
            "zerolinecolor": "white"
           },
           "yaxis": {
            "backgroundcolor": "#E5ECF6",
            "gridcolor": "white",
            "gridwidth": 2,
            "linecolor": "white",
            "showbackground": true,
            "ticks": "",
            "zerolinecolor": "white"
           },
           "zaxis": {
            "backgroundcolor": "#E5ECF6",
            "gridcolor": "white",
            "gridwidth": 2,
            "linecolor": "white",
            "showbackground": true,
            "ticks": "",
            "zerolinecolor": "white"
           }
          },
          "shapedefaults": {
           "line": {
            "color": "#2a3f5f"
           }
          },
          "ternary": {
           "aaxis": {
            "gridcolor": "white",
            "linecolor": "white",
            "ticks": ""
           },
           "baxis": {
            "gridcolor": "white",
            "linecolor": "white",
            "ticks": ""
           },
           "bgcolor": "#E5ECF6",
           "caxis": {
            "gridcolor": "white",
            "linecolor": "white",
            "ticks": ""
           }
          },
          "title": {
           "x": 0.05
          },
          "xaxis": {
           "automargin": true,
           "gridcolor": "white",
           "linecolor": "white",
           "ticks": "",
           "title": {
            "standoff": 15
           },
           "zerolinecolor": "white",
           "zerolinewidth": 2
          },
          "yaxis": {
           "automargin": true,
           "gridcolor": "white",
           "linecolor": "white",
           "ticks": "",
           "title": {
            "standoff": 15
           },
           "zerolinecolor": "white",
           "zerolinewidth": 2
          }
         }
        },
        "title": {
         "text": "One compartment",
         "x": 0.5,
         "xanchor": "center",
         "y": 0.9,
         "yanchor": "top"
        }
       }
      }
     },
     "metadata": {},
     "output_type": "display_data"
    },
    {
     "data": {
      "application/vnd.plotly.v1+json": {
       "config": {
        "plotlyServerURL": "https://plot.ly"
       },
       "data": [
        {
         "hovertemplate": "<b>%{hovertext}</b><br><br>batch size=%{x}<br>learning rate=%{y}<br>number of hidden units=%{z}<br>accuracy=%{marker.color}<extra></extra>",
         "hovertext": [
          1,
          2,
          3,
          4,
          5,
          6,
          7,
          8,
          9
         ],
         "legendgroup": "",
         "marker": {
          "color": [
           0.671826171875,
           0.71552734375,
           0.6837316176470585,
           0.7105238970588232,
           0.7183363970588231,
           0.7114889705882349,
           0.7021874999999996,
           0.6452665441176467,
           0.6775275735294114
          ],
          "coloraxis": "coloraxis",
          "size": 6,
          "symbol": "circle"
         },
         "mode": "markers",
         "name": "",
         "scene": "scene",
         "showlegend": false,
         "type": "scatter3d",
         "x": [
          256,
          256,
          128,
          128,
          128,
          128,
          64,
          128,
          128
         ],
         "y": [
          0.002,
          0.001,
          0.002,
          0.001,
          0.001,
          0.001,
          0.001,
          0.001,
          0.001
         ],
         "z": [
          200,
          200,
          200,
          200,
          300,
          400,
          300,
          50,
          150
         ]
        }
       ],
       "layout": {
        "coloraxis": {
         "colorbar": {
          "title": {
           "text": "accuracy"
          }
         },
         "colorscale": [
          [
           0,
           "#0d0887"
          ],
          [
           0.1111111111111111,
           "#46039f"
          ],
          [
           0.2222222222222222,
           "#7201a8"
          ],
          [
           0.3333333333333333,
           "#9c179e"
          ],
          [
           0.4444444444444444,
           "#bd3786"
          ],
          [
           0.5555555555555556,
           "#d8576b"
          ],
          [
           0.6666666666666666,
           "#ed7953"
          ],
          [
           0.7777777777777778,
           "#fb9f3a"
          ],
          [
           0.8888888888888888,
           "#fdca26"
          ],
          [
           1,
           "#f0f921"
          ]
         ]
        },
        "legend": {
         "tracegroupgap": 0
        },
        "scene": {
         "domain": {
          "x": [
           0,
           1
          ],
          "y": [
           0,
           1
          ]
         },
         "xaxis": {
          "range": [
           32,
           288
          ],
          "title": {
           "text": "batch size"
          }
         },
         "yaxis": {
          "range": [
           0.0005,
           0.0025
          ],
          "title": {
           "text": "learning rate"
          }
         },
         "zaxis": {
          "range": [
           25,
           425
          ],
          "title": {
           "text": "number of hidden units"
          }
         }
        },
        "template": {
         "data": {
          "bar": [
           {
            "error_x": {
             "color": "#2a3f5f"
            },
            "error_y": {
             "color": "#2a3f5f"
            },
            "marker": {
             "line": {
              "color": "#E5ECF6",
              "width": 0.5
             },
             "pattern": {
              "fillmode": "overlay",
              "size": 10,
              "solidity": 0.2
             }
            },
            "type": "bar"
           }
          ],
          "barpolar": [
           {
            "marker": {
             "line": {
              "color": "#E5ECF6",
              "width": 0.5
             },
             "pattern": {
              "fillmode": "overlay",
              "size": 10,
              "solidity": 0.2
             }
            },
            "type": "barpolar"
           }
          ],
          "carpet": [
           {
            "aaxis": {
             "endlinecolor": "#2a3f5f",
             "gridcolor": "white",
             "linecolor": "white",
             "minorgridcolor": "white",
             "startlinecolor": "#2a3f5f"
            },
            "baxis": {
             "endlinecolor": "#2a3f5f",
             "gridcolor": "white",
             "linecolor": "white",
             "minorgridcolor": "white",
             "startlinecolor": "#2a3f5f"
            },
            "type": "carpet"
           }
          ],
          "choropleth": [
           {
            "colorbar": {
             "outlinewidth": 0,
             "ticks": ""
            },
            "type": "choropleth"
           }
          ],
          "contour": [
           {
            "colorbar": {
             "outlinewidth": 0,
             "ticks": ""
            },
            "colorscale": [
             [
              0,
              "#0d0887"
             ],
             [
              0.1111111111111111,
              "#46039f"
             ],
             [
              0.2222222222222222,
              "#7201a8"
             ],
             [
              0.3333333333333333,
              "#9c179e"
             ],
             [
              0.4444444444444444,
              "#bd3786"
             ],
             [
              0.5555555555555556,
              "#d8576b"
             ],
             [
              0.6666666666666666,
              "#ed7953"
             ],
             [
              0.7777777777777778,
              "#fb9f3a"
             ],
             [
              0.8888888888888888,
              "#fdca26"
             ],
             [
              1,
              "#f0f921"
             ]
            ],
            "type": "contour"
           }
          ],
          "contourcarpet": [
           {
            "colorbar": {
             "outlinewidth": 0,
             "ticks": ""
            },
            "type": "contourcarpet"
           }
          ],
          "heatmap": [
           {
            "colorbar": {
             "outlinewidth": 0,
             "ticks": ""
            },
            "colorscale": [
             [
              0,
              "#0d0887"
             ],
             [
              0.1111111111111111,
              "#46039f"
             ],
             [
              0.2222222222222222,
              "#7201a8"
             ],
             [
              0.3333333333333333,
              "#9c179e"
             ],
             [
              0.4444444444444444,
              "#bd3786"
             ],
             [
              0.5555555555555556,
              "#d8576b"
             ],
             [
              0.6666666666666666,
              "#ed7953"
             ],
             [
              0.7777777777777778,
              "#fb9f3a"
             ],
             [
              0.8888888888888888,
              "#fdca26"
             ],
             [
              1,
              "#f0f921"
             ]
            ],
            "type": "heatmap"
           }
          ],
          "heatmapgl": [
           {
            "colorbar": {
             "outlinewidth": 0,
             "ticks": ""
            },
            "colorscale": [
             [
              0,
              "#0d0887"
             ],
             [
              0.1111111111111111,
              "#46039f"
             ],
             [
              0.2222222222222222,
              "#7201a8"
             ],
             [
              0.3333333333333333,
              "#9c179e"
             ],
             [
              0.4444444444444444,
              "#bd3786"
             ],
             [
              0.5555555555555556,
              "#d8576b"
             ],
             [
              0.6666666666666666,
              "#ed7953"
             ],
             [
              0.7777777777777778,
              "#fb9f3a"
             ],
             [
              0.8888888888888888,
              "#fdca26"
             ],
             [
              1,
              "#f0f921"
             ]
            ],
            "type": "heatmapgl"
           }
          ],
          "histogram": [
           {
            "marker": {
             "pattern": {
              "fillmode": "overlay",
              "size": 10,
              "solidity": 0.2
             }
            },
            "type": "histogram"
           }
          ],
          "histogram2d": [
           {
            "colorbar": {
             "outlinewidth": 0,
             "ticks": ""
            },
            "colorscale": [
             [
              0,
              "#0d0887"
             ],
             [
              0.1111111111111111,
              "#46039f"
             ],
             [
              0.2222222222222222,
              "#7201a8"
             ],
             [
              0.3333333333333333,
              "#9c179e"
             ],
             [
              0.4444444444444444,
              "#bd3786"
             ],
             [
              0.5555555555555556,
              "#d8576b"
             ],
             [
              0.6666666666666666,
              "#ed7953"
             ],
             [
              0.7777777777777778,
              "#fb9f3a"
             ],
             [
              0.8888888888888888,
              "#fdca26"
             ],
             [
              1,
              "#f0f921"
             ]
            ],
            "type": "histogram2d"
           }
          ],
          "histogram2dcontour": [
           {
            "colorbar": {
             "outlinewidth": 0,
             "ticks": ""
            },
            "colorscale": [
             [
              0,
              "#0d0887"
             ],
             [
              0.1111111111111111,
              "#46039f"
             ],
             [
              0.2222222222222222,
              "#7201a8"
             ],
             [
              0.3333333333333333,
              "#9c179e"
             ],
             [
              0.4444444444444444,
              "#bd3786"
             ],
             [
              0.5555555555555556,
              "#d8576b"
             ],
             [
              0.6666666666666666,
              "#ed7953"
             ],
             [
              0.7777777777777778,
              "#fb9f3a"
             ],
             [
              0.8888888888888888,
              "#fdca26"
             ],
             [
              1,
              "#f0f921"
             ]
            ],
            "type": "histogram2dcontour"
           }
          ],
          "mesh3d": [
           {
            "colorbar": {
             "outlinewidth": 0,
             "ticks": ""
            },
            "type": "mesh3d"
           }
          ],
          "parcoords": [
           {
            "line": {
             "colorbar": {
              "outlinewidth": 0,
              "ticks": ""
             }
            },
            "type": "parcoords"
           }
          ],
          "pie": [
           {
            "automargin": true,
            "type": "pie"
           }
          ],
          "scatter": [
           {
            "fillpattern": {
             "fillmode": "overlay",
             "size": 10,
             "solidity": 0.2
            },
            "type": "scatter"
           }
          ],
          "scatter3d": [
           {
            "line": {
             "colorbar": {
              "outlinewidth": 0,
              "ticks": ""
             }
            },
            "marker": {
             "colorbar": {
              "outlinewidth": 0,
              "ticks": ""
             }
            },
            "type": "scatter3d"
           }
          ],
          "scattercarpet": [
           {
            "marker": {
             "colorbar": {
              "outlinewidth": 0,
              "ticks": ""
             }
            },
            "type": "scattercarpet"
           }
          ],
          "scattergeo": [
           {
            "marker": {
             "colorbar": {
              "outlinewidth": 0,
              "ticks": ""
             }
            },
            "type": "scattergeo"
           }
          ],
          "scattergl": [
           {
            "marker": {
             "colorbar": {
              "outlinewidth": 0,
              "ticks": ""
             }
            },
            "type": "scattergl"
           }
          ],
          "scattermapbox": [
           {
            "marker": {
             "colorbar": {
              "outlinewidth": 0,
              "ticks": ""
             }
            },
            "type": "scattermapbox"
           }
          ],
          "scatterpolar": [
           {
            "marker": {
             "colorbar": {
              "outlinewidth": 0,
              "ticks": ""
             }
            },
            "type": "scatterpolar"
           }
          ],
          "scatterpolargl": [
           {
            "marker": {
             "colorbar": {
              "outlinewidth": 0,
              "ticks": ""
             }
            },
            "type": "scatterpolargl"
           }
          ],
          "scatterternary": [
           {
            "marker": {
             "colorbar": {
              "outlinewidth": 0,
              "ticks": ""
             }
            },
            "type": "scatterternary"
           }
          ],
          "surface": [
           {
            "colorbar": {
             "outlinewidth": 0,
             "ticks": ""
            },
            "colorscale": [
             [
              0,
              "#0d0887"
             ],
             [
              0.1111111111111111,
              "#46039f"
             ],
             [
              0.2222222222222222,
              "#7201a8"
             ],
             [
              0.3333333333333333,
              "#9c179e"
             ],
             [
              0.4444444444444444,
              "#bd3786"
             ],
             [
              0.5555555555555556,
              "#d8576b"
             ],
             [
              0.6666666666666666,
              "#ed7953"
             ],
             [
              0.7777777777777778,
              "#fb9f3a"
             ],
             [
              0.8888888888888888,
              "#fdca26"
             ],
             [
              1,
              "#f0f921"
             ]
            ],
            "type": "surface"
           }
          ],
          "table": [
           {
            "cells": {
             "fill": {
              "color": "#EBF0F8"
             },
             "line": {
              "color": "white"
             }
            },
            "header": {
             "fill": {
              "color": "#C8D4E3"
             },
             "line": {
              "color": "white"
             }
            },
            "type": "table"
           }
          ]
         },
         "layout": {
          "annotationdefaults": {
           "arrowcolor": "#2a3f5f",
           "arrowhead": 0,
           "arrowwidth": 1
          },
          "autotypenumbers": "strict",
          "coloraxis": {
           "colorbar": {
            "outlinewidth": 0,
            "ticks": ""
           }
          },
          "colorscale": {
           "diverging": [
            [
             0,
             "#8e0152"
            ],
            [
             0.1,
             "#c51b7d"
            ],
            [
             0.2,
             "#de77ae"
            ],
            [
             0.3,
             "#f1b6da"
            ],
            [
             0.4,
             "#fde0ef"
            ],
            [
             0.5,
             "#f7f7f7"
            ],
            [
             0.6,
             "#e6f5d0"
            ],
            [
             0.7,
             "#b8e186"
            ],
            [
             0.8,
             "#7fbc41"
            ],
            [
             0.9,
             "#4d9221"
            ],
            [
             1,
             "#276419"
            ]
           ],
           "sequential": [
            [
             0,
             "#0d0887"
            ],
            [
             0.1111111111111111,
             "#46039f"
            ],
            [
             0.2222222222222222,
             "#7201a8"
            ],
            [
             0.3333333333333333,
             "#9c179e"
            ],
            [
             0.4444444444444444,
             "#bd3786"
            ],
            [
             0.5555555555555556,
             "#d8576b"
            ],
            [
             0.6666666666666666,
             "#ed7953"
            ],
            [
             0.7777777777777778,
             "#fb9f3a"
            ],
            [
             0.8888888888888888,
             "#fdca26"
            ],
            [
             1,
             "#f0f921"
            ]
           ],
           "sequentialminus": [
            [
             0,
             "#0d0887"
            ],
            [
             0.1111111111111111,
             "#46039f"
            ],
            [
             0.2222222222222222,
             "#7201a8"
            ],
            [
             0.3333333333333333,
             "#9c179e"
            ],
            [
             0.4444444444444444,
             "#bd3786"
            ],
            [
             0.5555555555555556,
             "#d8576b"
            ],
            [
             0.6666666666666666,
             "#ed7953"
            ],
            [
             0.7777777777777778,
             "#fb9f3a"
            ],
            [
             0.8888888888888888,
             "#fdca26"
            ],
            [
             1,
             "#f0f921"
            ]
           ]
          },
          "colorway": [
           "#636efa",
           "#EF553B",
           "#00cc96",
           "#ab63fa",
           "#FFA15A",
           "#19d3f3",
           "#FF6692",
           "#B6E880",
           "#FF97FF",
           "#FECB52"
          ],
          "font": {
           "color": "#2a3f5f"
          },
          "geo": {
           "bgcolor": "white",
           "lakecolor": "white",
           "landcolor": "#E5ECF6",
           "showlakes": true,
           "showland": true,
           "subunitcolor": "white"
          },
          "hoverlabel": {
           "align": "left"
          },
          "hovermode": "closest",
          "mapbox": {
           "style": "light"
          },
          "paper_bgcolor": "white",
          "plot_bgcolor": "#E5ECF6",
          "polar": {
           "angularaxis": {
            "gridcolor": "white",
            "linecolor": "white",
            "ticks": ""
           },
           "bgcolor": "#E5ECF6",
           "radialaxis": {
            "gridcolor": "white",
            "linecolor": "white",
            "ticks": ""
           }
          },
          "scene": {
           "xaxis": {
            "backgroundcolor": "#E5ECF6",
            "gridcolor": "white",
            "gridwidth": 2,
            "linecolor": "white",
            "showbackground": true,
            "ticks": "",
            "zerolinecolor": "white"
           },
           "yaxis": {
            "backgroundcolor": "#E5ECF6",
            "gridcolor": "white",
            "gridwidth": 2,
            "linecolor": "white",
            "showbackground": true,
            "ticks": "",
            "zerolinecolor": "white"
           },
           "zaxis": {
            "backgroundcolor": "#E5ECF6",
            "gridcolor": "white",
            "gridwidth": 2,
            "linecolor": "white",
            "showbackground": true,
            "ticks": "",
            "zerolinecolor": "white"
           }
          },
          "shapedefaults": {
           "line": {
            "color": "#2a3f5f"
           }
          },
          "ternary": {
           "aaxis": {
            "gridcolor": "white",
            "linecolor": "white",
            "ticks": ""
           },
           "baxis": {
            "gridcolor": "white",
            "linecolor": "white",
            "ticks": ""
           },
           "bgcolor": "#E5ECF6",
           "caxis": {
            "gridcolor": "white",
            "linecolor": "white",
            "ticks": ""
           }
          },
          "title": {
           "x": 0.05
          },
          "xaxis": {
           "automargin": true,
           "gridcolor": "white",
           "linecolor": "white",
           "ticks": "",
           "title": {
            "standoff": 15
           },
           "zerolinecolor": "white",
           "zerolinewidth": 2
          },
          "yaxis": {
           "automargin": true,
           "gridcolor": "white",
           "linecolor": "white",
           "ticks": "",
           "title": {
            "standoff": 15
           },
           "zerolinecolor": "white",
           "zerolinewidth": 2
          }
         }
        },
        "title": {
         "text": "No BAP",
         "x": 0.5,
         "xanchor": "center",
         "y": 0.9,
         "yanchor": "top"
        }
       }
      }
     },
     "metadata": {},
     "output_type": "display_data"
    },
    {
     "data": {
      "application/vnd.plotly.v1+json": {
       "config": {
        "plotlyServerURL": "https://plot.ly"
       },
       "data": [
        {
         "hovertemplate": "<b>%{hovertext}</b><br><br>batch size=%{x}<br>learning rate=%{y}<br>number of hidden units=%{z}<br>accuracy=%{marker.color}<extra></extra>",
         "hovertext": [
          1,
          2,
          3,
          4,
          5,
          6,
          7,
          8,
          9
         ],
         "legendgroup": "",
         "marker": {
          "color": [
           0.67041015625,
           0.690576171875,
           0.6704963235294114,
           0.6908088235294114,
           0.7260569852941171,
           0.7092830882352936,
           0.7063392857142854,
           0.6148437499999994,
           0.6522058823529407
          ],
          "coloraxis": "coloraxis",
          "size": 6,
          "symbol": "circle"
         },
         "mode": "markers",
         "name": "",
         "scene": "scene",
         "showlegend": false,
         "type": "scatter3d",
         "x": [
          256,
          256,
          128,
          128,
          128,
          128,
          64,
          128,
          128
         ],
         "y": [
          0.002,
          0.001,
          0.002,
          0.001,
          0.001,
          0.001,
          0.001,
          0.001,
          0.001
         ],
         "z": [
          200,
          200,
          200,
          200,
          300,
          400,
          300,
          50,
          150
         ]
        }
       ],
       "layout": {
        "coloraxis": {
         "colorbar": {
          "title": {
           "text": "accuracy"
          }
         },
         "colorscale": [
          [
           0,
           "#0d0887"
          ],
          [
           0.1111111111111111,
           "#46039f"
          ],
          [
           0.2222222222222222,
           "#7201a8"
          ],
          [
           0.3333333333333333,
           "#9c179e"
          ],
          [
           0.4444444444444444,
           "#bd3786"
          ],
          [
           0.5555555555555556,
           "#d8576b"
          ],
          [
           0.6666666666666666,
           "#ed7953"
          ],
          [
           0.7777777777777778,
           "#fb9f3a"
          ],
          [
           0.8888888888888888,
           "#fdca26"
          ],
          [
           1,
           "#f0f921"
          ]
         ]
        },
        "legend": {
         "tracegroupgap": 0
        },
        "scene": {
         "domain": {
          "x": [
           0,
           1
          ],
          "y": [
           0,
           1
          ]
         },
         "xaxis": {
          "range": [
           32,
           288
          ],
          "title": {
           "text": "batch size"
          }
         },
         "yaxis": {
          "range": [
           0.0005,
           0.0025
          ],
          "title": {
           "text": "learning rate"
          }
         },
         "zaxis": {
          "range": [
           25,
           425
          ],
          "title": {
           "text": "number of hidden units"
          }
         }
        },
        "template": {
         "data": {
          "bar": [
           {
            "error_x": {
             "color": "#2a3f5f"
            },
            "error_y": {
             "color": "#2a3f5f"
            },
            "marker": {
             "line": {
              "color": "#E5ECF6",
              "width": 0.5
             },
             "pattern": {
              "fillmode": "overlay",
              "size": 10,
              "solidity": 0.2
             }
            },
            "type": "bar"
           }
          ],
          "barpolar": [
           {
            "marker": {
             "line": {
              "color": "#E5ECF6",
              "width": 0.5
             },
             "pattern": {
              "fillmode": "overlay",
              "size": 10,
              "solidity": 0.2
             }
            },
            "type": "barpolar"
           }
          ],
          "carpet": [
           {
            "aaxis": {
             "endlinecolor": "#2a3f5f",
             "gridcolor": "white",
             "linecolor": "white",
             "minorgridcolor": "white",
             "startlinecolor": "#2a3f5f"
            },
            "baxis": {
             "endlinecolor": "#2a3f5f",
             "gridcolor": "white",
             "linecolor": "white",
             "minorgridcolor": "white",
             "startlinecolor": "#2a3f5f"
            },
            "type": "carpet"
           }
          ],
          "choropleth": [
           {
            "colorbar": {
             "outlinewidth": 0,
             "ticks": ""
            },
            "type": "choropleth"
           }
          ],
          "contour": [
           {
            "colorbar": {
             "outlinewidth": 0,
             "ticks": ""
            },
            "colorscale": [
             [
              0,
              "#0d0887"
             ],
             [
              0.1111111111111111,
              "#46039f"
             ],
             [
              0.2222222222222222,
              "#7201a8"
             ],
             [
              0.3333333333333333,
              "#9c179e"
             ],
             [
              0.4444444444444444,
              "#bd3786"
             ],
             [
              0.5555555555555556,
              "#d8576b"
             ],
             [
              0.6666666666666666,
              "#ed7953"
             ],
             [
              0.7777777777777778,
              "#fb9f3a"
             ],
             [
              0.8888888888888888,
              "#fdca26"
             ],
             [
              1,
              "#f0f921"
             ]
            ],
            "type": "contour"
           }
          ],
          "contourcarpet": [
           {
            "colorbar": {
             "outlinewidth": 0,
             "ticks": ""
            },
            "type": "contourcarpet"
           }
          ],
          "heatmap": [
           {
            "colorbar": {
             "outlinewidth": 0,
             "ticks": ""
            },
            "colorscale": [
             [
              0,
              "#0d0887"
             ],
             [
              0.1111111111111111,
              "#46039f"
             ],
             [
              0.2222222222222222,
              "#7201a8"
             ],
             [
              0.3333333333333333,
              "#9c179e"
             ],
             [
              0.4444444444444444,
              "#bd3786"
             ],
             [
              0.5555555555555556,
              "#d8576b"
             ],
             [
              0.6666666666666666,
              "#ed7953"
             ],
             [
              0.7777777777777778,
              "#fb9f3a"
             ],
             [
              0.8888888888888888,
              "#fdca26"
             ],
             [
              1,
              "#f0f921"
             ]
            ],
            "type": "heatmap"
           }
          ],
          "heatmapgl": [
           {
            "colorbar": {
             "outlinewidth": 0,
             "ticks": ""
            },
            "colorscale": [
             [
              0,
              "#0d0887"
             ],
             [
              0.1111111111111111,
              "#46039f"
             ],
             [
              0.2222222222222222,
              "#7201a8"
             ],
             [
              0.3333333333333333,
              "#9c179e"
             ],
             [
              0.4444444444444444,
              "#bd3786"
             ],
             [
              0.5555555555555556,
              "#d8576b"
             ],
             [
              0.6666666666666666,
              "#ed7953"
             ],
             [
              0.7777777777777778,
              "#fb9f3a"
             ],
             [
              0.8888888888888888,
              "#fdca26"
             ],
             [
              1,
              "#f0f921"
             ]
            ],
            "type": "heatmapgl"
           }
          ],
          "histogram": [
           {
            "marker": {
             "pattern": {
              "fillmode": "overlay",
              "size": 10,
              "solidity": 0.2
             }
            },
            "type": "histogram"
           }
          ],
          "histogram2d": [
           {
            "colorbar": {
             "outlinewidth": 0,
             "ticks": ""
            },
            "colorscale": [
             [
              0,
              "#0d0887"
             ],
             [
              0.1111111111111111,
              "#46039f"
             ],
             [
              0.2222222222222222,
              "#7201a8"
             ],
             [
              0.3333333333333333,
              "#9c179e"
             ],
             [
              0.4444444444444444,
              "#bd3786"
             ],
             [
              0.5555555555555556,
              "#d8576b"
             ],
             [
              0.6666666666666666,
              "#ed7953"
             ],
             [
              0.7777777777777778,
              "#fb9f3a"
             ],
             [
              0.8888888888888888,
              "#fdca26"
             ],
             [
              1,
              "#f0f921"
             ]
            ],
            "type": "histogram2d"
           }
          ],
          "histogram2dcontour": [
           {
            "colorbar": {
             "outlinewidth": 0,
             "ticks": ""
            },
            "colorscale": [
             [
              0,
              "#0d0887"
             ],
             [
              0.1111111111111111,
              "#46039f"
             ],
             [
              0.2222222222222222,
              "#7201a8"
             ],
             [
              0.3333333333333333,
              "#9c179e"
             ],
             [
              0.4444444444444444,
              "#bd3786"
             ],
             [
              0.5555555555555556,
              "#d8576b"
             ],
             [
              0.6666666666666666,
              "#ed7953"
             ],
             [
              0.7777777777777778,
              "#fb9f3a"
             ],
             [
              0.8888888888888888,
              "#fdca26"
             ],
             [
              1,
              "#f0f921"
             ]
            ],
            "type": "histogram2dcontour"
           }
          ],
          "mesh3d": [
           {
            "colorbar": {
             "outlinewidth": 0,
             "ticks": ""
            },
            "type": "mesh3d"
           }
          ],
          "parcoords": [
           {
            "line": {
             "colorbar": {
              "outlinewidth": 0,
              "ticks": ""
             }
            },
            "type": "parcoords"
           }
          ],
          "pie": [
           {
            "automargin": true,
            "type": "pie"
           }
          ],
          "scatter": [
           {
            "fillpattern": {
             "fillmode": "overlay",
             "size": 10,
             "solidity": 0.2
            },
            "type": "scatter"
           }
          ],
          "scatter3d": [
           {
            "line": {
             "colorbar": {
              "outlinewidth": 0,
              "ticks": ""
             }
            },
            "marker": {
             "colorbar": {
              "outlinewidth": 0,
              "ticks": ""
             }
            },
            "type": "scatter3d"
           }
          ],
          "scattercarpet": [
           {
            "marker": {
             "colorbar": {
              "outlinewidth": 0,
              "ticks": ""
             }
            },
            "type": "scattercarpet"
           }
          ],
          "scattergeo": [
           {
            "marker": {
             "colorbar": {
              "outlinewidth": 0,
              "ticks": ""
             }
            },
            "type": "scattergeo"
           }
          ],
          "scattergl": [
           {
            "marker": {
             "colorbar": {
              "outlinewidth": 0,
              "ticks": ""
             }
            },
            "type": "scattergl"
           }
          ],
          "scattermapbox": [
           {
            "marker": {
             "colorbar": {
              "outlinewidth": 0,
              "ticks": ""
             }
            },
            "type": "scattermapbox"
           }
          ],
          "scatterpolar": [
           {
            "marker": {
             "colorbar": {
              "outlinewidth": 0,
              "ticks": ""
             }
            },
            "type": "scatterpolar"
           }
          ],
          "scatterpolargl": [
           {
            "marker": {
             "colorbar": {
              "outlinewidth": 0,
              "ticks": ""
             }
            },
            "type": "scatterpolargl"
           }
          ],
          "scatterternary": [
           {
            "marker": {
             "colorbar": {
              "outlinewidth": 0,
              "ticks": ""
             }
            },
            "type": "scatterternary"
           }
          ],
          "surface": [
           {
            "colorbar": {
             "outlinewidth": 0,
             "ticks": ""
            },
            "colorscale": [
             [
              0,
              "#0d0887"
             ],
             [
              0.1111111111111111,
              "#46039f"
             ],
             [
              0.2222222222222222,
              "#7201a8"
             ],
             [
              0.3333333333333333,
              "#9c179e"
             ],
             [
              0.4444444444444444,
              "#bd3786"
             ],
             [
              0.5555555555555556,
              "#d8576b"
             ],
             [
              0.6666666666666666,
              "#ed7953"
             ],
             [
              0.7777777777777778,
              "#fb9f3a"
             ],
             [
              0.8888888888888888,
              "#fdca26"
             ],
             [
              1,
              "#f0f921"
             ]
            ],
            "type": "surface"
           }
          ],
          "table": [
           {
            "cells": {
             "fill": {
              "color": "#EBF0F8"
             },
             "line": {
              "color": "white"
             }
            },
            "header": {
             "fill": {
              "color": "#C8D4E3"
             },
             "line": {
              "color": "white"
             }
            },
            "type": "table"
           }
          ]
         },
         "layout": {
          "annotationdefaults": {
           "arrowcolor": "#2a3f5f",
           "arrowhead": 0,
           "arrowwidth": 1
          },
          "autotypenumbers": "strict",
          "coloraxis": {
           "colorbar": {
            "outlinewidth": 0,
            "ticks": ""
           }
          },
          "colorscale": {
           "diverging": [
            [
             0,
             "#8e0152"
            ],
            [
             0.1,
             "#c51b7d"
            ],
            [
             0.2,
             "#de77ae"
            ],
            [
             0.3,
             "#f1b6da"
            ],
            [
             0.4,
             "#fde0ef"
            ],
            [
             0.5,
             "#f7f7f7"
            ],
            [
             0.6,
             "#e6f5d0"
            ],
            [
             0.7,
             "#b8e186"
            ],
            [
             0.8,
             "#7fbc41"
            ],
            [
             0.9,
             "#4d9221"
            ],
            [
             1,
             "#276419"
            ]
           ],
           "sequential": [
            [
             0,
             "#0d0887"
            ],
            [
             0.1111111111111111,
             "#46039f"
            ],
            [
             0.2222222222222222,
             "#7201a8"
            ],
            [
             0.3333333333333333,
             "#9c179e"
            ],
            [
             0.4444444444444444,
             "#bd3786"
            ],
            [
             0.5555555555555556,
             "#d8576b"
            ],
            [
             0.6666666666666666,
             "#ed7953"
            ],
            [
             0.7777777777777778,
             "#fb9f3a"
            ],
            [
             0.8888888888888888,
             "#fdca26"
            ],
            [
             1,
             "#f0f921"
            ]
           ],
           "sequentialminus": [
            [
             0,
             "#0d0887"
            ],
            [
             0.1111111111111111,
             "#46039f"
            ],
            [
             0.2222222222222222,
             "#7201a8"
            ],
            [
             0.3333333333333333,
             "#9c179e"
            ],
            [
             0.4444444444444444,
             "#bd3786"
            ],
            [
             0.5555555555555556,
             "#d8576b"
            ],
            [
             0.6666666666666666,
             "#ed7953"
            ],
            [
             0.7777777777777778,
             "#fb9f3a"
            ],
            [
             0.8888888888888888,
             "#fdca26"
            ],
            [
             1,
             "#f0f921"
            ]
           ]
          },
          "colorway": [
           "#636efa",
           "#EF553B",
           "#00cc96",
           "#ab63fa",
           "#FFA15A",
           "#19d3f3",
           "#FF6692",
           "#B6E880",
           "#FF97FF",
           "#FECB52"
          ],
          "font": {
           "color": "#2a3f5f"
          },
          "geo": {
           "bgcolor": "white",
           "lakecolor": "white",
           "landcolor": "#E5ECF6",
           "showlakes": true,
           "showland": true,
           "subunitcolor": "white"
          },
          "hoverlabel": {
           "align": "left"
          },
          "hovermode": "closest",
          "mapbox": {
           "style": "light"
          },
          "paper_bgcolor": "white",
          "plot_bgcolor": "#E5ECF6",
          "polar": {
           "angularaxis": {
            "gridcolor": "white",
            "linecolor": "white",
            "ticks": ""
           },
           "bgcolor": "#E5ECF6",
           "radialaxis": {
            "gridcolor": "white",
            "linecolor": "white",
            "ticks": ""
           }
          },
          "scene": {
           "xaxis": {
            "backgroundcolor": "#E5ECF6",
            "gridcolor": "white",
            "gridwidth": 2,
            "linecolor": "white",
            "showbackground": true,
            "ticks": "",
            "zerolinecolor": "white"
           },
           "yaxis": {
            "backgroundcolor": "#E5ECF6",
            "gridcolor": "white",
            "gridwidth": 2,
            "linecolor": "white",
            "showbackground": true,
            "ticks": "",
            "zerolinecolor": "white"
           },
           "zaxis": {
            "backgroundcolor": "#E5ECF6",
            "gridcolor": "white",
            "gridwidth": 2,
            "linecolor": "white",
            "showbackground": true,
            "ticks": "",
            "zerolinecolor": "white"
           }
          },
          "shapedefaults": {
           "line": {
            "color": "#2a3f5f"
           }
          },
          "ternary": {
           "aaxis": {
            "gridcolor": "white",
            "linecolor": "white",
            "ticks": ""
           },
           "baxis": {
            "gridcolor": "white",
            "linecolor": "white",
            "ticks": ""
           },
           "bgcolor": "#E5ECF6",
           "caxis": {
            "gridcolor": "white",
            "linecolor": "white",
            "ticks": ""
           }
          },
          "title": {
           "x": 0.05
          },
          "xaxis": {
           "automargin": true,
           "gridcolor": "white",
           "linecolor": "white",
           "ticks": "",
           "title": {
            "standoff": 15
           },
           "zerolinecolor": "white",
           "zerolinewidth": 2
          },
          "yaxis": {
           "automargin": true,
           "gridcolor": "white",
           "linecolor": "white",
           "ticks": "",
           "title": {
            "standoff": 15
           },
           "zerolinecolor": "white",
           "zerolinewidth": 2
          }
         }
        },
        "title": {
         "text": "BAP",
         "x": 0.5,
         "xanchor": "center",
         "y": 0.9,
         "yanchor": "top"
        }
       }
      }
     },
     "metadata": {},
     "output_type": "display_data"
    }
   ],
   "source": [
    "import plotly.express as px\n",
    "\n",
    "# Plot every model:\n",
    "for model_name in model_names:\n",
    "    fig = px.scatter_3d(data_frame=hyper_params_for_models[hyper_params_for_models['model_name'] == model_name], x='batch size', y='learning rate', z='number of hidden units',\n",
    "                    color='accuracy', range_x=range_x, range_y=range_y, range_z=range_z,\n",
    "                    title = model_name, hover_name='run_id')\n",
    "\n",
    "    fig.update_traces(marker_size = 6)\n",
    "    fig.update_layout(\n",
    "        title={\n",
    "            'text': model_name,\n",
    "            'y':0.9,\n",
    "            'x':0.5,\n",
    "            'xanchor': 'center',\n",
    "            'yanchor': 'top'\n",
    "            })\n",
    "    fig.show()\n"
   ]
  },
  {
   "cell_type": "markdown",
   "metadata": {},
   "source": [
    "## Dimension reduction where batch size (=128) and learning rate (=1e-3) are fixed"
   ]
  },
  {
   "cell_type": "code",
   "execution_count": 94,
   "metadata": {},
   "outputs": [],
   "source": [
    "searches = ['run_4_22_08_22', \n",
    "            'run_5_24_08_22', \n",
    "            'run_6_26_08_22', \n",
    "            'run_8_30_08_22',\n",
    "            'run_9_01_09_22']"
   ]
  },
  {
   "cell_type": "code",
   "execution_count": 95,
   "metadata": {},
   "outputs": [
    {
     "data": {
      "text/html": [
       "<div>\n",
       "<style scoped>\n",
       "    .dataframe tbody tr th:only-of-type {\n",
       "        vertical-align: middle;\n",
       "    }\n",
       "\n",
       "    .dataframe tbody tr th {\n",
       "        vertical-align: top;\n",
       "    }\n",
       "\n",
       "    .dataframe thead th {\n",
       "        text-align: right;\n",
       "    }\n",
       "</style>\n",
       "<table border=\"1\" class=\"dataframe\">\n",
       "  <thead>\n",
       "    <tr style=\"text-align: right;\">\n",
       "      <th></th>\n",
       "      <th>batch size</th>\n",
       "      <th>learning rate</th>\n",
       "      <th>number of hidden units</th>\n",
       "    </tr>\n",
       "  </thead>\n",
       "  <tbody>\n",
       "    <tr>\n",
       "      <th>0</th>\n",
       "      <td>128</td>\n",
       "      <td>0.001</td>\n",
       "      <td>200</td>\n",
       "    </tr>\n",
       "    <tr>\n",
       "      <th>1</th>\n",
       "      <td>128</td>\n",
       "      <td>0.001</td>\n",
       "      <td>300</td>\n",
       "    </tr>\n",
       "    <tr>\n",
       "      <th>2</th>\n",
       "      <td>128</td>\n",
       "      <td>0.001</td>\n",
       "      <td>400</td>\n",
       "    </tr>\n",
       "    <tr>\n",
       "      <th>3</th>\n",
       "      <td>128</td>\n",
       "      <td>0.001</td>\n",
       "      <td>50</td>\n",
       "    </tr>\n",
       "    <tr>\n",
       "      <th>4</th>\n",
       "      <td>128</td>\n",
       "      <td>0.001</td>\n",
       "      <td>150</td>\n",
       "    </tr>\n",
       "  </tbody>\n",
       "</table>\n",
       "</div>"
      ],
      "text/plain": [
       "   batch size  learning rate  number of hidden units\n",
       "0         128          0.001                     200\n",
       "1         128          0.001                     300\n",
       "2         128          0.001                     400\n",
       "3         128          0.001                      50\n",
       "4         128          0.001                     150"
      ]
     },
     "execution_count": 95,
     "metadata": {},
     "output_type": "execute_result"
    }
   ],
   "source": [
    "hyper_params_df = pd.DataFrame(hyper_params)\n",
    "hyper_params_df = hyper_params_df[hyper_params_df['batch size'] == 128]\n",
    "hyper_params_df = hyper_params_df[hyper_params_df['learning rate'] == 1e-3]\n",
    "hyper_params_df.reset_index(drop=True, inplace=True)\n",
    "#hyper_params['run_id'] = searches\n",
    "hyper_params_df"
   ]
  },
  {
   "cell_type": "code",
   "execution_count": 96,
   "metadata": {},
   "outputs": [
    {
     "data": {
      "text/html": [
       "<div>\n",
       "<style scoped>\n",
       "    .dataframe tbody tr th:only-of-type {\n",
       "        vertical-align: middle;\n",
       "    }\n",
       "\n",
       "    .dataframe tbody tr th {\n",
       "        vertical-align: top;\n",
       "    }\n",
       "\n",
       "    .dataframe thead th {\n",
       "        text-align: right;\n",
       "    }\n",
       "</style>\n",
       "<table border=\"1\" class=\"dataframe\">\n",
       "  <thead>\n",
       "    <tr style=\"text-align: right;\">\n",
       "      <th></th>\n",
       "      <th>batch size</th>\n",
       "      <th>learning rate</th>\n",
       "      <th>number of hidden units</th>\n",
       "    </tr>\n",
       "  </thead>\n",
       "  <tbody>\n",
       "    <tr>\n",
       "      <th>0</th>\n",
       "      <td>128</td>\n",
       "      <td>0.001</td>\n",
       "      <td>200</td>\n",
       "    </tr>\n",
       "    <tr>\n",
       "      <th>1</th>\n",
       "      <td>128</td>\n",
       "      <td>0.001</td>\n",
       "      <td>200</td>\n",
       "    </tr>\n",
       "    <tr>\n",
       "      <th>2</th>\n",
       "      <td>128</td>\n",
       "      <td>0.001</td>\n",
       "      <td>200</td>\n",
       "    </tr>\n",
       "    <tr>\n",
       "      <th>3</th>\n",
       "      <td>128</td>\n",
       "      <td>0.001</td>\n",
       "      <td>200</td>\n",
       "    </tr>\n",
       "    <tr>\n",
       "      <th>4</th>\n",
       "      <td>128</td>\n",
       "      <td>0.001</td>\n",
       "      <td>200</td>\n",
       "    </tr>\n",
       "    <tr>\n",
       "      <th>...</th>\n",
       "      <td>...</td>\n",
       "      <td>...</td>\n",
       "      <td>...</td>\n",
       "    </tr>\n",
       "    <tr>\n",
       "      <th>145</th>\n",
       "      <td>128</td>\n",
       "      <td>0.001</td>\n",
       "      <td>150</td>\n",
       "    </tr>\n",
       "    <tr>\n",
       "      <th>146</th>\n",
       "      <td>128</td>\n",
       "      <td>0.001</td>\n",
       "      <td>150</td>\n",
       "    </tr>\n",
       "    <tr>\n",
       "      <th>147</th>\n",
       "      <td>128</td>\n",
       "      <td>0.001</td>\n",
       "      <td>150</td>\n",
       "    </tr>\n",
       "    <tr>\n",
       "      <th>148</th>\n",
       "      <td>128</td>\n",
       "      <td>0.001</td>\n",
       "      <td>150</td>\n",
       "    </tr>\n",
       "    <tr>\n",
       "      <th>149</th>\n",
       "      <td>128</td>\n",
       "      <td>0.001</td>\n",
       "      <td>150</td>\n",
       "    </tr>\n",
       "  </tbody>\n",
       "</table>\n",
       "<p>150 rows × 3 columns</p>\n",
       "</div>"
      ],
      "text/plain": [
       "     batch size  learning rate  number of hidden units\n",
       "0           128          0.001                     200\n",
       "1           128          0.001                     200\n",
       "2           128          0.001                     200\n",
       "3           128          0.001                     200\n",
       "4           128          0.001                     200\n",
       "..          ...            ...                     ...\n",
       "145         128          0.001                     150\n",
       "146         128          0.001                     150\n",
       "147         128          0.001                     150\n",
       "148         128          0.001                     150\n",
       "149         128          0.001                     150\n",
       "\n",
       "[150 rows x 3 columns]"
      ]
     },
     "execution_count": 96,
     "metadata": {},
     "output_type": "execute_result"
    }
   ],
   "source": [
    "model_names = data.model_name.unique()\n",
    "\n",
    "hyper_params_repeated_with_index = pd.concat([hyper_params_df]*number_of_seeds)\n",
    "hyper_params_repeated_with_index = hyper_params_repeated_with_index.sort_index()\n",
    "hyper_params_repeated_with_index = pd.concat([hyper_params_repeated_with_index]*len(model_names))\n",
    "hyper_params_repeated_with_index.reset_index(drop=True, inplace=True)\n",
    "hyper_params_repeated_with_index"
   ]
  },
  {
   "cell_type": "code",
   "execution_count": 97,
   "metadata": {},
   "outputs": [
    {
     "data": {
      "text/html": [
       "<div>\n",
       "<style scoped>\n",
       "    .dataframe tbody tr th:only-of-type {\n",
       "        vertical-align: middle;\n",
       "    }\n",
       "\n",
       "    .dataframe tbody tr th {\n",
       "        vertical-align: top;\n",
       "    }\n",
       "\n",
       "    .dataframe thead th {\n",
       "        text-align: right;\n",
       "    }\n",
       "</style>\n",
       "<table border=\"1\" class=\"dataframe\">\n",
       "  <thead>\n",
       "    <tr style=\"text-align: right;\">\n",
       "      <th></th>\n",
       "      <th>model_name</th>\n",
       "      <th>seed</th>\n",
       "      <th>accuracy</th>\n",
       "      <th>run_id</th>\n",
       "    </tr>\n",
       "  </thead>\n",
       "  <tbody>\n",
       "    <tr>\n",
       "      <th>0</th>\n",
       "      <td>One compartment</td>\n",
       "      <td>0</td>\n",
       "      <td>0.543658</td>\n",
       "      <td>1</td>\n",
       "    </tr>\n",
       "    <tr>\n",
       "      <th>1</th>\n",
       "      <td>One compartment</td>\n",
       "      <td>1</td>\n",
       "      <td>0.571691</td>\n",
       "      <td>1</td>\n",
       "    </tr>\n",
       "    <tr>\n",
       "      <th>2</th>\n",
       "      <td>One compartment</td>\n",
       "      <td>2</td>\n",
       "      <td>0.608915</td>\n",
       "      <td>1</td>\n",
       "    </tr>\n",
       "    <tr>\n",
       "      <th>3</th>\n",
       "      <td>One compartment</td>\n",
       "      <td>3</td>\n",
       "      <td>0.625460</td>\n",
       "      <td>1</td>\n",
       "    </tr>\n",
       "    <tr>\n",
       "      <th>4</th>\n",
       "      <td>One compartment</td>\n",
       "      <td>4</td>\n",
       "      <td>0.603401</td>\n",
       "      <td>1</td>\n",
       "    </tr>\n",
       "    <tr>\n",
       "      <th>...</th>\n",
       "      <td>...</td>\n",
       "      <td>...</td>\n",
       "      <td>...</td>\n",
       "      <td>...</td>\n",
       "    </tr>\n",
       "    <tr>\n",
       "      <th>45</th>\n",
       "      <td>BAP</td>\n",
       "      <td>5</td>\n",
       "      <td>0.620404</td>\n",
       "      <td>5</td>\n",
       "    </tr>\n",
       "    <tr>\n",
       "      <th>46</th>\n",
       "      <td>BAP</td>\n",
       "      <td>6</td>\n",
       "      <td>0.664062</td>\n",
       "      <td>5</td>\n",
       "    </tr>\n",
       "    <tr>\n",
       "      <th>47</th>\n",
       "      <td>BAP</td>\n",
       "      <td>7</td>\n",
       "      <td>0.673254</td>\n",
       "      <td>5</td>\n",
       "    </tr>\n",
       "    <tr>\n",
       "      <th>48</th>\n",
       "      <td>BAP</td>\n",
       "      <td>8</td>\n",
       "      <td>0.637868</td>\n",
       "      <td>5</td>\n",
       "    </tr>\n",
       "    <tr>\n",
       "      <th>49</th>\n",
       "      <td>BAP</td>\n",
       "      <td>9</td>\n",
       "      <td>0.663143</td>\n",
       "      <td>5</td>\n",
       "    </tr>\n",
       "  </tbody>\n",
       "</table>\n",
       "<p>150 rows × 4 columns</p>\n",
       "</div>"
      ],
      "text/plain": [
       "         model_name  seed  accuracy  run_id\n",
       "0   One compartment     0  0.543658       1\n",
       "1   One compartment     1  0.571691       1\n",
       "2   One compartment     2  0.608915       1\n",
       "3   One compartment     3  0.625460       1\n",
       "4   One compartment     4  0.603401       1\n",
       "..              ...   ...       ...     ...\n",
       "45              BAP     5  0.620404       5\n",
       "46              BAP     6  0.664062       5\n",
       "47              BAP     7  0.673254       5\n",
       "48              BAP     8  0.637868       5\n",
       "49              BAP     9  0.663143       5\n",
       "\n",
       "[150 rows x 4 columns]"
      ]
     },
     "execution_count": 97,
     "metadata": {},
     "output_type": "execute_result"
    }
   ],
   "source": [
    "data_for_hidden_dim_analysis = get_hyper_param_dict_dataframe(hyper_params_df.reset_index(drop=True, inplace=True), searches, keep_seeds=True)\n",
    "#data[data['model_name'] == 'BAP']\n",
    "data_for_hidden_dim_analysis"
   ]
  },
  {
   "cell_type": "code",
   "execution_count": 98,
   "metadata": {},
   "outputs": [
    {
     "data": {
      "text/html": [
       "<div>\n",
       "<style scoped>\n",
       "    .dataframe tbody tr th:only-of-type {\n",
       "        vertical-align: middle;\n",
       "    }\n",
       "\n",
       "    .dataframe tbody tr th {\n",
       "        vertical-align: top;\n",
       "    }\n",
       "\n",
       "    .dataframe thead th {\n",
       "        text-align: right;\n",
       "    }\n",
       "</style>\n",
       "<table border=\"1\" class=\"dataframe\">\n",
       "  <thead>\n",
       "    <tr style=\"text-align: right;\">\n",
       "      <th></th>\n",
       "      <th>model_name</th>\n",
       "      <th>seed</th>\n",
       "      <th>accuracy</th>\n",
       "      <th>run_id</th>\n",
       "    </tr>\n",
       "  </thead>\n",
       "  <tbody>\n",
       "    <tr>\n",
       "      <th>0</th>\n",
       "      <td>One compartment</td>\n",
       "      <td>0</td>\n",
       "      <td>0.543658</td>\n",
       "      <td>1</td>\n",
       "    </tr>\n",
       "    <tr>\n",
       "      <th>1</th>\n",
       "      <td>One compartment</td>\n",
       "      <td>1</td>\n",
       "      <td>0.571691</td>\n",
       "      <td>1</td>\n",
       "    </tr>\n",
       "    <tr>\n",
       "      <th>2</th>\n",
       "      <td>One compartment</td>\n",
       "      <td>2</td>\n",
       "      <td>0.608915</td>\n",
       "      <td>1</td>\n",
       "    </tr>\n",
       "    <tr>\n",
       "      <th>3</th>\n",
       "      <td>One compartment</td>\n",
       "      <td>3</td>\n",
       "      <td>0.625460</td>\n",
       "      <td>1</td>\n",
       "    </tr>\n",
       "    <tr>\n",
       "      <th>4</th>\n",
       "      <td>One compartment</td>\n",
       "      <td>4</td>\n",
       "      <td>0.603401</td>\n",
       "      <td>1</td>\n",
       "    </tr>\n",
       "    <tr>\n",
       "      <th>...</th>\n",
       "      <td>...</td>\n",
       "      <td>...</td>\n",
       "      <td>...</td>\n",
       "      <td>...</td>\n",
       "    </tr>\n",
       "    <tr>\n",
       "      <th>145</th>\n",
       "      <td>BAP</td>\n",
       "      <td>5</td>\n",
       "      <td>0.620404</td>\n",
       "      <td>5</td>\n",
       "    </tr>\n",
       "    <tr>\n",
       "      <th>146</th>\n",
       "      <td>BAP</td>\n",
       "      <td>6</td>\n",
       "      <td>0.664062</td>\n",
       "      <td>5</td>\n",
       "    </tr>\n",
       "    <tr>\n",
       "      <th>147</th>\n",
       "      <td>BAP</td>\n",
       "      <td>7</td>\n",
       "      <td>0.673254</td>\n",
       "      <td>5</td>\n",
       "    </tr>\n",
       "    <tr>\n",
       "      <th>148</th>\n",
       "      <td>BAP</td>\n",
       "      <td>8</td>\n",
       "      <td>0.637868</td>\n",
       "      <td>5</td>\n",
       "    </tr>\n",
       "    <tr>\n",
       "      <th>149</th>\n",
       "      <td>BAP</td>\n",
       "      <td>9</td>\n",
       "      <td>0.663143</td>\n",
       "      <td>5</td>\n",
       "    </tr>\n",
       "  </tbody>\n",
       "</table>\n",
       "<p>150 rows × 4 columns</p>\n",
       "</div>"
      ],
      "text/plain": [
       "          model_name  seed  accuracy  run_id\n",
       "0    One compartment     0  0.543658       1\n",
       "1    One compartment     1  0.571691       1\n",
       "2    One compartment     2  0.608915       1\n",
       "3    One compartment     3  0.625460       1\n",
       "4    One compartment     4  0.603401       1\n",
       "..               ...   ...       ...     ...\n",
       "145              BAP     5  0.620404       5\n",
       "146              BAP     6  0.664062       5\n",
       "147              BAP     7  0.673254       5\n",
       "148              BAP     8  0.637868       5\n",
       "149              BAP     9  0.663143       5\n",
       "\n",
       "[150 rows x 4 columns]"
      ]
     },
     "execution_count": 98,
     "metadata": {},
     "output_type": "execute_result"
    }
   ],
   "source": [
    "#data = data.drop(columns=['run_id'])\n",
    "data_for_hidden_dim_analysis.reset_index(drop=True, inplace=True)\n",
    "\n",
    "data_for_hidden_dim_analysis\n",
    "# data['No BAP'] = pd.concat([data['No BAP'], hyper_params_repeated_with_index])\n",
    "# data['One compartment'] = pd.concat([data['One compartment'], hyper_params_repeated_with_index])"
   ]
  },
  {
   "cell_type": "code",
   "execution_count": 99,
   "metadata": {},
   "outputs": [],
   "source": [
    "data_for_hidden_dim_analysis = pd.concat([data_for_hidden_dim_analysis, hyper_params_repeated_with_index], axis=1)"
   ]
  },
  {
   "cell_type": "code",
   "execution_count": 100,
   "metadata": {},
   "outputs": [
    {
     "data": {
      "text/plain": [
       "<Figure size 432x288 with 0 Axes>"
      ]
     },
     "metadata": {},
     "output_type": "display_data"
    },
    {
     "data": {
      "image/png": "[encoded data removed]",
      "text/plain": [
       "<Figure size 476.375x360 with 1 Axes>"
      ]
     },
     "metadata": {},
     "output_type": "display_data"
    }
   ],
   "source": [
    "title = (f'Influence of the number of units in the hidden layer\\n on validation accuracy')#, {'fontsize': 15})\n",
    "\n",
    "plt.figure()\n",
    "g = sns.relplot(data=data_for_hidden_dim_analysis, x='number of hidden units', y='accuracy', kind=\"line\", hue='model_name', palette = one_palette_for_all)\n",
    "#L = plt.legend(title='Models')\n",
    "g._legend.set_title(\"Models\")\n",
    "g.set_titles('title')\n",
    "# g._legend.texts[0].set_text(\"\")\n",
    "# g._legend.texts[1].set_text(\"\")\n",
    "# g._legend.texts[2].set_text(\"\")\n",
    "\n",
    "#plt.title(f'Influence of the number of units in the hidden layer\\n on validation accuracy', fontdict={'fontsize': 15})\n",
    "plt.xlabel(xlabel='number of hidden units',\n",
    "           fontdict={\n",
    "               'size':12\n",
    "           }\n",
    "           )\n",
    "plt.ylabel(ylabel='validation accuracy',\n",
    "           fontdict={\n",
    "               'size':12\n",
    "           },\n",
    "           )\n",
    "plt.tight_layout\n",
    "\n",
    "if save:\n",
    "    plt.savefig('../data/heidelberg_hyperparam_visual/figure6.png', dpi=dpi)\n",
    "plt.show()\n",
    "\n"
   ]
  },
  {
   "cell_type": "markdown",
   "metadata": {},
   "source": [
    "import seaborn as sns\n",
    "import matplotlib.pyplot as plt\n",
    "sns.set_theme(style=\"whitegrid\")\n",
    "tips = sns.load_dataset(\"tips\")\n",
    "\n",
    "color_palettes.reverse()\n",
    "\n",
    "for pal in color_palettes:\n",
    "    print(pal)\n",
    "    sns.barplot(x=\"day\", y=\"total_bill\", hue=\"sex\", data=tips, palette=pal)\n",
    "    plt.show()"
   ]
  }
 ],
 "metadata": {
  "kernelspec": {
   "display_name": "Python 3.8.13 ('teaching')",
   "language": "python",
   "name": "python3"
  },
  "language_info": {
   "codemirror_mode": {
    "name": "ipython",
    "version": 3
   },
   "file_extension": ".py",
   "mimetype": "text/x-python",
   "name": "python",
   "nbconvert_exporter": "python",
   "pygments_lexer": "ipython3",
   "version": "3.8.13"
  },
  "orig_nbformat": 4,
  "vscode": {
   "interpreter": {
    "hash": "2142a618935ee31125fbb97f06401dd4f60968dd5a549a21d575788564038767"
   }
  }
 },
 "nbformat": 4,
 "nbformat_minor": 2
}
